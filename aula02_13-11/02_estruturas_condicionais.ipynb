{
  "cells": [
    {
      "cell_type": "markdown",
      "id": "d021f3ab",
      "metadata": {
        "id": "d021f3ab"
      },
      "source": [
        "# Tópicos da aula\n",
        "\n",
        "- Estrutura condicional e controle de fluxo\n",
        "- Comando if\n",
        "- Comando else\n",
        "- Comando Elif"
      ]
    },
    {
      "cell_type": "markdown",
      "id": "cd0d2122",
      "metadata": {
        "id": "cd0d2122"
      },
      "source": [
        "Imagine que o critério de aprovação em uma escola seja a média superior a 7.0 e presença superior a 75%. Neste caso, o aluno precisa atender a ambos os critérios para ser aprovado. Se ele tirou uma ótima nota, mas faltou demais, será reprovado. Se ele compareceu a todas as aulas, mas teve notas baixas, idem."
      ]
    },
    {
      "cell_type": "code",
      "execution_count": 11,
      "id": "457e4bb6",
      "metadata": {
        "ExecuteTime": {
          "end_time": "2023-06-27T22:19:46.818981Z",
          "start_time": "2023-06-27T22:19:42.499776Z"
        },
        "colab": {
          "base_uri": "https://localhost:8080/"
        },
        "id": "457e4bb6",
        "outputId": "488f8685-e7ed-4cbe-a74a-e2795245a513"
      },
      "outputs": [
        {
          "name": "stdout",
          "output_type": "stream",
          "text": [
            "Insira a média do aluno: 9\n",
            "Insira a presença do aluno (0 - 1): 0.5\n",
            "Resultado:  False\n"
          ]
        }
      ],
      "source": [
        "media = float(input('Insira a média do aluno: '))\n",
        "presenca = float(input('Insira a presença do aluno (0 - 1): '))\n",
        "\n",
        "resultado = media >= 7.0 and presenca >= 0.75\n",
        "print('Resultado: ', resultado)"
      ]
    },
    {
      "cell_type": "markdown",
      "id": "570c2421",
      "metadata": {
        "id": "570c2421"
      },
      "source": [
        "|     Operador    |                            Definição                           |     Operação    |\n",
        "|:---------------:|:--------------------------------------------------------------:|:---------------:|\n",
        "|        and      |     Retorna   True se ambas as afirmações forem verdadeiras    |         e       |\n",
        "|        or       |       Retorna   True se uma das afirmações for verdadeira      |        ou       |\n",
        "|        not      |          retorna   Falso se o resultado for verdadeiro         |        não      |\n",
        "\n",
        "\n",
        "**AND** é uma conjunção lógica e o **OR** é uma disjunção lógica. O **not** é a negação lógica.\n",
        "\n",
        "| *A*   | *B*   | *A and B* | *A or B* | *not A* |\n",
        "|-------|-------|-----------|----------|---------|\n",
        "| False | False | False     | False    | True    |\n",
        "| False | True  | False     | True     | True    |\n",
        "| True  | False | False     | True     | False   |\n",
        "| True  | True  | True      | True     | False   |\n",
        "\n"
      ]
    },
    {
      "cell_type": "code",
      "execution_count": 12,
      "id": "42ed97ac",
      "metadata": {
        "ExecuteTime": {
          "end_time": "2023-06-27T22:38:57.598692Z",
          "start_time": "2023-06-27T22:38:57.590160Z"
        },
        "colab": {
          "base_uri": "https://localhost:8080/"
        },
        "id": "42ed97ac",
        "outputId": "0c6664d2-5b1b-4c11-ff9c-e4f97a1fb097"
      },
      "outputs": [
        {
          "name": "stdout",
          "output_type": "stream",
          "text": [
            "Insira a média do aluno: 9\n",
            "Insira a presença do aluno (0 - 1): 1\n",
            "Insira a menor nota do aluno:0\n",
            "Resultado:  False\n"
          ]
        }
      ],
      "source": [
        "media = float(input('Insira a média do aluno: '))\n",
        "presenca = float(input('Insira a presença do aluno (0 - 1): '))\n",
        "menor_nota = float(input('Insira a menor nota do aluno: '))\n",
        "\n",
        "\n",
        "resultado = media >= 7.0 and presenca >= 0.75 and menor_nota > 0\n",
        "print('Resultado: ', resultado)"
      ]
    },
    {
      "cell_type": "code",
      "execution_count": 15,
      "id": "5dcwYyuq1VK2",
      "metadata": {
        "colab": {
          "base_uri": "https://localhost:8080/"
        },
        "id": "5dcwYyuq1VK2",
        "outputId": "45f6e765-c833-48ef-bf6e-bb1704d398b0"
      },
      "outputs": [
        {
          "name": "stdout",
          "output_type": "stream",
          "text": [
            "Verdadeiro or Falso =  True\n",
            "True or True =  True\n",
            "False or Falso =  False\n"
          ]
        }
      ],
      "source": [
        "print('Verdadeiro or Falso = ', True or False)\n",
        "print('True or True = ', True or True)\n",
        "print('False or Falso = ', False or False)"
      ]
    },
    {
      "cell_type": "markdown",
      "id": "5e5c4511",
      "metadata": {
        "id": "5e5c4511"
      },
      "source": [
        "Será que conseguimos escrever o problema acima de uma forma mais fácil?"
      ]
    },
    {
      "cell_type": "markdown",
      "id": "0271e87f",
      "metadata": {
        "id": "0271e87f"
      },
      "source": [
        "## Estrutura condicional"
      ]
    },
    {
      "cell_type": "markdown",
      "id": "2eef494d",
      "metadata": {
        "id": "2eef494d"
      },
      "source": [
        "- if"
      ]
    },
    {
      "cell_type": "markdown",
      "id": "e50abf84",
      "metadata": {
        "id": "e50abf84"
      },
      "source": [
        "Obs.: Python é uma linguagem identada"
      ]
    },
    {
      "cell_type": "code",
      "execution_count": null,
      "id": "FOas6EKt19ER",
      "metadata": {
        "id": "FOas6EKt19ER"
      },
      "outputs": [],
      "source": [
        "# if condicao: -> Se Verdadeiro, faça algo\n",
        "#   faca_algo"
      ]
    },
    {
      "cell_type": "code",
      "execution_count": 16,
      "id": "999d0832",
      "metadata": {
        "ExecuteTime": {
          "end_time": "2023-06-27T22:47:57.433503Z",
          "start_time": "2023-06-27T22:47:53.608113Z"
        },
        "colab": {
          "base_uri": "https://localhost:8080/"
        },
        "id": "999d0832",
        "outputId": "08e9925a-f8e7-4755-da88-ebf608712494"
      },
      "outputs": [
        {
          "name": "stdout",
          "output_type": "stream",
          "text": [
            "Insira a média do aluno: 9\n",
            "Insira a presença do aluno (0 - 1): 0.8\n",
            "Aprovado\n"
          ]
        }
      ],
      "source": [
        "media = float(input('Insira a média do aluno: '))\n",
        "presenca = float(input('Insira a presença do aluno (0 - 1): '))\n",
        "\n",
        "resultado = media >= 7.0 and presenca >= 0.75\n",
        "if resultado:\n",
        "  print('Aprovado')"
      ]
    },
    {
      "cell_type": "code",
      "execution_count": 19,
      "id": "0QryYWKl2D3N",
      "metadata": {
        "colab": {
          "base_uri": "https://localhost:8080/"
        },
        "id": "0QryYWKl2D3N",
        "outputId": "df779bbd-de68-4570-a9c9-c2026b187c56"
      },
      "outputs": [
        {
          "name": "stdout",
          "output_type": "stream",
          "text": [
            "Insira a média do aluno: 5\n",
            "Insira a presença do aluno (0 - 1): 1\n",
            "Reprovado\n"
          ]
        }
      ],
      "source": [
        "media = float(input('Insira a média do aluno: '))\n",
        "presenca = float(input('Insira a presença do aluno (0 - 1): '))\n",
        "\n",
        "# Outras linguagens de programação usam: && (and), || (or)\n",
        "resultado = media >= 7.0 and presenca >= 0.75\n",
        "if resultado:\n",
        "  print('Aprovado')\n",
        "\n",
        "# Outras linguagens de programação usam: !\n",
        "if not resultado:\n",
        "  print('Reprovado')\n"
      ]
    },
    {
      "cell_type": "markdown",
      "id": "CzWpqwpe2waU",
      "metadata": {
        "id": "CzWpqwpe2waU"
      },
      "source": [
        "**else** -> Senão"
      ]
    },
    {
      "cell_type": "code",
      "execution_count": null,
      "id": "QHgsW7693kUC",
      "metadata": {
        "id": "QHgsW7693kUC"
      },
      "outputs": [],
      "source": [
        "# if condicao_verdadeira: se verdadeiro\n",
        "#   faca algo\n",
        "# else: senao\n",
        "#   faca outra coisa"
      ]
    },
    {
      "cell_type": "code",
      "execution_count": null,
      "id": "yI5IcxOn2vkg",
      "metadata": {
        "id": "yI5IcxOn2vkg"
      },
      "outputs": [],
      "source": [
        "media = float(input('Insira a média do aluno: '))\n",
        "presenca = float(input('Insira a presença do aluno (0 - 1): '))\n",
        "\n",
        "resultado = media >= 7.0 and presenca >= 0.75\n",
        "if resultado:\n",
        "  print('Aprovado')\n",
        "else:\n",
        "  print('Reprovado')\n"
      ]
    },
    {
      "cell_type": "code",
      "execution_count": 20,
      "id": "r_cM_gke4ZVn",
      "metadata": {
        "colab": {
          "base_uri": "https://localhost:8080/"
        },
        "id": "r_cM_gke4ZVn",
        "outputId": "071b1065-fd57-44ac-b29f-54100c728059"
      },
      "outputs": [
        {
          "name": "stdout",
          "output_type": "stream",
          "text": [
            "Insira a nota da prova 1: 6\n",
            "Insira a nota da prova 2: 4\n",
            "Insira a presença do aluno (0 -1): 0.8\n",
            "Recuperacao\n"
          ]
        }
      ],
      "source": [
        "nota_prova_1 = float(input('Insira a nota da prova 1: '))\n",
        "nota_prova_2 = float(input('Insira a nota da prova 2: '))\n",
        "presenca = float(input('Insira a presença do aluno (0 -1): '))\n",
        "\n",
        "media = (nota_prova_1 + nota_prova_2) / 2\n",
        "\n",
        "resultado = media >= 7.0 and presenca >= 0.75\n",
        "if resultado:\n",
        "  print('Aprovado')\n",
        "else:\n",
        "  if media >= 0.5 and presenca >= 0.75:\n",
        "    print('Recuperacao')\n",
        "  else:\n",
        "    print('Reprovado')"
      ]
    },
    {
      "cell_type": "markdown",
      "id": "-Af-f3We5fsu",
      "metadata": {
        "id": "-Af-f3We5fsu"
      },
      "source": [
        "**elif** - senão e caso condicao verdadeira"
      ]
    },
    {
      "cell_type": "code",
      "execution_count": 22,
      "id": "CsM5tlmk5b5n",
      "metadata": {
        "colab": {
          "base_uri": "https://localhost:8080/"
        },
        "id": "CsM5tlmk5b5n",
        "outputId": "8f60b991-acea-434b-a9fe-51b42ab2ae6f"
      },
      "outputs": [
        {
          "name": "stdout",
          "output_type": "stream",
          "text": [
            "Insira a nota da prova 1: 6\n",
            "Insira a nota da prova 2: 4\n",
            "Insira a presença do aluno (0 -1): 1\n",
            "Recuperacao\n"
          ]
        }
      ],
      "source": [
        "nota_prova_1 = float(input('Insira a nota da prova 1: '))\n",
        "nota_prova_2 = float(input('Insira a nota da prova 2: '))\n",
        "presenca = float(input('Insira a presença do aluno (0 -1): '))\n",
        "\n",
        "media = (nota_prova_1 + nota_prova_2) / 2\n",
        "\n",
        "resultado = media >= 7.0 and presenca >= 0.75\n",
        "if resultado:\n",
        "  print('Aprovado')\n",
        "elif media >= 5.0 and presenca >= 0.75:\n",
        "  print('Recuperacao')\n",
        "else:\n",
        "  print('Reprovado')"
      ]
    },
    {
      "cell_type": "code",
      "execution_count": 27,
      "id": "QR0YMaV25ugI",
      "metadata": {
        "colab": {
          "base_uri": "https://localhost:8080/"
        },
        "id": "QR0YMaV25ugI",
        "outputId": "fad93ad2-d7cc-4333-af44-371b016981ee"
      },
      "outputs": [
        {
          "name": "stdout",
          "output_type": "stream",
          "text": [
            "Insira a nota da prova 1: 10\n",
            "Insira a nota da prova 2: 10\n",
            "Insira a presença do aluno (0-1): 1\n",
            "Aprovado\n"
          ]
        }
      ],
      "source": [
        "nota_prova_1 = float(input('Insira a nota da prova 1: '))\n",
        "nota_prova_2 = float(input('Insira a nota da prova 2: '))\n",
        "presenca = float(input('Ins1ira a presença do aluno (0-1): '))\n",
        "\n",
        "media = (nota_prova_1 + nota_prova_2) / 2\n",
        "\n",
        "resultado = media >= 7.0 and presenca >= 0.75\n",
        "if resultado:\n",
        "  print('Aprovado')\n",
        "elif media >= 5.0 and presenca >= 0.75:\n",
        "  print('Recuperacao')\n",
        "elif media >= 4.5 and presenca >= 0.75:\n",
        "  print('Foi quase')\n",
        "else:\n",
        "  print('Reprovado')"
      ]
    },
    {
      "cell_type": "code",
      "execution_count": 29,
      "id": "Zd4n_nA8-ywt",
      "metadata": {
        "colab": {
          "base_uri": "https://localhost:8080/"
        },
        "id": "Zd4n_nA8-ywt",
        "outputId": "ce2c1d93-8575-4279-e360-a14aaf6244cf"
      },
      "outputs": [
        {
          "name": "stdout",
          "output_type": "stream",
          "text": [
            "Verdadeiro\n"
          ]
        }
      ],
      "source": [
        "if (nota_prova_1 > 0 and presenca > 0.75) and (nota_prova_2 >0 and presenca > 0.75):\n",
        "  print('Verdadeiro')"
      ]
    },
    {
      "cell_type": "code",
      "execution_count": 31,
      "id": "pandxeYR_ERK",
      "metadata": {
        "colab": {
          "base_uri": "https://localhost:8080/"
        },
        "id": "pandxeYR_ERK",
        "outputId": "1e145ae9-9492-4603-999a-7509d6c5ee0e"
      },
      "outputs": [
        {
          "name": "stdout",
          "output_type": "stream",
          "text": [
            "Verdadeiro\n"
          ]
        }
      ],
      "source": [
        "nota_prova_1 = False\n",
        "nota_prova_2 = True\n",
        "\n",
        "if (nota_prova_1 > 0 and presenca > 0.75) or (nota_prova_2 > 0 and presenca > 0.75):\n",
        "  print('Verdadeiro')"
      ]
    },
    {
      "cell_type": "code",
      "execution_count": 56,
      "id": "ufwsSNbNJ5ft",
      "metadata": {
        "colab": {
          "base_uri": "https://localhost:8080/"
        },
        "id": "ufwsSNbNJ5ft",
        "outputId": "300c8e8a-56db-475a-966c-75cfca120371"
      },
      "outputs": [
        {
          "name": "stdout",
          "output_type": "stream",
          "text": [
            "1 - O que acontece?\n",
            "0 - False\n"
          ]
        }
      ],
      "source": [
        "# Valores inteiros != 0 -> True\n",
        "if 12:\n",
        "  print('1 - O que acontece?')\n",
        "\n",
        "# Valor 0 -> False\n",
        "if 0:\n",
        "  print('0 - O que acontece?')\n",
        "else:\n",
        "  print('0 - False')"
      ]
    },
    {
      "cell_type": "code",
      "execution_count": null,
      "id": "Q3DiZgaB7lYZ",
      "metadata": {
        "id": "Q3DiZgaB7lYZ"
      },
      "outputs": [],
      "source": [
        "# try:\n",
        "#  executar bloco inteiro\n",
        "# except erro de alguma coisa:\n",
        "#  executado quando ocorre erro no bloco"
      ]
    },
    {
      "cell_type": "code",
      "execution_count": null,
      "id": "KukDObvD7AHL",
      "metadata": {
        "id": "KukDObvD7AHL"
      },
      "outputs": [],
      "source": [
        "# switch media\n",
        "#   case 7 -> faca algo\n",
        "#   case 8 -> faca outra coisa\n",
        "# default\n",
        "\n",
        "# SQL -> CASE WHEN (CONDICAO) THEN FACA ALGO\n",
        "              # WHEN (CONDICAO2)"
      ]
    },
    {
      "cell_type": "code",
      "execution_count": null,
      "id": "ezQ3Pv-j6xXH",
      "metadata": {
        "id": "ezQ3Pv-j6xXH"
      },
      "outputs": [],
      "source": [
        "# while condicao:\n",
        "#   faca isso ate a condicao ser falsa"
      ]
    },
    {
      "cell_type": "markdown",
      "id": "7c713fe7",
      "metadata": {
        "id": "7c713fe7"
      },
      "source": [
        "## Bora praticar!"
      ]
    },
    {
      "cell_type": "markdown",
      "id": "221bc557",
      "metadata": {
        "id": "221bc557"
      },
      "source": [
        "1) Faça um programa que peça a idade do usuário e imprima se ele é maior ou menor de 18 anos."
      ]
    },
    {
      "cell_type": "code",
      "execution_count": null,
      "id": "3ee80027",
      "metadata": {
        "ExecuteTime": {
          "end_time": "2023-06-28T01:13:35.677927Z",
          "start_time": "2023-06-28T01:13:33.710669Z"
        },
        "id": "3ee80027"
      },
      "outputs": [],
      "source": [
        "idade = int(input('Quantos anos você tem?'))\n",
        "\n",
        "if (idade >= 18):\n",
        "   print('maior de idade')\n",
        "else:\n",
        "   print('menor de idade')\n"
      ]
    },
    {
      "cell_type": "markdown",
      "id": "20204a13",
      "metadata": {
        "id": "20204a13"
      },
      "source": [
        "2) Faça um programa que peça um número e mostre se ele é positivo ou negativo. Alternativa: acrescentar nulo"
      ]
    },
    {
      "cell_type": "code",
      "execution_count": 33,
      "id": "7q_2r7XnBNSI",
      "metadata": {
        "colab": {
          "base_uri": "https://localhost:8080/"
        },
        "id": "7q_2r7XnBNSI",
        "outputId": "0d877b3e-3a3e-4b63-e1c9-971d069890d3"
      },
      "outputs": [
        {
          "name": "stdout",
          "output_type": "stream",
          "text": [
            "Digite um número:-1\n",
            "Seu -1 é negativo.\n"
          ]
        }
      ],
      "source": [
        "numero = int(input('Digite um número:'))\n",
        "\n",
        "if numero > 0:\n",
        "  print(f'Seu {numero} é positivo.')\n",
        "elif numero == 0:\n",
        "    print(f'Seu {numero} é nulo.')\n",
        "else:\n",
        "    print(f'Seu {numero} é negativo.')"
      ]
    },
    {
      "cell_type": "code",
      "execution_count": 32,
      "id": "xdTSBR4LAnQA",
      "metadata": {
        "colab": {
          "base_uri": "https://localhost:8080/"
        },
        "id": "xdTSBR4LAnQA",
        "outputId": "71c936ce-1429-4ae1-e054-3ace3eed569d"
      },
      "outputs": [
        {
          "name": "stdout",
          "output_type": "stream",
          "text": [
            "Digite um numero: 1\n",
            "É um número positivo\n"
          ]
        }
      ],
      "source": [
        "numero = int(input(\"Digite um numero: \"))\n",
        "if numero > 0:\n",
        "  print(\"É um número positivo\")\n",
        "elif numero < 0:\n",
        "  print(\"É um número negativo\")\n",
        "elif numero == 0:\n",
        "  print(\"Numero nulo\")"
      ]
    },
    {
      "cell_type": "code",
      "execution_count": 34,
      "id": "GxHgAUHGBf37",
      "metadata": {
        "id": "GxHgAUHGBf37"
      },
      "outputs": [],
      "source": [
        "None"
      ]
    },
    {
      "cell_type": "code",
      "execution_count": 35,
      "id": "bE8rnjpIBhi_",
      "metadata": {
        "colab": {
          "base_uri": "https://localhost:8080/"
        },
        "id": "bE8rnjpIBhi_",
        "outputId": "33706310-961d-45f4-ddc9-262e45c16a0d"
      },
      "outputs": [
        {
          "data": {
            "text/plain": [
              "NoneType"
            ]
          },
          "execution_count": 35,
          "metadata": {},
          "output_type": "execute_result"
        }
      ],
      "source": [
        "type(None)"
      ]
    },
    {
      "cell_type": "markdown",
      "id": "83f073e8",
      "metadata": {
        "id": "83f073e8"
      },
      "source": [
        "3) Faça um programa que peça dois números e mostre o maior deles.\n",
        "\n",
        "\n",
        "    3.1. Faça um programa que peça três números e mostre o maior deles."
      ]
    },
    {
      "cell_type": "code",
      "execution_count": 38,
      "id": "CJ81btH7HoNX",
      "metadata": {
        "colab": {
          "base_uri": "https://localhost:8080/"
        },
        "id": "CJ81btH7HoNX",
        "outputId": "d5b179c3-1d12-4037-b2a7-604fe05ff058"
      },
      "outputs": [
        {
          "name": "stdout",
          "output_type": "stream",
          "text": [
            "Número 1: 2\n",
            "Número 2: 2\n",
            "Número 3: 1\n"
          ]
        }
      ],
      "source": [
        "num1 = int(input(\"Número 1: \"))\n",
        "num2 = int(input(\"Número 2: \"))\n",
        "num3 = int(input(\"Número 3: \"))\n",
        "\n",
        "if num1>num2 and num1>num3:\n",
        "  print(\"O número 1 é o maior!\")\n",
        "elif num2>num1 and num2>num3:\n",
        "  print(\"O número 2 é o maior!\")\n",
        "elif num3>num1 and num3>num2:\n",
        "  print(\"O número 3 é o maior!\")"
      ]
    },
    {
      "cell_type": "markdown",
      "id": "bfdf137f",
      "metadata": {
        "ExecuteTime": {
          "end_time": "2022-10-13T02:14:01.965819Z",
          "start_time": "2022-10-13T02:14:01.958839Z"
        },
        "id": "bfdf137f"
      },
      "source": [
        "4) Faça um programa que leia a validade das informações:\n",
        "\n",
        "a. Idade: entre 0 e 150;\n",
        "\n",
        "b. Salário: maior que 0;\n",
        "\n",
        "c. Sexo: M, F ou Outro;\n",
        "\n",
        "O programa deve imprimir uma mensagem de erro para cada informação inválida."
      ]
    },
    {
      "cell_type": "code",
      "execution_count": null,
      "id": "VYIcPu65Ov7_",
      "metadata": {
        "id": "VYIcPu65Ov7_"
      },
      "outputs": [],
      "source": [
        "idade = int(input('Idade: '))\n",
        "if not (0 <= idade <= 150):\n",
        "    print('Erro: A idade deve estar entre 0 e 150.')\n",
        "\n",
        "# Entrada de salário\n",
        "salario = float(input('Salário: '))\n",
        "if salario <= 0:\n",
        "    print('Erro: O salário deve ser maior que 0.')\n",
        "\n",
        "\n",
        "sexo = input('Sexo (M, F, ou Outro): ')\n",
        "if sexo not in ['M', 'F', 'Outro']:\n",
        "    print('Erro: O sexo deve ser M, F, ou Outro.')"
      ]
    },
    {
      "cell_type": "markdown",
      "id": "4171857e",
      "metadata": {
        "id": "4171857e"
      },
      "source": [
        "5) Escreva um programa que peça a nota de 3 provas de um aluno e verifique se ele passou ou não de ano.\n",
        "Obs.: O aluno irá passar de ano se sua média for maior que 6."
      ]
    },
    {
      "cell_type": "code",
      "execution_count": null,
      "metadata": {},
      "outputs": [],
      "source": [
        "nota1 = float(input('Primeira nota: '))\n",
        "nota2 = float(input('Segunda nota: '))\n",
        "nota3 = float(input('Terceira nota: '))\n",
        "\n",
        "media = (nota1 + nota2 + nota3) / 3\n",
        "\n",
        "if media > 6:\n",
        "    print('Situação: Aprovado')\n",
        "else:\n",
        "    print('Situação: Reprovado')"
      ]
    },
    {
      "cell_type": "markdown",
      "id": "f23c8b47",
      "metadata": {
        "id": "f23c8b47"
      },
      "source": [
        "6) Faça um programa que mostre uma questão de múltipla escolha com 5 opções (letras a, b, c, d, e).\n",
        "Sabendo a resposta certa, o programa deve receber a opção do usuário e informar a letra que o usuário marcou e se a resposta está certa ou errada."
      ]
    },
    {
      "cell_type": "code",
      "execution_count": 71,
      "id": "oM6YYEccQvBN",
      "metadata": {
        "colab": {
          "base_uri": "https://localhost:8080/"
        },
        "id": "oM6YYEccQvBN",
        "outputId": "e3612a7a-9a53-467b-f622-33bfb2ec03ea"
      },
      "outputs": [
        {
          "name": "stdout",
          "output_type": "stream",
          "text": [
            "Quebra\n",
            "de\n",
            "linha\n",
            "Tabulação\t ola\n",
            "Nome1\t| Nome2\t\n",
            "Valor1\t| Valor2\t\n"
          ]
        }
      ],
      "source": [
        "print('Quebra\\nde\\nlinha')\n",
        "print('Tabulação\\t ola')\n",
        "print('Nome1\\t| Nome2\\t')\n",
        "print('Valor1\\t| Valor2\\t')"
      ]
    },
    {
      "cell_type": "code",
      "execution_count": 67,
      "id": "T_YdytsaQlXl",
      "metadata": {
        "colab": {
          "base_uri": "https://localhost:8080/"
        },
        "id": "T_YdytsaQlXl",
        "outputId": "49024e25-33d2-40bb-a7a2-37b09bb3c485"
      },
      "outputs": [
        {
          "name": "stdout",
          "output_type": "stream",
          "text": [
            "Escolha a opção correta:\n",
            " a)2 + 2 = 4\n",
            " b)3 > 5\n",
            " c)1 < 0\n",
            " d)1 - 1 = 2\n",
            " e)1 + 1 > 4: a\n"
          ]
        }
      ],
      "source": [
        "resposta = input('Escolha a opção correta:\\n a)2 + 2 = 4\\n b)3 > 5\\n c)1 < 0\\n d)1 - 1 = 2\\n e)1 + 1 > 4: ')"
      ]
    },
    {
      "cell_type": "code",
      "execution_count": 74,
      "id": "QOdLAIOGRK-5",
      "metadata": {
        "colab": {
          "base_uri": "https://localhost:8080/",
          "height": 53
        },
        "id": "QOdLAIOGRK-5",
        "outputId": "3a725d8b-45fd-4ebc-9433-f63f5773199f"
      },
      "outputs": [
        {
          "name": "stdout",
          "output_type": "stream",
          "text": [
            "Qual é a alternativa correta?(A/B/C/D)     a     \n"
          ]
        },
        {
          "data": {
            "application/vnd.google.colaboratory.intrinsic+json": {
              "type": "string"
            },
            "text/plain": [
              "'A'"
            ]
          },
          "execution_count": 74,
          "metadata": {},
          "output_type": "execute_result"
        }
      ],
      "source": [
        "# str(input('Qual é a alternativa correta?(A/B/C/D)')).strip().upper() # input retorna uma string\n",
        "# Strip ignora os espaços\n",
        "input('Qual é a alternativa correta?(A/B/C/D)').strip().upper()"
      ]
    },
    {
      "cell_type": "code",
      "execution_count": 81,
      "id": "8PJKLfzGRigT",
      "metadata": {
        "colab": {
          "base_uri": "https://localhost:8080/"
        },
        "id": "8PJKLfzGRigT",
        "outputId": "f7be28eb-8835-4e2c-f470-f05eef988661"
      },
      "outputs": [
        {
          "name": "stdout",
          "output_type": "stream",
          "text": [
            "|23 a 23|\n",
            "|23 a 23  |\n",
            "|   23 a 23|\n"
          ]
        }
      ],
      "source": [
        "print('|', '   23 a 23  '.strip(), '|', sep='')\n",
        "print('|', '   23 a 23  '.lstrip(), '|', sep='')\n",
        "print('|', '   23 a 23  '.rstrip(), '|', sep='')"
      ]
    },
    {
      "cell_type": "code",
      "execution_count": null,
      "metadata": {},
      "outputs": [],
      "source": [
        "print('Qual é a capital do Brasil?\\na) Buenos Aires\\nb) Santiago\\nc) Brasília\\nd) Rio de Janeiro\\ne) Lima')\n",
        "\n",
        "resposta_correta = 'c'\n",
        "\n",
        "resposta_do_usuario = input('Resposta: ')\n",
        "\n",
        "if resposta_do_usuario == resposta_correta:\n",
        "    print('CORRETO!')\n",
        "else:\n",
        "    print('Tente novamente.')"
      ]
    },
    {
      "cell_type": "markdown",
      "id": "00edeaec",
      "metadata": {
        "id": "00edeaec"
      },
      "source": [
        "7)\n",
        "Vamos fazer um programa para verificar quem é o assassino de um crime. Para descobrir o assassino,\n",
        "a polícia faz um pequeno questionário com 5 perguntas\n",
        "onde a resposta só pode ser sim ou não:\n",
        "\n",
        "a. Mora perto da vítima?\n",
        "\n",
        "b. Já trabalhou com a vítima?\n",
        "\n",
        "c. Telefonou para a vítima?\n",
        "\n",
        "d. Esteve no local do crime?\n",
        "\n",
        "e. Devia para a vítima?\n",
        "\n",
        "Cada resposta sim dá um ponto para o suspeito. A polícia considera que os suspeitos com 5 pontos são os assassinos, com 4 a 3 pontos\n",
        "são cúmplices e 2 pontos são apenas suspeitos, necessitando outras investigações. Valores iguais ou abaixo de 1 são liberados.'''"
      ]
    },
    {
      "cell_type": "code",
      "execution_count": null,
      "id": "fa67925d",
      "metadata": {
        "ExecuteTime": {
          "end_time": "2023-06-28T01:29:32.268938Z",
          "start_time": "2023-06-28T01:29:26.252661Z"
        },
        "id": "fa67925d"
      },
      "outputs": [],
      "source": [
        "print('Responda sim ou não: ')\n",
        "pontuacao = 0\n",
        "\n",
        "resposta_a = input('Você mora perto da vítima?')\n",
        "\n",
        "if resposta_a.lower() == 'sim':\n",
        "    pontuacao += 1\n",
        "\n",
        "resposta_b = input('Você trabalhou com a vítima?')\n",
        "\n",
        "if resposta_b.lower() == 'sim':\n",
        "    pontuacao += 1\n",
        "\n",
        "resposta_c = input('Você ligou para a vítima?')\n",
        "\n",
        "if resposta_c.lower() == 'sim':\n",
        "    pontuacao += 1\n",
        "\n",
        "resposta_d = input('Você estava no local do crime?')\n",
        "\n",
        "if resposta_d.lower() == 'sim':\n",
        "    pontuacao += 1\n",
        "\n",
        "resposta_e = input('Deveria ir para a vítima?')\n",
        "\n",
        "if resposta_e.lower() == 'sim':\n",
        "    pontuacao += 1\n",
        "\n",
        "\n",
        "if pontuacao == 5:\n",
        "    print('O suspeito é o assassino.')\n",
        "elif pontuacao >= 3 and pontuacao <= 4:\n",
        "    print('O suspeito é um cúmplice.')\n",
        "elif pontuacao == 2:\n",
        "    print('O suspeito é apenas um suspeito, requerendo mais investigações.')\n",
        "else:\n",
        "    print('O suspeito é liberado.')"
      ]
    },
    {
      "cell_type": "markdown",
      "id": "d68cb36b",
      "metadata": {
        "ExecuteTime": {
          "end_time": "2022-10-13T02:15:54.837527Z",
          "start_time": "2022-10-13T02:15:54.826530Z"
        },
        "id": "d68cb36b"
      },
      "source": [
        "8) Um produto vai sofrer aumento de acordo com a Tabela 1 abaixo. Faça um programa que peça para o usuário digitar o valor do produto de acordo\n",
        "com o preço antigo e escreva uma das mensagens da Tabela 2, de acordo com o preço reajustado:\n",
        "\n",
        "Tabela 1\n",
        "\n",
        "| Preço Antigo         | % de aumento |\n",
        "|----------------------|--------------|\n",
        "| Até 50 reais         | 5%           |\n",
        "| Entre 50 e 100 reais | 10%          |\n",
        "| De 100 a 150 reais   | 13%          |\n",
        "| Acima de 150 reais   | 15%          |\n",
        "\n",
        "Tabela 2\n",
        "\n",
        "| Preço Novo            | Mensagem   |\n",
        "|-----------------------|------------|\n",
        "| Até 80 reais          | Barato     |\n",
        "| Entre 80 e 115 reais  | Razoável   |\n",
        "| Entre 115 e 150 reais | Normal     |\n",
        "| Entre 150 e 170 reais | Caro       |\n",
        "| Acima de 170 reais    | Muito Caro |"
      ]
    },
    {
      "cell_type": "code",
      "execution_count": null,
      "metadata": {},
      "outputs": [],
      "source": [
        "preco_antigo = float(input('Por favor, insira o preço antigo do produto: '))\n",
        "\n",
        "if preco_antigo <= 50:\n",
        "    novo_preco = preco_antigo * 1.05\n",
        "elif preco_antigo <= 100:\n",
        "    novo_preco = preco_antigo * 1.10\n",
        "elif preco_antigo <= 150:\n",
        "    novo_preco = preco_antigo * 1.13\n",
        "else:\n",
        "    novo_preco = preco_antigo * 1.15\n",
        "\n",
        "# Imprime uma mensagem baseada no novo preço\n",
        "if novo_preco <= 80:\n",
        "    print('Barato')\n",
        "elif novo_preco <= 115:\n",
        "    print('Razoável')\n",
        "elif novo_preco <= 150:\n",
        "    print('Normal')\n",
        "elif novo_preco <= 170:\n",
        "    print('Caro')\n",
        "else:\n",
        "    print('Muito Caro')"
      ]
    },
    {
      "cell_type": "markdown",
      "id": "e1ceb826",
      "metadata": {
        "id": "e1ceb826"
      },
      "source": [
        "9) Desafio 1 - Faça um programa que leia 3 números e informe o maior deles."
      ]
    },
    {
      "cell_type": "code",
      "execution_count": null,
      "id": "62f6041c",
      "metadata": {
        "ExecuteTime": {
          "end_time": "2023-06-28T01:05:50.121938Z",
          "start_time": "2023-06-28T01:05:48.033080Z"
        },
        "id": "62f6041c"
      },
      "outputs": [],
      "source": [
        "num1 = float(input('Primeiro número: '))\n",
        "num2 = float(input('Segundo número: '))\n",
        "num3 = float(input('Terceiro número: '))\n",
        "\n",
        "if num1 >= num2 and num1 >= num3:\n",
        "    print(f'O maior número é: {num1}')\n",
        "elif num2 >= num1 and num2 >= num3:\n",
        "    print(f'O maior número é: {num2}')\n",
        "else:\n",
        "    print(f'O maior número é: {num3}')"
      ]
    },
    {
      "cell_type": "markdown",
      "id": "c372e30c",
      "metadata": {
        "id": "c372e30c"
      },
      "source": [
        "10. Faça um Programa que pergunte em que turno você estuda. Peça para digitar M-matutino ou V-Vespertino ou N- Noturno. Imprima a mensagem \"Bom Dia!\", \"Boa Tarde!\" ou \"Boa Noite!\" ou \"Valor Inválido!\", conforme o caso."
      ]
    },
    {
      "cell_type": "code",
      "execution_count": null,
      "id": "c69f9538",
      "metadata": {
        "id": "c69f9538"
      },
      "outputs": [],
      "source": [
        "turno = input('Por favor, insira seu turno (M - Manhã, V - Tarde, N - Noite): ')\n",
        "\n",
        "if turno == 'M':\n",
        "    print(\"Bom dia!\")\n",
        "elif turno == 'V':\n",
        "    print(\"Boa tarde!\")\n",
        "elif turno == 'N':\n",
        "    print(\"Boa noite!\")\n",
        "else:\n",
        "    print(\"Valor inválido!\")"
      ]
    },
    {
      "cell_type": "markdown",
      "id": "abe7ef83",
      "metadata": {
        "id": "abe7ef83"
      },
      "source": [
        "11. Crie um programa que receba um número e imprima \"fizz\" se o número for multiplo de 3, \"buzz\" se for multiplo de 5 e \"fizzbuzz\" se for multiplo de 3 e 5"
      ]
    },
    {
      "cell_type": "code",
      "execution_count": null,
      "id": "b41be0e1",
      "metadata": {
        "id": "b41be0e1"
      },
      "outputs": [],
      "source": [
        "num = int(input('Por favor, insira um número: '))\n",
        "\n",
        "if num % 3 == 0 and num % 5 == 0:\n",
        "    print('fizzbuzz')\n",
        "elif num % 3 == 0:\n",
        "    print('fizz')\n",
        "elif num % 5 == 0:\n",
        "    print('buzz')\n",
        "else:\n",
        "    print(num)"
      ]
    },
    {
      "cell_type": "markdown",
      "id": "a8535bbc",
      "metadata": {
        "id": "a8535bbc"
      },
      "source": [
        "12. Faça um Programa que leia um número e exiba o dia correspondente da semana. (1-Domingo, 2- Segunda, etc.), se digitar outro valor deve aparecer valor inválido."
      ]
    },
    {
      "cell_type": "code",
      "execution_count": null,
      "id": "c16333dc",
      "metadata": {
        "id": "c16333dc"
      },
      "outputs": [],
      "source": [
        "num = int(input('Insira um número entre 1 e 7: '))\n",
        "\n",
        "if num == 1:\n",
        "    print('Domingo')\n",
        "elif num == 2:\n",
        "    print('Segunda-feira')\n",
        "elif num == 3:\n",
        "    print('Terça-feira')\n",
        "elif num == 4:\n",
        "    print('Quarta-feira')\n",
        "elif num == 5:\n",
        "    print('Quinta-feira')\n",
        "elif num == 6:\n",
        "    print('Sexta-feira')\n",
        "elif num == 7:\n",
        "    print('Sábado')\n",
        "else:\n",
        "    print('Valor inválido')"
      ]
    },
    {
      "cell_type": "markdown",
      "id": "fc560bbc",
      "metadata": {
        "id": "fc560bbc"
      },
      "source": [
        "13. Faça um programa que pergunte o preço de três produtos e informe qual produto você deve comprar, sabendo que a decisão é sempre pelo mais barato."
      ]
    },
    {
      "cell_type": "code",
      "execution_count": null,
      "id": "7c2d05ae",
      "metadata": {
        "id": "7c2d05ae"
      },
      "outputs": [],
      "source": [
        "# Solicite o preço de três produtos\n",
        "preco1 = float(input('Preço do primeiro produto: '))\n",
        "preco2 = float(input('Preço do segundo produto: '))\n",
        "preco3 = float(input('Preço do terceiro produto: '))\n",
        "\n",
        "# Determine qual produto é o mais barato\n",
        "if preco1 < preco2 and preco1 < preco3:\n",
        "    print('Você deve comprar o primeiro produto.')\n",
        "elif preco2 < preco1 and preco2 < preco3:\n",
        "    print('Você deve comprar o segundo produto.')\n",
        "else:\n",
        "    print('Você deve comprar o terceiro produto.')"
      ]
    },
    {
      "cell_type": "markdown",
      "id": "9989468c",
      "metadata": {
        "id": "9989468c"
      },
      "source": []
    }
  ],
  "metadata": {
    "colab": {
      "provenance": []
    },
    "kernelspec": {
      "display_name": "Python 3 (ipykernel)",
      "language": "python",
      "name": "python3"
    },
    "language_info": {
      "codemirror_mode": {
        "name": "ipython",
        "version": 3
      },
      "file_extension": ".py",
      "mimetype": "text/x-python",
      "name": "python",
      "nbconvert_exporter": "python",
      "pygments_lexer": "ipython3",
      "version": "3.10.2"
    },
    "latex_envs": {
      "LaTeX_envs_menu_present": true,
      "autoclose": false,
      "autocomplete": true,
      "bibliofile": "biblio.bib",
      "cite_by": "apalike",
      "current_citInitial": 1,
      "eqLabelWithNumbers": true,
      "eqNumInitial": 1,
      "hotkeys": {
        "equation": "Ctrl-E",
        "itemize": "Ctrl-I"
      },
      "labels_anchors": false,
      "latex_user_defs": false,
      "report_style_numbering": false,
      "user_envs_cfg": false
    },
    "toc": {
      "base_numbering": 1,
      "nav_menu": {},
      "number_sections": true,
      "sideBar": true,
      "skip_h1_title": false,
      "title_cell": "Table of Contents",
      "title_sidebar": "Contents",
      "toc_cell": false,
      "toc_position": {},
      "toc_section_display": true,
      "toc_window_display": false
    },
    "varInspector": {
      "cols": {
        "lenName": 16,
        "lenType": 16,
        "lenVar": 40
      },
      "kernels_config": {
        "python": {
          "delete_cmd_postfix": "",
          "delete_cmd_prefix": "del ",
          "library": "var_list.py",
          "varRefreshCmd": "print(var_dic_list())"
        },
        "r": {
          "delete_cmd_postfix": ") ",
          "delete_cmd_prefix": "rm(",
          "library": "var_list.r",
          "varRefreshCmd": "cat(var_dic_list()) "
        }
      },
      "types_to_exclude": [
        "module",
        "function",
        "builtin_function_or_method",
        "instance",
        "_Feature"
      ],
      "window_display": false
    },
    "vscode": {
      "interpreter": {
        "hash": "5c66de18c091297d67c9a295278ca9503b5163a383fa85591c3cdb6daec33020"
      }
    }
  },
  "nbformat": 4,
  "nbformat_minor": 5
}
