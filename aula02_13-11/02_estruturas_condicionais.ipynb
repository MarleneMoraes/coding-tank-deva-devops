{
  "cells": [
    {
      "cell_type": "markdown",
      "id": "d021f3ab",
      "metadata": {
        "id": "d021f3ab"
      },
      "source": [
        "# Tópicos da aula\n",
        "\n",
        "- Estrutura condicional e controle de fluxo\n",
        "- Comando if\n",
        "- Comando else\n",
        "- Comando Elif"
      ]
    },
    {
      "cell_type": "markdown",
      "id": "cd0d2122",
      "metadata": {
        "id": "cd0d2122"
      },
      "source": [
        "Imagine que o critério de aprovação em uma escola seja a média superior a 7.0 e presença superior a 75%. Neste caso, o aluno precisa atender a ambos os critérios para ser aprovado. Se ele tirou uma ótima nota, mas faltou demais, será reprovado. Se ele compareceu a todas as aulas, mas teve notas baixas, idem."
      ]
    },
    {
      "cell_type": "code",
      "execution_count": 11,
      "id": "457e4bb6",
      "metadata": {
        "ExecuteTime": {
          "end_time": "2023-06-27T22:19:46.818981Z",
          "start_time": "2023-06-27T22:19:42.499776Z"
        },
        "colab": {
          "base_uri": "https://localhost:8080/"
        },
        "id": "457e4bb6",
        "outputId": "488f8685-e7ed-4cbe-a74a-e2795245a513"
      },
      "outputs": [
        {
          "output_type": "stream",
          "name": "stdout",
          "text": [
            "Insira a média do aluno: 9\n",
            "Insira a presença do aluno (0 - 1): 0.5\n",
            "Resultado:  False\n"
          ]
        }
      ],
      "source": [
        "media = float(input('Insira a média do aluno: '))\n",
        "presenca = float(input('Insira a presença do aluno (0 - 1): '))\n",
        "\n",
        "resultado = media >= 7.0 and presenca >= 0.75\n",
        "print('Resultado: ', resultado)"
      ]
    },
    {
      "cell_type": "markdown",
      "id": "570c2421",
      "metadata": {
        "id": "570c2421"
      },
      "source": [
        "|     Operador    |                            Definição                           |     Operação    |\n",
        "|:---------------:|:--------------------------------------------------------------:|:---------------:|\n",
        "|        and      |     Retorna   True se ambas as afirmações forem verdadeiras    |         e       |\n",
        "|        or       |       Retorna   True se uma das afirmações for verdadeira      |        ou       |\n",
        "|        not      |          retorna   Falso se o resultado for verdadeiro         |        não      |\n",
        "\n",
        "\n",
        "**AND** é uma conjunção lógica e o **OR** é uma disjunção lógica. O **not** é a negação lógica.\n",
        "\n",
        "| *A*   | *B*   | *A and B* | *A or B* | *not A* |\n",
        "|-------|-------|-----------|----------|---------|\n",
        "| False | False | False     | False    | True    |\n",
        "| False | True  | False     | True     | True    |\n",
        "| True  | False | False     | True     | False   |\n",
        "| True  | True  | True      | True     | False   |\n",
        "\n"
      ]
    },
    {
      "cell_type": "code",
      "execution_count": 12,
      "id": "42ed97ac",
      "metadata": {
        "ExecuteTime": {
          "end_time": "2023-06-27T22:38:57.598692Z",
          "start_time": "2023-06-27T22:38:57.590160Z"
        },
        "colab": {
          "base_uri": "https://localhost:8080/"
        },
        "id": "42ed97ac",
        "outputId": "0c6664d2-5b1b-4c11-ff9c-e4f97a1fb097"
      },
      "outputs": [
        {
          "output_type": "stream",
          "name": "stdout",
          "text": [
            "Insira a média do aluno: 9\n",
            "Insira a presença do aluno (0 - 1): 1\n",
            "Insira a menor nota do aluno:0\n",
            "Resultado:  False\n"
          ]
        }
      ],
      "source": [
        "media = float(input('Insira a média do aluno: '))\n",
        "presenca = float(input('Insira a presença do aluno (0 - 1): '))\n",
        "menor_nota = float(input('Insira a menor nota do aluno: '))\n",
        "\n",
        "\n",
        "resultado = media >= 7.0 and presenca >= 0.75 and menor_nota > 0\n",
        "print('Resultado: ', resultado)"
      ]
    },
    {
      "cell_type": "code",
      "source": [],
      "metadata": {
        "id": "QHmqtOX81fqV"
      },
      "id": "QHmqtOX81fqV",
      "execution_count": null,
      "outputs": []
    },
    {
      "cell_type": "code",
      "source": [
        "print('Verdadeiro or Falso = ', True or False)\n",
        "print('True or True = ', True or True)\n",
        "print('False or Falso = ', False or False)"
      ],
      "metadata": {
        "colab": {
          "base_uri": "https://localhost:8080/"
        },
        "id": "5dcwYyuq1VK2",
        "outputId": "45f6e765-c833-48ef-bf6e-bb1704d398b0"
      },
      "id": "5dcwYyuq1VK2",
      "execution_count": 15,
      "outputs": [
        {
          "output_type": "stream",
          "name": "stdout",
          "text": [
            "Verdadeiro or Falso =  True\n",
            "True or True =  True\n",
            "False or Falso =  False\n"
          ]
        }
      ]
    },
    {
      "cell_type": "markdown",
      "id": "5e5c4511",
      "metadata": {
        "id": "5e5c4511"
      },
      "source": [
        "Será que conseguimos escrever o problema acima de uma forma mais fácil?"
      ]
    },
    {
      "cell_type": "markdown",
      "id": "0271e87f",
      "metadata": {
        "id": "0271e87f"
      },
      "source": [
        "## Estrutura condicional"
      ]
    },
    {
      "cell_type": "markdown",
      "id": "2eef494d",
      "metadata": {
        "id": "2eef494d"
      },
      "source": [
        "- if"
      ]
    },
    {
      "cell_type": "markdown",
      "id": "e50abf84",
      "metadata": {
        "id": "e50abf84"
      },
      "source": [
        "Obs.: Python é uma linguagem identada"
      ]
    },
    {
      "cell_type": "code",
      "source": [
        "# if condicao: -> Se Verdadeiro, faça algo\n",
        "#   faca_algo"
      ],
      "metadata": {
        "id": "FOas6EKt19ER"
      },
      "id": "FOas6EKt19ER",
      "execution_count": null,
      "outputs": []
    },
    {
      "cell_type": "code",
      "execution_count": 16,
      "id": "999d0832",
      "metadata": {
        "ExecuteTime": {
          "end_time": "2023-06-27T22:47:57.433503Z",
          "start_time": "2023-06-27T22:47:53.608113Z"
        },
        "colab": {
          "base_uri": "https://localhost:8080/"
        },
        "id": "999d0832",
        "outputId": "08e9925a-f8e7-4755-da88-ebf608712494"
      },
      "outputs": [
        {
          "output_type": "stream",
          "name": "stdout",
          "text": [
            "Insira a média do aluno: 9\n",
            "Insira a presença do aluno (0 - 1): 0.8\n",
            "Aprovado\n"
          ]
        }
      ],
      "source": [
        "media = float(input('Insira a média do aluno: '))\n",
        "presenca = float(input('Insira a presença do aluno (0 - 1): '))\n",
        "\n",
        "resultado = media >= 7.0 and presenca >= 0.75\n",
        "if resultado:\n",
        "  print('Aprovado')"
      ]
    },
    {
      "cell_type": "code",
      "source": [
        "media = float(input('Insira a média do aluno: '))\n",
        "presenca = float(input('Insira a presença do aluno (0 - 1): '))\n",
        "\n",
        "# Outras linguagens de programação usam: && (and), || (or)\n",
        "resultado = media >= 7.0 and presenca >= 0.75\n",
        "if resultado:\n",
        "  print('Aprovado')\n",
        "\n",
        "# Outras linguagens de programação usam: !\n",
        "if not resultado:\n",
        "  print('Reprovado')\n"
      ],
      "metadata": {
        "colab": {
          "base_uri": "https://localhost:8080/"
        },
        "id": "0QryYWKl2D3N",
        "outputId": "df779bbd-de68-4570-a9c9-c2026b187c56"
      },
      "id": "0QryYWKl2D3N",
      "execution_count": 19,
      "outputs": [
        {
          "output_type": "stream",
          "name": "stdout",
          "text": [
            "Insira a média do aluno: 5\n",
            "Insira a presença do aluno (0 - 1): 1\n",
            "Reprovado\n"
          ]
        }
      ]
    },
    {
      "cell_type": "markdown",
      "source": [
        "**else** -> Senão"
      ],
      "metadata": {
        "id": "CzWpqwpe2waU"
      },
      "id": "CzWpqwpe2waU"
    },
    {
      "cell_type": "code",
      "source": [
        "# if condicao_verdadeira: se verdadeiro\n",
        "#   faca algo\n",
        "# else: senao\n",
        "#   faca outra coisa"
      ],
      "metadata": {
        "id": "QHgsW7693kUC"
      },
      "id": "QHgsW7693kUC",
      "execution_count": null,
      "outputs": []
    },
    {
      "cell_type": "code",
      "source": [
        "media = float(input('Insira a média do aluno: '))\n",
        "presenca = float(input('Insira a presença do aluno (0 - 1): '))\n",
        "\n",
        "resultado = media >= 7.0 and presenca >= 0.75\n",
        "if resultado:\n",
        "  print('Aprovado')\n",
        "else:\n",
        "  print('Reprovado')\n"
      ],
      "metadata": {
        "id": "yI5IcxOn2vkg"
      },
      "id": "yI5IcxOn2vkg",
      "execution_count": null,
      "outputs": []
    },
    {
      "cell_type": "code",
      "source": [
        "nota_prova_1 = float(input('Insira a nota da prova 1: '))\n",
        "nota_prova_2 = float(input('Insira a nota da prova 2: '))\n",
        "presenca = float(input('Insira a presença do aluno (0 -1): '))\n",
        "\n",
        "media = (nota_prova_1 + nota_prova_2) / 2\n",
        "\n",
        "resultado = media >= 7.0 and presenca >= 0.75\n",
        "if resultado:\n",
        "  print('Aprovado')\n",
        "else:\n",
        "  if media >= 0.5 and presenca >= 0.75:\n",
        "    print('Recuperacao')\n",
        "  else:\n",
        "    print('Reprovado')"
      ],
      "metadata": {
        "colab": {
          "base_uri": "https://localhost:8080/"
        },
        "id": "r_cM_gke4ZVn",
        "outputId": "071b1065-fd57-44ac-b29f-54100c728059"
      },
      "id": "r_cM_gke4ZVn",
      "execution_count": 20,
      "outputs": [
        {
          "output_type": "stream",
          "name": "stdout",
          "text": [
            "Insira a nota da prova 1: 6\n",
            "Insira a nota da prova 2: 4\n",
            "Insira a presença do aluno (0 -1): 0.8\n",
            "Recuperacao\n"
          ]
        }
      ]
    },
    {
      "cell_type": "markdown",
      "source": [
        "**elif** - senão e caso condicao verdadeira"
      ],
      "metadata": {
        "id": "-Af-f3We5fsu"
      },
      "id": "-Af-f3We5fsu"
    },
    {
      "cell_type": "code",
      "source": [
        "nota_prova_1 = float(input('Insira a nota da prova 1: '))\n",
        "nota_prova_2 = float(input('Insira a nota da prova 2: '))\n",
        "presenca = float(input('Insira a presença do aluno (0 -1): '))\n",
        "\n",
        "media = (nota_prova_1 + nota_prova_2) / 2\n",
        "\n",
        "resultado = media >= 7.0 and presenca >= 0.75\n",
        "if resultado:\n",
        "  print('Aprovado')\n",
        "elif media >= 5.0 and presenca >= 0.75:\n",
        "  print('Recuperacao')\n",
        "else:\n",
        "  print('Reprovado')"
      ],
      "metadata": {
        "colab": {
          "base_uri": "https://localhost:8080/"
        },
        "id": "CsM5tlmk5b5n",
        "outputId": "8f60b991-acea-434b-a9fe-51b42ab2ae6f"
      },
      "id": "CsM5tlmk5b5n",
      "execution_count": 22,
      "outputs": [
        {
          "output_type": "stream",
          "name": "stdout",
          "text": [
            "Insira a nota da prova 1: 6\n",
            "Insira a nota da prova 2: 4\n",
            "Insira a presença do aluno (0 -1): 1\n",
            "Recuperacao\n"
          ]
        }
      ]
    },
    {
      "cell_type": "code",
      "source": [
        "nota_prova_1 = float(input('Insira a nota da prova 1: '))\n",
        "nota_prova_2 = float(input('Insira a nota da prova 2: '))\n",
        "presenca = float(input('Ins1ira a presença do aluno (0-1): '))\n",
        "\n",
        "media = (nota_prova_1 + nota_prova_2) / 2\n",
        "\n",
        "resultado = media >= 7.0 and presenca >= 0.75\n",
        "if resultado:\n",
        "  print('Aprovado')\n",
        "elif media >= 5.0 and presenca >= 0.75:\n",
        "  print('Recuperacao')\n",
        "elif media >= 4.5 and presenca >= 0.75:\n",
        "  print('Foi quase')\n",
        "else:\n",
        "  print('Reprovado')"
      ],
      "metadata": {
        "colab": {
          "base_uri": "https://localhost:8080/"
        },
        "id": "QR0YMaV25ugI",
        "outputId": "fad93ad2-d7cc-4333-af44-371b016981ee"
      },
      "id": "QR0YMaV25ugI",
      "execution_count": 27,
      "outputs": [
        {
          "output_type": "stream",
          "name": "stdout",
          "text": [
            "Insira a nota da prova 1: 10\n",
            "Insira a nota da prova 2: 10\n",
            "Insira a presença do aluno (0-1): 1\n",
            "Aprovado\n"
          ]
        }
      ]
    },
    {
      "cell_type": "code",
      "source": [
        "if (nota_prova_1 > 0 and presenca > 0.75) and (nota_prova_2 >0 and presenca > 0.75):\n",
        "  print('Verdadeiro')"
      ],
      "metadata": {
        "colab": {
          "base_uri": "https://localhost:8080/"
        },
        "id": "Zd4n_nA8-ywt",
        "outputId": "ce2c1d93-8575-4279-e360-a14aaf6244cf"
      },
      "id": "Zd4n_nA8-ywt",
      "execution_count": 29,
      "outputs": [
        {
          "output_type": "stream",
          "name": "stdout",
          "text": [
            "Verdadeiro\n"
          ]
        }
      ]
    },
    {
      "cell_type": "code",
      "source": [
        "nota_prova_1 = False\n",
        "nota_prova_2 = True\n",
        "\n",
        "if (nota_prova_1 > 0 and presenca > 0.75) or (nota_prova_2 > 0 and presenca > 0.75):\n",
        "  print('Verdadeiro')"
      ],
      "metadata": {
        "colab": {
          "base_uri": "https://localhost:8080/"
        },
        "id": "pandxeYR_ERK",
        "outputId": "1e145ae9-9492-4603-999a-7509d6c5ee0e"
      },
      "id": "pandxeYR_ERK",
      "execution_count": 31,
      "outputs": [
        {
          "output_type": "stream",
          "name": "stdout",
          "text": [
            "Verdadeiro\n"
          ]
        }
      ]
    },
    {
      "cell_type": "code",
      "source": [
        "# Valores inteiros != 0 -> True\n",
        "if 12:\n",
        "  print('1 - O que acontece?')\n",
        "\n",
        "# Valor 0 -> False\n",
        "if 0:\n",
        "  print('0 - O que acontece?')\n",
        "else:\n",
        "  print('0 - False')"
      ],
      "metadata": {
        "colab": {
          "base_uri": "https://localhost:8080/"
        },
        "id": "ufwsSNbNJ5ft",
        "outputId": "300c8e8a-56db-475a-966c-75cfca120371"
      },
      "id": "ufwsSNbNJ5ft",
      "execution_count": 56,
      "outputs": [
        {
          "output_type": "stream",
          "name": "stdout",
          "text": [
            "1 - O que acontece?\n",
            "0 - False\n"
          ]
        }
      ]
    },
    {
      "cell_type": "code",
      "source": [
        "# try:\n",
        "#  executar bloco inteiro\n",
        "# except erro de alguma coisa:\n",
        "#  executado quando ocorre erro no bloco"
      ],
      "metadata": {
        "id": "Q3DiZgaB7lYZ"
      },
      "id": "Q3DiZgaB7lYZ",
      "execution_count": null,
      "outputs": []
    },
    {
      "cell_type": "code",
      "source": [
        "# switch media\n",
        "#   case 7 -> faca algo\n",
        "#   case 8 -> faca outra coisa\n",
        "# default\n",
        "\n",
        "# SQL -> CASE WHEN (CONDICAO) THEN FACA ALGO\n",
        "              # WHEN (CONDICAO2)"
      ],
      "metadata": {
        "id": "KukDObvD7AHL"
      },
      "id": "KukDObvD7AHL",
      "execution_count": null,
      "outputs": []
    },
    {
      "cell_type": "code",
      "source": [
        "# while condicao:\n",
        "#   faca isso ate a condicao ser falsa"
      ],
      "metadata": {
        "id": "ezQ3Pv-j6xXH"
      },
      "id": "ezQ3Pv-j6xXH",
      "execution_count": null,
      "outputs": []
    },
    {
      "cell_type": "markdown",
      "id": "7c713fe7",
      "metadata": {
        "id": "7c713fe7"
      },
      "source": [
        "## Bora praticar!"
      ]
    },
    {
      "cell_type": "markdown",
      "id": "221bc557",
      "metadata": {
        "id": "221bc557"
      },
      "source": [
        "1) Faça um programa que peça a idade do usuário e imprima se ele é maior ou menor de 18 anos."
      ]
    },
    {
      "cell_type": "code",
      "execution_count": null,
      "id": "3ee80027",
      "metadata": {
        "ExecuteTime": {
          "end_time": "2023-06-28T01:13:35.677927Z",
          "start_time": "2023-06-28T01:13:33.710669Z"
        },
        "id": "3ee80027"
      },
      "outputs": [],
      "source": [
        "idade = int(input())\n",
        "\n",
        "if idade >= 18:\n",
        "  print(\"maior\")\n",
        "else:\n",
        "  print(\"menor\")\n",
        "\n",
        "# Marcélia Ferreira 8:14 PM\n",
        "idade = int(input('Digite sua idade: '))\n",
        "if idade >= 18:\n",
        "  print ('Você é maior de idade')\n",
        "else:\n",
        "  print ('Você é menor de idade')\n",
        "\n",
        "# Camila Marques 8:14 PM\n",
        "idade = int(input(\"Escreva sua idade: \"))\n",
        "\n",
        "if idade >= 18:\n",
        "  print(f\"Você tem {idade} anos de idade.\")\n",
        "else:\n",
        "  print(\"Você tem uma idade menor que 18 anos.\")\n",
        "\n",
        "# Angelica Salvino 8:14 PM\n",
        "ano_nasc = int(input('Digite o ano de nascimento:'))\n",
        "idade = 2023 - ano_nasc\n",
        "\n",
        "if idade >= 18:\n",
        "  print('É maior de idade!')\n",
        "else:\n",
        "  print('É menor de idade.')\n",
        "\n",
        "# Anna Vithoria 8:14 PM\n",
        "idade = int(input('Digite a idade : '))\n",
        "if idade >= 18:\n",
        "    print(f'Maior de idade')\n",
        "else:\n",
        "    print('Menor de idade')\n",
        "\n",
        "# Elaine Costa 8:14 PM\n",
        "age = int(input('Digite sua idade: '))\n",
        "\n",
        "if age >= 18:\n",
        "  print('Maior de 18 anos')\n",
        "else:\n",
        "  print('Menor de 18 anos')"
      ]
    },
    {
      "cell_type": "code",
      "source": [
        "idade = int(input('Qual sua idade?'))\n",
        "\n",
        "if (idade >= 18):\n",
        "  print('maior de idade')\n",
        "else:\n",
        "  print('menos de idade')"
      ],
      "metadata": {
        "id": "QIfe-4PF-Wp2"
      },
      "id": "QIfe-4PF-Wp2",
      "execution_count": null,
      "outputs": []
    },
    {
      "cell_type": "markdown",
      "id": "20204a13",
      "metadata": {
        "id": "20204a13"
      },
      "source": [
        "2) Faça um programa que peça um número e mostre se ele é positivo ou negativo. Alternativa: acrescentar nulo"
      ]
    },
    {
      "cell_type": "code",
      "execution_count": null,
      "id": "e65cca82",
      "metadata": {
        "ExecuteTime": {
          "end_time": "2023-06-28T01:14:45.484713Z",
          "start_time": "2023-06-28T01:14:44.068893Z"
        },
        "id": "e65cca82"
      },
      "outputs": [],
      "source": [
        "# Alycia Furtado8:22 PM\n",
        "numero = int(input())\n",
        "\n",
        "if numero > 0:\n",
        "  print(\"positivo\")\n",
        "elif numero == 0:\n",
        "  print(\"nulo\")\n",
        "else:\n",
        "  print(\"negativo\")\n",
        "\n",
        "# Anna Vithoria8:22 PM\n",
        "num = int(input('Digite um numero '))\n",
        "if num < 0:\n",
        "    print(f'{num} é negativo')\n",
        "else:\n",
        "    print(f'{num} é positivo')\n",
        "\n",
        "# Bruna Minusso8:22 PM\n",
        "numero = int(input(\"Digite um número: \"))\n",
        "\n",
        "if numero > 0:\n",
        "  print('Positivo')\n",
        "elif numero < 0:\n",
        "  print('Negativo')\n",
        "else:\n",
        "  print('Nulo')\n",
        "\n",
        "# Marcélia Ferreira8:23 PM\n",
        "numero = float(input('Digite um número: '))\n",
        "if numero > 0:\n",
        "  print ('O número é positivo')\n",
        "elif numero < 0:\n",
        "  print ('O número é negativo')\n",
        "else:\n",
        "  print ('O número é nulo')\n",
        "\n",
        "# Fernanda Oliveira8:23 PM\n",
        "meu_numero = float(input(\"Insira um número: \"))\n",
        "\n",
        "if meu_numero > 0:\n",
        "    print(\"Esse número é positivo.\")\n",
        "elif meu_numero < 0:\n",
        "    print(\"Esse número é negativo.\")\n",
        "else:\n",
        "    print(\"Esse número é nulo.\")\n",
        "\n",
        "# Bruna Vieira Tiburcio8:23 PM\n",
        "# Input variable\n",
        "user_number = float(input('Digite um número:'))\n",
        "\n",
        "# If-condition\n",
        "if user_number > 0:\n",
        "    print('Número positivo.')\n",
        "elif user_number == 0:\n",
        "    print('Número é nulo.')\n",
        "else:\n",
        "    print('Número negativo.')\n",
        "\n",
        "\n",
        "# Marcia Escolástico8:23 PM\n",
        "numero = float(input(\"Digite um número: \"))\n",
        "if numero > 0:\n",
        "    print(\" positivo.\")\n",
        "elif numero < 0:\n",
        "    print(\"negativo.\")\n",
        "else:\n",
        "    print(\"nulo.\")\n",
        "\n",
        "\n",
        "# Nathalia Riegler Schwertner8:23 PM\n",
        "numero = float(input(\"Insira um número: \"))\n",
        "\n",
        "if numero > 0:\n",
        "    print(\"O número é positivo.\")\n",
        "elif numero < 0:\n",
        "    print(\"O número é negativo.\")\n",
        "else:\n",
        "    print(\"O número é nulo.\")\n",
        "\n",
        "\n",
        "# Naiara Andrade8:23 PM\n",
        "numero = int(input(\"Digite um numero: \"))\n",
        "if numero > 0:\n",
        "  print(\"É um número positivo\")\n",
        "elif numero < 0:\n",
        "  print(\"É um número negativo\")\n",
        "else:\n",
        "  print(\"Numero nulo\")"
      ]
    },
    {
      "cell_type": "code",
      "source": [
        "numero = int(input('Digite um número:'))\n",
        "\n",
        "if numero > 0:\n",
        "  print(f'Seu {numero} é positivo.')\n",
        "elif numero == 0:\n",
        "    print(f'Seu {numero} é nulo.')\n",
        "else:\n",
        "    print(f'Seu {numero} é negativo.')"
      ],
      "metadata": {
        "colab": {
          "base_uri": "https://localhost:8080/"
        },
        "id": "7q_2r7XnBNSI",
        "outputId": "0d877b3e-3a3e-4b63-e1c9-971d069890d3"
      },
      "id": "7q_2r7XnBNSI",
      "execution_count": 33,
      "outputs": [
        {
          "output_type": "stream",
          "name": "stdout",
          "text": [
            "Digite um número:-1\n",
            "Seu -1 é negativo.\n"
          ]
        }
      ]
    },
    {
      "cell_type": "code",
      "source": [
        "numero = int(input(\"Digite um numero: \"))\n",
        "if numero > 0:\n",
        "  print(\"É um número positivo\")\n",
        "elif numero < 0:\n",
        "  print(\"É um número negativo\")\n",
        "elif numero == 0:\n",
        "  print(\"Numero nulo\")"
      ],
      "metadata": {
        "colab": {
          "base_uri": "https://localhost:8080/"
        },
        "id": "xdTSBR4LAnQA",
        "outputId": "71c936ce-1429-4ae1-e054-3ace3eed569d"
      },
      "id": "xdTSBR4LAnQA",
      "execution_count": 32,
      "outputs": [
        {
          "output_type": "stream",
          "name": "stdout",
          "text": [
            "Digite um numero: 1\n",
            "É um número positivo\n"
          ]
        }
      ]
    },
    {
      "cell_type": "code",
      "source": [
        "None"
      ],
      "metadata": {
        "id": "GxHgAUHGBf37"
      },
      "id": "GxHgAUHGBf37",
      "execution_count": 34,
      "outputs": []
    },
    {
      "cell_type": "code",
      "source": [
        "type(None)"
      ],
      "metadata": {
        "colab": {
          "base_uri": "https://localhost:8080/"
        },
        "id": "bE8rnjpIBhi_",
        "outputId": "33706310-961d-45f4-ddc9-262e45c16a0d"
      },
      "id": "bE8rnjpIBhi_",
      "execution_count": 35,
      "outputs": [
        {
          "output_type": "execute_result",
          "data": {
            "text/plain": [
              "NoneType"
            ]
          },
          "metadata": {},
          "execution_count": 35
        }
      ]
    },
    {
      "cell_type": "markdown",
      "id": "83f073e8",
      "metadata": {
        "id": "83f073e8"
      },
      "source": [
        "3) Faça um programa que peça dois números e mostre o maior deles.\n",
        "\n",
        "\n",
        "    3.1. Faça um programa que peça três números e mostre o maior deles."
      ]
    },
    {
      "cell_type": "code",
      "source": [
        "num1 = int(input(\"Número 1: \"))\n",
        "num2 = int(input(\"Número 2: \"))\n",
        "num3 = int(input(\"Número 3: \"))\n",
        "\n",
        "if num1>num2 and num1>num3:\n",
        "  print(\"O número 1 é o maior!\")\n",
        "elif num2>num1 and num2>num3:\n",
        "  print(\"O número 2 é o maior!\")\n",
        "elif num3>num1 and num3>num2:\n",
        "  print(\"O número 3 é o maior!\")"
      ],
      "metadata": {
        "colab": {
          "base_uri": "https://localhost:8080/"
        },
        "id": "CJ81btH7HoNX",
        "outputId": "d5b179c3-1d12-4037-b2a7-604fe05ff058"
      },
      "id": "CJ81btH7HoNX",
      "execution_count": 38,
      "outputs": [
        {
          "name": "stdout",
          "output_type": "stream",
          "text": [
            "Número 1: 2\n",
            "Número 2: 2\n",
            "Número 3: 1\n"
          ]
        }
      ]
    },
    {
      "cell_type": "code",
      "source": [
        "n1 = int(input())\n",
        "n2 = int(input())\n",
        "n3 = int(input())\n",
        "\n",
        "if (n1 >= n2) and (n1 >= n3):\n",
        "    print(n1)\n",
        "elif (n2 >= n1) and (n2 >= n3):\n",
        "    print(n2)\n",
        "else:\n",
        "    print(n3)"
      ],
      "metadata": {
        "colab": {
          "base_uri": "https://localhost:8080/"
        },
        "id": "P1BqHgkQHzYX",
        "outputId": "47816c3c-35e3-49f9-c738-1a9596ec34af"
      },
      "id": "P1BqHgkQHzYX",
      "execution_count": 42,
      "outputs": [
        {
          "output_type": "stream",
          "name": "stdout",
          "text": [
            "1\n",
            "1\n",
            "0\n",
            "1\n"
          ]
        }
      ]
    },
    {
      "cell_type": "code",
      "execution_count": null,
      "id": "41dbb8f3",
      "metadata": {
        "ExecuteTime": {
          "end_time": "2023-06-28T01:16:42.746565Z",
          "start_time": "2023-06-28T01:16:40.188732Z"
        },
        "id": "41dbb8f3"
      },
      "outputs": [],
      "source": [
        "# Jaqueline Victal8:49 PM\n",
        "first_number =  float(input('Informe um número, Ex: 4.5: '))\n",
        "second_number =  float(input('Informe mais um número, Ex: 4.5: '))\n",
        "\n",
        "if first_number == second_number:\n",
        "  print('Os números são iguais')\n",
        "elif first_number > second_number:\n",
        "  print('O primeiro número é maior')\n",
        "elif first_number < second_number:\n",
        "  print('O segundo número é maior')\n",
        "\n",
        "# Araceli Martínez8:49 PM\n",
        "numero_1 = int(input(\"Digite um número: \"))\n",
        "numero_2 = int(input(\"Digite outro número: \"))\n",
        "if numero_1 > numero_2:\n",
        "  print(f\"O número {numero_1} é maior\")\n",
        "elif numero_1 < numero_2:\n",
        "  print(f\"O número {numero_2} é maior\")\n",
        "elif numero_1 == numero_2:\n",
        "  print(\"Os números são iguais\")\n",
        "\n",
        "# Alycia Furtado8:50 PM\n",
        "n1 = int(input())\n",
        "n2 = int(input())\n",
        "n3 = int(input())\n",
        "\n",
        "if (n1 >= n2) and (n1 >= n3):\n",
        "    print(n1)\n",
        "\n",
        "# Posso assumir que o n1 é maior do que o n2? Não\n",
        "elif (n2 >= n1) and (n2 >= n3):\n",
        "    print(n2)\n",
        "else:\n",
        "    print(n3)\n",
        "\n",
        "# Fernanda Oliveira8:50 PM\n",
        "#3) Faça um programa que peça dois números e mostre o maior deles.\n",
        "primeiro_numero = int(input(\"Digite um número:\"))\n",
        "segundo_numero = int(input(\"Digite outro número:\"))\n",
        "\n",
        "if primeiro_numero > segundo_numero:\n",
        "    print(f\"O número maior é: {primeiro_numero}\")\n",
        "elif segundo_numero > primeiro_numero:\n",
        "    print(f\"O número maior é: {segundo_numero}\")\n",
        "else: print(\"Nem maior ou menor, os números são iguais!\")\n",
        "\n",
        "# Alicia Martins8:50 PM\n",
        "num1 = int(input(\"Número 1: \"))\n",
        "num2 = int(input(\"Número 2: \"))\n",
        "num3 = int(input(\"Número 3: \"))\n",
        "\n",
        "if num1>num2 and num1>num3:\n",
        "  print(\"O número 1 é o maior!\")\n",
        "elif num2>num1 and num2>num3:\n",
        "  print(\"O número 2 é o maior!\")\n",
        "elif num3>num1 and num3>num2:\n",
        "  print(\"O número 3 é o maior!\")\n",
        "\n",
        "# Nathalia Riegler Schwertner8:50 PM\n",
        "# comparando 2 numeros\n",
        "numero1 = float(input(\"Insira o primeiro número: \"))\n",
        "numero2 = float(input(\"Insira o segundo número: \"))\n",
        "\n",
        "if numero1 > numero2:\n",
        "    print(f\"O maior número é: {numero1}\")\n",
        "elif numero2 > numero1:\n",
        "    print(f\"O maior número é: {numero2}\")\n",
        "else:\n",
        "    print(\"Ambos os números são iguais.\")\n",
        "\n",
        "Fernanda Oliveira8:50 PM\n",
        "#3.1.) Faça um programa que peça três números e mostre o maior deles.\n",
        "\n",
        "numero1 = float(input(\"Digite o primeiro número: \"))\n",
        "numero2 = float(input(\"Digite o segundo número: \"))\n",
        "numero3 = float(input(\"Digite o segundo número: \"))\n",
        "\n",
        "#funcao-max, pode?\n",
        "maior_numero = max(numero1, numero2, numero3)\n",
        "\n",
        "print(f\"O maior número é: {maior_numero}\")\n",
        "# debora be8:50 PM\n",
        "# def find_max_of_three():\n",
        "#     try:\n",
        "#         num1 = float(input(\"Enter the first number: \"))\n",
        "#         num2 = float(input(\"Enter the second number: \"))\n",
        "#         num3 = float(input(\"Enter the third number: \"))\n",
        "\n",
        "#         if num1 >= num2 and num1 >= num3:\n",
        "#             print(f\"The greatest number is {num1}\")\n",
        "#         elif num2 >= num1 and num2 >= num3:\n",
        "#             print(f\"The greatest number is {num2}\")\n",
        "#         else:\n",
        "#             print(f\"The greatest number is {num3}\")\n",
        "#     except ValueError:\n",
        "#         print(\"Pl\n",
        "\n",
        "# Loyanne Moreira8:50 PM\n",
        "primeiro_numero = float(input('Digite o primeiro número: '))\n",
        "segundo_numero = float(input('Digite o segundo número: '))\n",
        "if primeiro_numero > segundo_numero:\n",
        "    print(f\"O número {primeiro_numero} é maior que {segundo_numero}\")\n",
        "elif primeiro_numero < segundo_numero:\n",
        "    print(f\"O número {segundo_numero} é maior que {primeiro_numero}\")\n",
        "else:\n",
        "    print(f\"Os números {primeiro_numero} é {segundo_numero} são iguais\")\n",
        "\n",
        "# Mikhaelle Bueno8:50 PM\n",
        "numero1 = float(input('Digite o primeiro número: '))\n",
        "numero2 = float(input('Digite o segundo número: '))\n",
        "\n",
        "if(numero1 > numero2):\n",
        "  print(f'Primeiro número({numero1}) maior que o segundo número 2({numero2})')\n",
        "elif(numero1 < numero2):\n",
        "  print(f'Segundo número({numero2}) maior que o primeiro número 1({numero1})')\n",
        "else:\n",
        "  print(f'Primeiro número({numero1}) igual o segundo número 2({numero2})')\n",
        "\n",
        "# Bianca Malta8:50 PM\n",
        "n1 = float(input('Fale o primeiro numero:'))\n",
        "n2 = float(input('Fale o segundo numero:'))\n",
        "n3 = float(input('Fale o terceiro numero:'))\n",
        "\n",
        "if n1 > n2 and n1> n3:\n",
        "  print(f'O maior número é {n1}')\n",
        "elif n2 > n1 and n2> n3:\n",
        "  print(f'O maior número é {n2}')\n",
        "else:\n",
        "  print(f'O maior número é {n3}')\n",
        "\n",
        "# Nathalia Riegler Schwertner8:50 PM\n",
        "# comparando 3 numeros\n",
        "numero1 = float(input(\"Insira o primeiro número: \"))\n",
        "numero2 = float(input(\"Insira o segundo número: \"))\n",
        "numero3 = float(input(\"Insira o terceiro número: \"))\n",
        "\n",
        "if numero1 > numero2 and numero1 > numero3:\n",
        "    print(f\"O maior número é: {numero1}\")\n",
        "elif numero2 > numero1 and numero2 > numero3:\n",
        "    print(f\"O maior número é: {numero2}\")\n",
        "elif numero3 > numero1 and numero3 > numero2:\n",
        "    print(f\"O maior número é: {numero3}\")\n",
        "else:\n",
        "    print(\"Todos os números são iguais.\")\n",
        "\n",
        "# Marcia Escolástico8:50 PM\n",
        "num1 = float(input(\"numero1: \"))\n",
        "num2 = float(input(\"numero2: \"))\n",
        "num3 = float(input(\"numero3: \"))\n",
        "maiorNum = max(num1, num2, num3)\n",
        "print(f\"O maior número é: {maiorNum}\")\n",
        "\n",
        "# Angelica Salvino8:50 PM\n",
        "numero1 = int(input('Digite o primeiro número:'))\n",
        "numero2 = int(input('Digite o segundo número:'))\n",
        "\n",
        "if numero1 < numero2:\n",
        "  print(f'O maior número digitado é o {numero2}')\n",
        "else:\n",
        "  print(f'O maior número digitado é o {numero1}')\n",
        "\n",
        "# Denize Bassi Figueiredo8:50 PM\n",
        "nums = []\n",
        "for i in range(3):\n",
        "    nums.append(int(input(f\"digite o {i+1}º numéro: \")))\n",
        "if nums[0] > nums[1] and nums[0] > nums[2]:\n",
        "  print(f\"{nums[0]} é o maior deles\")\n",
        "elif nums[1] > nums[2] and nums[1] > nums[2]:\n",
        "  print(f\"{nums[1]} é o maior deles\")\n",
        "else:\n",
        "  print(f\"{nums[2]} é o maior deles\")\n",
        "\n",
        "# Eveliny Cavalcante Muniz8:50 PM\n",
        "numero1 = float(input('insira numero 1:'))\n",
        "numero2 = float(input('insira numero 2:'))\n",
        "\n",
        "if numero1 > numero2 :\n",
        "  print(f'primeiro {numero1} numero maior')\n",
        "else:\n",
        "  print(f'segundo {numero2} numero maior')\n",
        "\n",
        "# Bruna Vieira Tiburcio8:50 PM\n",
        "num_one = float(input('Digite o primeiro número:'))\n",
        "print('Primeiro número:', num_one)\n",
        "num_two = float(input('Digite o segundo número:'))\n",
        "print('Segundo número:', num_two)\n",
        "num_three = float(input('Digite o terceiro número:'))\n",
        "print('Terceiro número:', num_three)\n",
        "\n",
        "if num_one > num_two and num_one > num_three:\n",
        "    print('\\nPrimeiro número é o maior.')\n",
        "elif num_two > num_one and num_two > num_three:\n",
        "    print('\\nSegundo número é o maior.')\n",
        "else:\n",
        "    print('\\nTerceiro número é o maior.')\n",
        "\n",
        "# Eveliny Cavalcante Muniz8:50 PM\n",
        "numero1 = float(input('insira numero 1:'))\n",
        "numero2 = float(input('insira numero 2:'))\n",
        "numero3 = float(input('insira numero 3:'))\n",
        "\n",
        "if numero1 > numero2 and numero1 > numero3:\n",
        "  print(f'primeiro {numero1} numero maior')\n",
        "elif numero2 > numero1 and numero1 > numero3:\n",
        "  print(f'segundo {numero2} numero maior')\n",
        "else:\n",
        "  print(f'terceiro {numero3} numero maior')\n",
        "\n",
        "# LIVIA FERREIRA DOS SANTOS8:51 PM\n",
        "numero1 = float(input(\"Digite o primeiro número: \"))\n",
        "numero2 = float(input(\"Digite o segundo número: \"))\n",
        "numero3 = float(input(\"Digite o terceiro número: \"))\n",
        "\n",
        "if numero1 >= numero2 and numero1 >= numero3:\n",
        "    print(\"O maior número é:\", numero1)\n",
        "elif numero2 >= numero1 and numero2 >= numero3:\n",
        "    print(\"O maior número é:\", numero2)\n",
        "else:\n",
        "    print(\"O maior número é:\", numero3)\n",
        "\n",
        "# Loyanne Moreira8:51 PM\n",
        "primeiro_numero = float(input('Digite o primeiro número: '))\n",
        "segundo_numero = float(input('Digite o segundo número: '))\n",
        "if primeiro_numero > segundo_numero:\n",
        "    print(f\"O número {primeiro_numero} é maior que {segundo_numero}\")\n",
        "elif primeiro_numero < segundo_numero:\n",
        "    print(f\"O número {segundo_numero} é maior que {primeiro_numero}\")\n",
        "else:\n",
        "    print(f\"Os números {primeiro_numero} é {segundo_numero} são iguais\")"
      ]
    },
    {
      "cell_type": "code",
      "source": [
        "first_number =  float(input('Infofme um número, Ex: 4.5: '))\n",
        "second_number =  float(input('Informe mais um número, Ex: 4.5: '))\n",
        "third_number =  float(input('Informe o terceiro número, Ex: 4.5: '))\n",
        "\n",
        "\n",
        "if first_number == second_number == third_number:\n",
        "  print('Os números são iguais')\n",
        "elif first_number > second_number:\n",
        "  if first_number > third_number:\n",
        "    print('O primeiro número é maior')\n",
        "  elif first_number < third_number:\n",
        "    print('O terceiro número é maior')\n",
        "elif first_number < second_number:\n",
        "  if second_number > third_number:\n",
        "      print('O segundo número é maior')\n",
        "  elif second_number < third_number:\n",
        "    print('O terceiro número é maior')"
      ],
      "metadata": {
        "colab": {
          "base_uri": "https://localhost:8080/"
        },
        "id": "-5Asv6YWISyH",
        "outputId": "43a6f21d-044e-4d77-ac39-261e509be89d"
      },
      "id": "-5Asv6YWISyH",
      "execution_count": 44,
      "outputs": [
        {
          "name": "stdout",
          "output_type": "stream",
          "text": [
            "Infofme um número, Ex: 4.5: 2\n",
            "Informe mais um número, Ex: 4.5: 2\n",
            "Informe o terceiro número, Ex: 4.5: 1\n"
          ]
        }
      ]
    },
    {
      "cell_type": "code",
      "source": [
        "c = float(input('Digite o primeiro número: '))\n",
        "d = float(input('Digite o segundo número: '))\n",
        "e = float(input('Digite o terceiro número: '))\n",
        "\n",
        "if c > d > e and c > e > d:\n",
        "  print (f'O maior número é {c}')\n",
        "elif d > e > c and d > c > e:\n",
        "  print (f'O maior número é {d}')\n",
        "else:\n",
        "  print (f'O maior número é {e}')"
      ],
      "metadata": {
        "colab": {
          "base_uri": "https://localhost:8080/"
        },
        "id": "LsomfsWrIxxt",
        "outputId": "e6088dc2-1992-4e8f-d395-d65b1bc71244"
      },
      "id": "LsomfsWrIxxt",
      "execution_count": 57,
      "outputs": [
        {
          "output_type": "stream",
          "name": "stdout",
          "text": [
            "Digite o primeiro número: 2\n",
            "Digite o segundo número: 2\n",
            "Digite o terceiro número: 1\n",
            "O maior número é 1.0\n"
          ]
        }
      ]
    },
    {
      "cell_type": "code",
      "source": [
        "print(c)\n",
        "print(d)\n",
        "print(e)\n",
        "\n",
        "print('c > d:', c > d)\n",
        "print('False > e:', False > d)\n",
        "print('c > d > e', c > d > e)"
      ],
      "metadata": {
        "colab": {
          "base_uri": "https://localhost:8080/"
        },
        "id": "ZWwYQfBjI-jF",
        "outputId": "10b71655-c47e-4483-d6c8-fa42d503456d"
      },
      "id": "ZWwYQfBjI-jF",
      "execution_count": 49,
      "outputs": [
        {
          "output_type": "stream",
          "name": "stdout",
          "text": [
            "1.0\n",
            "1.0\n",
            "1.0\n",
            "c > d: False\n",
            "False > e: False\n",
            "c > d > e False\n"
          ]
        }
      ]
    },
    {
      "cell_type": "code",
      "source": [
        "primeiro = int(input('Primeiro numero: '))\n",
        "segundo = int(input('segundo numero: '))\n",
        "terceiro = int(input('terceiro numero: '))\n",
        "\n",
        "maior = primeiro\n",
        "\n",
        "if segundo > maior:\n",
        "  maior = segundo\n",
        "\n",
        "if terceiro > maior:\n",
        "  maior = terceiro\n",
        "\n",
        "print('Maior: ', maior)"
      ],
      "metadata": {
        "colab": {
          "base_uri": "https://localhost:8080/"
        },
        "id": "LXlKgZljGO_0",
        "outputId": "554a05e5-665e-4a0e-eb23-4f6fd4f1c4e7"
      },
      "id": "LXlKgZljGO_0",
      "execution_count": 60,
      "outputs": [
        {
          "output_type": "stream",
          "name": "stdout",
          "text": [
            "Primeiro numero: 4\n",
            "segundo numero: 5\n",
            "terceiro numero: 8\n",
            "Maior:  5\n"
          ]
        }
      ]
    },
    {
      "cell_type": "code",
      "source": [],
      "metadata": {
        "id": "EOpI5pBrCAXA"
      },
      "id": "EOpI5pBrCAXA",
      "execution_count": null,
      "outputs": []
    },
    {
      "cell_type": "markdown",
      "id": "bfdf137f",
      "metadata": {
        "ExecuteTime": {
          "end_time": "2022-10-13T02:14:01.965819Z",
          "start_time": "2022-10-13T02:14:01.958839Z"
        },
        "id": "bfdf137f"
      },
      "source": [
        "4) Faça um programa que leia a validade das informações:\n",
        "\n",
        "a. Idade: entre 0 e 150;\n",
        "\n",
        "b. Salário: maior que 0;\n",
        "\n",
        "c. Sexo: M, F ou Outro;\n",
        "\n",
        "O programa deve imprimir uma mensagem de erro para cada informação inválida."
      ]
    },
    {
      "cell_type": "code",
      "source": [
        "# Marcélia Ferreira9:12 PM\n",
        "faixa_idade = int(input('Digite uma idade entre 0 e 150 anos: '))\n",
        "if faixa_idade >= 0 and faixa_idade <= 150:\n",
        "  print (f' Informação válida. A idade digitada foi: {faixa_idade} anos.')\n",
        "else:\n",
        "  print (f'Informação inválida: A idade de {faixa_idade} anos não está dentro da faixa de anos solicitados.')\n",
        "\n",
        "\n",
        "if (faixa_idade < 0) or (faixa_idade > 150):\n",
        "  print(f'Erro na idade {faixa_idade}')"
      ],
      "metadata": {
        "colab": {
          "base_uri": "https://localhost:8080/"
        },
        "id": "3y7sfx2-MuWY",
        "outputId": "c7e87459-ea7f-4445-c8bb-36fc95180f60"
      },
      "id": "3y7sfx2-MuWY",
      "execution_count": 64,
      "outputs": [
        {
          "output_type": "stream",
          "name": "stdout",
          "text": [
            "Digite uma idade entre 0 e 150 anos: -10\n",
            "Informação inválida: A idade de -10 anos não está dentro da faixa de anos solicitados.\n",
            "Erro na idade -10\n"
          ]
        }
      ]
    },
    {
      "cell_type": "code",
      "execution_count": null,
      "id": "a1a21ec4",
      "metadata": {
        "ExecuteTime": {
          "end_time": "2023-06-28T01:18:25.767941Z",
          "start_time": "2023-06-28T01:18:22.048148Z"
        },
        "id": "a1a21ec4"
      },
      "outputs": [],
      "source": [
        "# Marcélia Ferreira9:12 PM\n",
        "faixa_idade = int(input('Digite uma idade entre 0 e 150 anos: '))\n",
        "if faixa_idade >= 0 and faixa_idade <= 150:\n",
        "  print (f' Informação válida. A idade digitada foi: {faixa_idade} anos.')\n",
        "else:\n",
        "  print (f'Informação inválida: A idade de {faixa_idade} anos não está dentro da faixa de anos solicitados.')\n",
        "\n",
        "# Mikhaelle Bueno9:13 PM\n",
        "idade = int(input('Digite sua idade: '))\n",
        "salario = float(input('Digite seu salario: '))\n",
        "sexo = input('Digite seu sexo: M, F ou Outro. ')\n",
        "\n",
        "if (idade < 0) or (idade > 150):\n",
        "  print(f'Erro na idade {idade}')\n",
        "if salario < 0:\n",
        "  print(f'Erro no salario {salario}')\n",
        "if not((sexo == \"M\") or (sexo == \"F\") or (sexo == \"Outro\")):\n",
        "# if ((sexo != \"M\") or (sexo != \"F\") or (sexo =!= \"Outro\")):\n",
        "  print(f'Erro no sexo {sexo}')\n",
        "\n",
        "\n",
        "# Andreia Souza9:13 PM\n",
        "idade = int(input('Digite sua idade: '))\n",
        "if idade < 0 or idade > 150:\n",
        "    print(f'A idade inserida é inválida')\n",
        "\n",
        "salario = float(input('Digite seu salário: '))\n",
        "if salario <= 0:\n",
        "    print(f'O salário inserido é inválido. Favor inserir um valor maior do que 0')\n",
        "\n",
        "sexo = input('Digite seu sexo (F, M, Outro): ')\n",
        "if not (sexo.lower() == 'f' or sexo.lower() == 'm' or sexo.lower() == 'outro'):\n",
        "    print(f'O sexo inserido é inválido. Favor inserir F para feminino, M para masculino, ou Outro')\n",
        "\n",
        "# Anna Vithoria9:13 PM\n",
        "idade = int(input('Digite a idade '))\n",
        "salario = float(input('Digite o salario '))\n",
        "sexo = input('Digite o genero ')\n",
        "\n",
        "if idade > 0 and idade < 150:\n",
        "    print('Idade correta ')\n",
        "else:\n",
        "    print('Digite uma idade valida')\n",
        "\n",
        "if salario > 0:\n",
        "    print('Salario OK')\n",
        "else:\n",
        "    print('Digite uma valor valido')\n",
        "sexo = sexo.upper()\n",
        "if sexo == 'M':\n",
        "    print(f'Voce é do sexo Masculino')\n",
        "elif sexo == 'F':\n",
        "    print('Voce é do sexo feminino')\n",
        "else:\n",
        "    print('outro')\n",
        "\n",
        "\n",
        "# Danielle Lopes9:13 PM\n",
        "idade1 = int(input('Digite sua idade: '))\n",
        "salario = float(input('Digite o valor do seu salário: '))\n",
        "sexo = input('Digite seu sexo: (F, M ou Outro): ')\n",
        "\n",
        "if idade1 >= 0 and idade1 <= 150:\n",
        "  print('Sua é idade é:', idade1)\n",
        "else:\n",
        "  print('Erro, digite uma idade entre 0 e 150')\n",
        "\n",
        "if salario != 0:\n",
        "  print('Seu salário é:', salario)\n",
        "else:\n",
        "  print('Erro, digite um salário válido!')\n",
        "\n",
        "if sexo in  ['M', 'F', 'Outro']:\n",
        "  print('Seu sexo é:', )\n",
        "else:\n",
        "  print('Erro, digite sexo válido')\n",
        "\n",
        "# Bianca Malta9:13 PM\n",
        "idade = int(input('Digite a sua idade:'))\n",
        "salário = float(input('Digite o seu salário:'))\n",
        "sexo = str(input('Digite seu sexo:[M/F]')).strip().upper()\n",
        "\n",
        "if idade <0 and idade> 150:\n",
        "  print('Dado inválido.')\n",
        "elif salário < 0:\n",
        "  print('Dado inválido.')\n",
        "elif sexo != 'M' and sexo != 'F':\n",
        "  print('Dado inválido.')\n",
        "else:\n",
        "  print(f'Você tem {idade}anos, ganha R${salário} e é do sexo {sexo}.')\n",
        "\n",
        "# Thaís Konishi9:13 PM\n",
        "sua_idade=int(input('idade'))\n",
        "salario=int(input('salario'))\n",
        "sexo=input('sexo')\n",
        "if sua_idade>0 and sua_idade<150:\n",
        " print(f'idade {sua_idade} válida.')\n",
        "else:\n",
        " print(f'idade {sua_idade} válida.')\n",
        "if salario>0:\n",
        " print(f'salario {salario} é válido.')\n",
        "else:\n",
        "  print(f'salario {salario} é inválido.')\n",
        "if sexo=='m' or sexo=='f'or sexo=='outro':\n",
        " print(f'sexo {sexo} é válido.')\n",
        "else:\n",
        " print(f'sexo {sexo} é inválido.')\n",
        "\n",
        "# LIVIA FERREIRA DOS SANTOS9:13 PM\n",
        "idade = int(input(\"Digite sua idade: \"))\n",
        "salario = float(input(\"Digite seu salário: \"))\n",
        "sexo = input(\"Digite seu sexo (M, F ou Outro): \")\n",
        "\n",
        "\n",
        "if not (0 <= idade <= 150):\n",
        "    print(\" Idade inválida.\")\n",
        "\n",
        "if not salario > 0:\n",
        "    print(\"Salário inválido.\")\n",
        "\n",
        "if not sexo.upper() in ['M', 'F', 'OUTRO']:\n",
        "    print(\"Sexo inválido.\")\n",
        "\n",
        "\n",
        "if 0 <= idade <= 150 and salario > 0 and sexo.upper() in ['M', 'F', 'OUTRO']:\n",
        "    print(\"Todas as informações são válidas.\")\n",
        "\n",
        "# Marcia Escolástico9:13 PM\n",
        "idade = int(input(\"Digite a idade: \"))\n",
        "salario = float(input(\"Digite o salário: \"))\n",
        "sexo = input(\"Digite o sexo (M, F ou Outro): \").lower()\n",
        "\n",
        "if idade < 0 or idade > 150:\n",
        "    print(\"Error\")\n",
        "\n",
        "if salario <= 0:\n",
        "    print(\"Error\")\n",
        "\n",
        "if sexo in ['M', 'F', 'Outro']:\n",
        "    print(\"Error\")\n",
        "\n",
        "# debora be9:14 PM\n",
        "age = int(input(\"Enter your age (0-150): \"))\n",
        "if age < 0 or age > 150:\n",
        "    print(\"Error: Age must be between 0 and 150.\")\n",
        "\n",
        "salary = float(input(\"Enter your salary (greater than 0): \"))\n",
        "if salary <= 0:\n",
        "    print(\"Error: Salary must be greater than 0.\")\n",
        "\n",
        "gender = input(\"Enter your gender (M, F, or Outro): \").upper()\n",
        "if gender not in ['M', 'F', 'OUTRO']:\n",
        "    print(\"Error: Gender must be M, F, or Outro.\")\n",
        "\n",
        "# Bruna Vieira Tiburcio9:14 PM\n",
        "user_age = int(input('Qual a sua idade?'))\n",
        "user_salary = float(input('Qual o seu salário?'))\n",
        "user_sex = str(input('Digite o seu sexo. Opções são M, F ou Outro:'))\n",
        "if user_age < 0 or user_age > 150:\n",
        "    print('Idade inválida. Deve ser entre 0 e 150.')\n",
        "if user_salary <= 0:\n",
        "    print('Salário inválido. Deve ser maior que 0.')\n",
        "if user_sex.lower() != 'f' and  user_sex.lower() != 'm' and user_sex.lower() != 'outros':\n",
        "    print('Sexo inválido. Digite F, M ou Outros.')\n",
        "\n",
        "# Alicia Martins9:14 PM\n",
        "idade = int(input(\"Qual a sua idade? \"))\n",
        "salario = float(input(\"Quanto você ganha? \"))\n",
        "sexo = input(\"Qual o seu sexo? Digite M, F ou Outro \")\n",
        "\n",
        "if idade > 150 or idade < 0:\n",
        "  print(\"Informação Inválida\")\n",
        "if salario <= 0:\n",
        "  print(\"Informação Inválida\")\n",
        "if sexo != \"M\" or sexo != \"F\" or sexo != \"Outro\":\n",
        "  print(\"Informação Inválida\")\n",
        "\n",
        "# Marcélia Ferreira9:15 PM\n",
        "faixa_idade = int(input('Digite uma idade entre 0 e 150 anos: '))\n",
        "if faixa_idade >= 0 and faixa_idade <= 150:\n",
        "  print (f' Informação válida. A idade digitada foi: {faixa_idade} anos.')\n",
        "else:\n",
        "  print (f'Informação inválida: A idade de {faixa_idade} anos não está dentro da faixa de anos solicitados.')\n",
        "\n",
        "\n",
        "salario = float(input('Digite o valor do salário: '))\n",
        "if salario > 0:\n",
        "  print (f'O salário digitado foi de {salario} reais')\n",
        "else:\n",
        "  print (f'Valor inválido. Digite Novamente')\n",
        "\n",
        "sexo = input('Digite seu sexo (M para masculino, F para feminino e O para outros): ')\n",
        "if sexo.upper() in ['M', 'F' or 'O']:\n",
        "  print (f'A opção escolhida {sexo} é valida')\n",
        "else:\n",
        "  print (f'Opção inválida. Digite novamente escohendo M para masculino, F para feminino e O para outros')\n",
        "\n",
        "# Alycia Furtado9:15 PM\n",
        "idade = int(input())\n",
        "salario = float(input())\n",
        "sexo = input()\n",
        "\n",
        "if not(idade > 0 and idade < 150):\n",
        "  print(\"idade errada\")\n",
        "\n",
        "if salario < 0:\n",
        "  print(\"salario errado\")\n",
        "\n",
        "if sexo != 'M' and sexo != 'F' and sexo != 'Outro':\n",
        "  print(\"sexo errado\")\n",
        "idade = int(input())\n",
        "salario = float(input())\n",
        "sexo = input().upper()\n",
        "\n",
        "if not(idade > 0 and idade < 150):\n",
        "  print(\"idade errada\")\n",
        "\n",
        "if salario < 0:\n",
        "  print(\"salario errado\")\n",
        "\n",
        "if sexo != 'M' and sexo != 'F' and sexo != 'OUTRO':\n",
        "  print(\"sexo errado\")\n",
        "\n",
        "# Nathalia Riegler Schwertner9:16 PM\n",
        "# a. validação idade\n",
        "idade = int(input(\"Informe sua idade (entre 0 e 150): \"))\n",
        "if idade < 0 or idade > 150:\n",
        "    print(\"Erro: A idade deve estar entre 0 e 150.\")\n",
        "\n",
        "# b. validação salário\n",
        "salario = float(input(\"Informe seu salário (maior que 0): \"))\n",
        "if salario <= 0:\n",
        "    print(\"Erro: O salário deve ser maior que 0.\")\n",
        "\n",
        "# c. validação sexo\n",
        "sexo = input(\"Informe seu sexo (M, F ou Outro): \").strip().upper()\n",
        "if sexo not in ['M', 'F', 'OUTRO']:\n",
        "    print(\"Erro: Sexo deve ser 'M', 'F' ou 'Outro'.\")\n",
        "\n",
        "# Naiara Andrade9:17 PM\n",
        "idade = int(input(\"Idade: \"))\n",
        "salario = float(input(\"Salário: \"))\n",
        "sexo = input(\"Sexo M, F, Outro: \").title()\n",
        "\n",
        "if idade < 0 and idade > 150:\n",
        "  print(\"Idade inválida.\")\n",
        "if salario < 0:\n",
        "  print(\"Informe um salário valido\")\n",
        "if sexo != (\"M\" or \"F\" or \"Outro\"):\n",
        "  print(\"Informe sexo válido\")\n",
        "\n",
        "# Loyanne Moreira9:18 PM\n",
        "idade = int(input(\"Digite a sua idade: \"))\n",
        "salario = float(input(\"Digite o salário: \"))\n",
        "sexo = str(input(\"Digite o seu sexo (M, F ou Outro): \"))\n",
        "\n",
        "if idade >= 0 and idade <= 150:\n",
        "  print(\"Entrada de dados para idade correta\")\n",
        "else:\n",
        "  print(\"Erro: entrada de dados para idade incorreta. Digite um valor entre 0 e 150\")\n",
        "\n",
        "if salario > 0:\n",
        "  print(\"Entrada de dados para idade permitida\")\n",
        "else:\n",
        "  print(\"Erro: entrada de dados para salário incorreta. Digite um maior que 0\")\n",
        "\n",
        "if sexo == \"M\" or sexo == \"F\"\n",
        "\n",
        "# Camila Marques9:18 PM\n",
        "idade = int(input(\"Idade: \"))\n",
        "salario = float(input(\"Salário: \"))\n",
        "sexo = input(\"Sexo: \").upper()\n",
        "\n",
        "if idade >= 0 and idade <= 150:\n",
        "  print(\"Válido.\")\n",
        "else:\n",
        "  print(\"Inválido.\")\n",
        "\n",
        "if salario > 0:\n",
        "  print(\"Válido.\")\n",
        "else:\n",
        "  print(\"Inválido.\")\n",
        "\n",
        "if sexo == 'M' or sexo == 'F' or sexo == 'Outro':\n",
        "  print(\"Válido.\")\n",
        "else:\n",
        "  print(\"Inválido.\")"
      ]
    },
    {
      "cell_type": "code",
      "source": [
        "# if idade < 0 or idade > 150:\n",
        "#   invalido\n",
        "# else:\n",
        "#   salario = input...\n",
        "\n",
        "#   if salario < 0:\n",
        "#     invalido\n",
        "#   else:\n"
      ],
      "metadata": {
        "id": "VYIcPu65Ov7_"
      },
      "id": "VYIcPu65Ov7_",
      "execution_count": null,
      "outputs": []
    },
    {
      "cell_type": "code",
      "source": [
        "# Denize Bassi Figueiredo9:20 PM\n",
        "idadeMin = 0\n",
        "idadeMax = 150\n",
        "idade = -1\n",
        "while idade <= 0 or idade >= 150:\n",
        "  valor = input(f\"Informe sua idade entre {idadeMin} e {idadeMax}: \")\n",
        "  idade = int(valor)\n",
        "  if idade <= 0 or idade >= 150 :\n",
        "    print(\"input inválido tente novamente\")\n",
        "\n",
        "salarioMin = 0\n",
        "salario = -1\n",
        "while salario <= salarioMin :\n",
        "  valor = input(f\"Informe seu salário maior que {salarioMin}: \")\n",
        "  salario = float(valor)\n",
        "  if salario <= salarioMin :\n",
        "    print(\"input inválido tente novamente\")\n",
        "\n",
        "sexos = [\"M\", \"F\", \"Outro\"]\n",
        "sexo = \"\"\n",
        "while sexo not in sexos :\n",
        "  sexo = input(f\"Informe seu genero, M, F ou Outros: \")\n",
        "  if sexo not in sexos:\n",
        "    print(\"input inválido tente novamente\")"
      ],
      "metadata": {
        "id": "Hr4KPvaaNzZ-"
      },
      "id": "Hr4KPvaaNzZ-",
      "execution_count": null,
      "outputs": []
    },
    {
      "cell_type": "markdown",
      "id": "4171857e",
      "metadata": {
        "id": "4171857e"
      },
      "source": [
        "5) Escreva um programa que peça a nota de 3 provas de um aluno e verifique se ele passou ou não de ano.\n",
        "Obs.: O aluno irá passar de ano se sua média for maior que 6."
      ]
    },
    {
      "cell_type": "code",
      "execution_count": null,
      "id": "a9246029",
      "metadata": {
        "ExecuteTime": {
          "end_time": "2023-06-28T01:20:15.809663Z",
          "start_time": "2023-06-28T01:20:10.228765Z"
        },
        "id": "a9246029"
      },
      "outputs": [],
      "source": [
        "# Denize Bassi Figueiredo9:31 PM\n",
        "nums = []\n",
        "limite = 3\n",
        "min = 6\n",
        "for i in range(limite):\n",
        "    nums.append(int(input(f\"Digite a {i+1}º nota: \")))\n",
        "media = sum(nums) / len(nums)\n",
        "if media >= min:\n",
        "  print(f\"Você passou!\")\n",
        "else :\n",
        "  print(f\"Você não passou\")\n",
        "\n",
        "# Danielle Lopes9:31 PM\n",
        "nota1 = float(input('Digite a primeira nota: '))\n",
        "nota2 = float(input('Digite a segunda nota: '))\n",
        "nota3 = float(input('Digite a terceira nota: '))\n",
        "\n",
        "media_notas = (nota1 + nota2 + nota3) / 3\n",
        "if media_notas > 6:\n",
        "  print(f'A média foi {media_notas}, APROVADO!')\n",
        "else:\n",
        "  print(f'A média foi {media_notas}, REPROVADO!')\n",
        "\n",
        "# Loyanne Moreira9:31 PM\n",
        "nota_1 = float(input(\"Digite a nota da primeira prova: \"))\n",
        "nota_2 = float(input(\"Digite a nota da segunda prova: \"))\n",
        "nota_3 = float(input(\"Digite a nota da terceira prova: \"))\n",
        "\n",
        "media = (nota_1 + nota_2 + nota_3) / 3\n",
        "\n",
        "if media >= 6:\n",
        "  print(f\"Aprovado! Sua média foi {media:.2f}.\")\n",
        "else:\n",
        "  print(f\"Reprovado! Sua média foi {media:.2f}.\")\n",
        "\n",
        "# Bianca Malta9:31 PM\n",
        "#Usando uma resposta booleana (True ou False):\n",
        "n1 = float(input('Fale a primeira nota:'))\n",
        "n2 = float(input('Fale a segunda nota:'))\n",
        "n3 = float(input('Fale a terceira nota:'))\n",
        "media = (n1+n2+n3)/3\n",
        "print(f'Aluno passou de ano? {media > 6}')\n",
        "#Usando uma condicional:\n",
        "n1 = float(input('Fale a primeira nota:'))\n",
        "n2 = float(input('Fale a segunda nota:'))\n",
        "n3 = float(input('Fale a terceira nota:'))\n",
        "media = (n1+n2+n3)/3\n",
        "if media > 6:\n",
        "  print(f'Aluno passou de ano.')\n",
        "else:\n",
        "  print(f'Aluno reprovou de ano.')\n",
        "\n",
        "# Araceli Martínez9:31 PM\n",
        "nota_1 = int(input(\"Digite a nota da primeira prova: \"))\n",
        "nota_2 = int(input(\"Digite a nota da segunda prova: \"))\n",
        "nota_3 = int(input(\"Digite a nota da terceira prova: \"))\n",
        "media = (nota_1 + nota_2 + nota_3)/3\n",
        "if media >= 6:\n",
        "  print(f\"A sua média foi:{media:.2f} o aluno aprovou\")\n",
        "else:\n",
        "  print(f\"A sua média foi:{media:.2f} o aluno reprovou\")\n",
        "\n",
        "# Eveliny Cavalcante Muniz9:31 PM\n",
        "nota1 = float(input(\"Digite a nota da primeira prova: \"))\n",
        "nota2 = float(input(\"Digite a nota da segunda prova: \"))\n",
        "nota3 = float(input(\"Digite a nota da terceira prova: \"))\n",
        "\n",
        "media = (nota1 + nota2 + nota3) / 3\n",
        "\n",
        "if media >= 6:\n",
        "    print(f\"Parabéns! Você passou de ano com média {media:.2f}.\")\n",
        "else:\n",
        "    print(f\"Infelizmente, sua média foi {media:.2f}. Você não passou de ano.\")\n",
        "\n",
        "# Bruna Minusso9:31 PM\n",
        "nota_um = int(input(\"Digite a primeira nota: \"))\n",
        "nota_dois = int(input(\"Digite a segunda nota: \"))\n",
        "nota_tres = int(input(\"Digite a terceira nota: \"))\n",
        "\n",
        "media = (nota_um + nota_dois + nota_tres) / 3\n",
        "\n",
        "if media >= 6:\n",
        "  print(\"Aprovado\")\n",
        "else:\n",
        "  print(\"Reprovado\")\n",
        "\n",
        "# Alicia Martins9:31 PM\n",
        "p1 = int(input(\"Digite a nota da prova: \"))\n",
        "p2 = int(input(\"Digite a nota de outra prova: \"))\n",
        "p3 = int(input(\"Digite a nota de mais uma prova: \"))\n",
        "\n",
        "media = (p1 + p2 + p3)/3\n",
        "\n",
        "if media > 6:\n",
        "  print(\"Você foi aprovado!\")\n",
        "else:\n",
        "  print(\"Você foi reprovado!\")\n",
        "\n",
        "# Thaís Konishi9:31 PM\n",
        "nota1=int(input('Digite a nota da p1  '))\n",
        "nota2=int(input('Digite a nota da p2  '))\n",
        "nota3=int(input('Digite a nota da p3  '))\n",
        "sua_media=(nota1+nota2+nota3)/3\n",
        "if sua_media>6:\n",
        "  print('Aluno passou de ano, sua media foi ',sua_media)\n",
        "else:\n",
        "  print('Aluno foi reprovado, sua média foi ',sua_media)\n",
        "\n",
        "# Andreia Souza9:32 PM\n",
        "primeira_nota = float(input('Digite a primeira nota: '))\n",
        "segunda_nota = float(input('Digite a segunda nota: '))\n",
        "terceira_nota = float(input('Digite a terceira nota: '))\n",
        "soma_notas = primeira_nota + segunda_nota + terceira_nota\n",
        "\n",
        "media_notas = soma_notas / 3\n",
        "aluno_passou = media_notas > 6\n",
        "\n",
        "if aluno_passou:\n",
        "    print('Aprovado')\n",
        "else:\n",
        "    print('Reprovado')\n",
        "\n",
        "# Marcélia Ferreira9:32 PM\n",
        "NP1 = float(input('Digite a nota da prova 1: '))\n",
        "NP2 = float(input('Digite a nota da prova 2: '))\n",
        "NP3 = float(input('Digite a nota da prova 3: '))\n",
        "media = (NP1 + NP2 + NP3)/3\n",
        "if media > 6:\n",
        "  print (f'A média do aluno foi {media:.2f} e o aluno foi APROVADO')\n",
        "else:\n",
        "  print (f'A média do aluno foi {media:.2f} e o aluno foi REPROVADO')\n",
        "\n",
        "# debora be9:32 PM\n",
        "nota1 = float(input(\"Digite a nota da primeira prova: \"))\n",
        "nota2 = float(input(\"Digite a nota da segunda prova: \"))\n",
        "nota3 = float(input(\"Digite a nota da terceira prova: \"))\n",
        "\n",
        "media = (nota1 + nota2 + nota3) / 3\n",
        "\n",
        "if media > 6:\n",
        "    print(\"O aluno passou de ano.\")\n",
        "else:\n",
        "    print(\"O aluno não passou de ano.\")\n",
        "\n",
        "# Daiane Bolzan9:32 PM\n",
        "nota1 = int(input('Digite a nota da primeira prova: '))\n",
        "nota2 = int(input('Digite a nota da segunda prova: '))\n",
        "nota3 = int(input('Digite a nota da terceira prova: '))\n",
        "\n",
        "media = (nota1 + nota2 + nota3)/3\n",
        "if media>6:\n",
        "    print('Aprovado')\n",
        "else:\n",
        "    print('Reprovado')\n",
        "\n",
        "# Marcia Escolástico9:32 PM\n",
        "nota1 = float(input(\"primeira nota: \"))\n",
        "nota2 = float(input(\"segunda nota: \"))\n",
        "nota3 = float(input(\"terceira nota: \"))\n",
        "media = (nota1 + nota2 + nota3) / 3\n",
        "\n",
        "if media >= 6:\n",
        "    print(f\"Média: {media}, APROVADO(A)!\")\n",
        "else:\n",
        "    print(f\"Média: {media:}, DEU RUIM, hein! :(\")"
      ]
    },
    {
      "cell_type": "markdown",
      "id": "f23c8b47",
      "metadata": {
        "id": "f23c8b47"
      },
      "source": [
        "6) Faça um programa que mostre uma questão de múltipla escolha com 5 opções (letras a, b, c, d, e).\n",
        "Sabendo a resposta certa, o programa deve receber a opção do usuário e informar a letra que o usuário marcou e se a resposta está certa ou errada."
      ]
    },
    {
      "cell_type": "code",
      "source": [
        "print('Quebra\\nde\\nlinha')\n",
        "print('Tabulação\\t ola')\n",
        "print('Nome1\\t| Nome2\\t')\n",
        "print('Valor1\\t| Valor2\\t')"
      ],
      "metadata": {
        "colab": {
          "base_uri": "https://localhost:8080/"
        },
        "id": "oM6YYEccQvBN",
        "outputId": "e3612a7a-9a53-467b-f622-33bfb2ec03ea"
      },
      "id": "oM6YYEccQvBN",
      "execution_count": 71,
      "outputs": [
        {
          "output_type": "stream",
          "name": "stdout",
          "text": [
            "Quebra\n",
            "de\n",
            "linha\n",
            "Tabulação\t ola\n",
            "Nome1\t| Nome2\t\n",
            "Valor1\t| Valor2\t\n"
          ]
        }
      ]
    },
    {
      "cell_type": "code",
      "source": [
        "resposta = input('Escolha a opção correta:\\n a)2 + 2 = 4\\n b)3 > 5\\n c)1 < 0\\n d)1 - 1 = 2\\n e)1 + 1 > 4: ')"
      ],
      "metadata": {
        "colab": {
          "base_uri": "https://localhost:8080/"
        },
        "id": "T_YdytsaQlXl",
        "outputId": "49024e25-33d2-40bb-a7a2-37b09bb3c485"
      },
      "id": "T_YdytsaQlXl",
      "execution_count": 67,
      "outputs": [
        {
          "name": "stdout",
          "output_type": "stream",
          "text": [
            "Escolha a opção correta:\n",
            " a)2 + 2 = 4\n",
            " b)3 > 5\n",
            " c)1 < 0\n",
            " d)1 - 1 = 2\n",
            " e)1 + 1 > 4: a\n"
          ]
        }
      ]
    },
    {
      "cell_type": "code",
      "source": [
        "# str(input('Qual é a alternativa correta?(A/B/C/D)')).strip().upper() # input retorna uma string\n",
        "# Strip ignora os espaços\n",
        "input('Qual é a alternativa correta?(A/B/C/D)').strip().upper()"
      ],
      "metadata": {
        "colab": {
          "base_uri": "https://localhost:8080/",
          "height": 53
        },
        "id": "QOdLAIOGRK-5",
        "outputId": "3a725d8b-45fd-4ebc-9433-f63f5773199f"
      },
      "id": "QOdLAIOGRK-5",
      "execution_count": 74,
      "outputs": [
        {
          "name": "stdout",
          "output_type": "stream",
          "text": [
            "Qual é a alternativa correta?(A/B/C/D)     a     \n"
          ]
        },
        {
          "output_type": "execute_result",
          "data": {
            "text/plain": [
              "'A'"
            ],
            "application/vnd.google.colaboratory.intrinsic+json": {
              "type": "string"
            }
          },
          "metadata": {},
          "execution_count": 74
        }
      ]
    },
    {
      "cell_type": "code",
      "source": [
        "print('|', '   23 a 23  '.strip(), '|', sep='')\n",
        "print('|', '   23 a 23  '.lstrip(), '|', sep='')\n",
        "print('|', '   23 a 23  '.rstrip(), '|', sep='')"
      ],
      "metadata": {
        "colab": {
          "base_uri": "https://localhost:8080/"
        },
        "id": "8PJKLfzGRigT",
        "outputId": "f7be28eb-8835-4e2c-f470-f05eef988661"
      },
      "id": "8PJKLfzGRigT",
      "execution_count": 81,
      "outputs": [
        {
          "output_type": "stream",
          "name": "stdout",
          "text": [
            "|23 a 23|\n",
            "|23 a 23  |\n",
            "|   23 a 23|\n"
          ]
        }
      ]
    },
    {
      "cell_type": "code",
      "execution_count": 65,
      "id": "755c8b37",
      "metadata": {
        "ExecuteTime": {
          "end_time": "2023-06-28T01:23:06.527251Z",
          "start_time": "2023-06-28T01:23:05.413019Z"
        },
        "colab": {
          "base_uri": "https://localhost:8080/",
          "height": 390
        },
        "id": "755c8b37",
        "outputId": "b5f3da03-c533-43fa-ed42-8f08ff03f8d9"
      },
      "outputs": [
        {
          "output_type": "error",
          "ename": "KeyboardInterrupt",
          "evalue": "ignored",
          "traceback": [
            "\u001b[0;31m---------------------------------------------------------------------------\u001b[0m",
            "\u001b[0;31mKeyboardInterrupt\u001b[0m                         Traceback (most recent call last)",
            "\u001b[0;32m<ipython-input-65-2a7319301124>\u001b[0m in \u001b[0;36m<cell line: 2>\u001b[0;34m()\u001b[0m\n\u001b[1;32m      1\u001b[0m \u001b[0;31m# Marcélia Ferreira9:34 PM\u001b[0m\u001b[0;34m\u001b[0m\u001b[0;34m\u001b[0m\u001b[0m\n\u001b[0;32m----> 2\u001b[0;31m \u001b[0mresposta\u001b[0m \u001b[0;34m=\u001b[0m \u001b[0minput\u001b[0m\u001b[0;34m(\u001b[0m\u001b[0;34m'Escolha a opção correta: a)2 + 2 = 4 b)3 > 5 c)1 < 0 d)1 - 1 = 2 e)1 + 1 > 4: '\u001b[0m\u001b[0;34m)\u001b[0m\u001b[0;34m\u001b[0m\u001b[0;34m\u001b[0m\u001b[0m\n\u001b[0m\u001b[1;32m      3\u001b[0m \u001b[0;32mif\u001b[0m \u001b[0mresposta\u001b[0m\u001b[0;34m.\u001b[0m\u001b[0mupper\u001b[0m\u001b[0;34m(\u001b[0m\u001b[0;34m)\u001b[0m \u001b[0;32min\u001b[0m \u001b[0;34m[\u001b[0m\u001b[0;34m'A'\u001b[0m\u001b[0;34m]\u001b[0m\u001b[0;34m:\u001b[0m\u001b[0;34m\u001b[0m\u001b[0;34m\u001b[0m\u001b[0m\n\u001b[1;32m      4\u001b[0m   \u001b[0mprint\u001b[0m \u001b[0;34m(\u001b[0m\u001b[0;34m'Resposta Correta'\u001b[0m\u001b[0;34m)\u001b[0m\u001b[0;34m\u001b[0m\u001b[0;34m\u001b[0m\u001b[0m\n\u001b[1;32m      5\u001b[0m \u001b[0;32melse\u001b[0m\u001b[0;34m:\u001b[0m\u001b[0;34m\u001b[0m\u001b[0;34m\u001b[0m\u001b[0m\n",
            "\u001b[0;32m/usr/local/lib/python3.10/dist-packages/ipykernel/kernelbase.py\u001b[0m in \u001b[0;36mraw_input\u001b[0;34m(self, prompt)\u001b[0m\n\u001b[1;32m    849\u001b[0m                 \u001b[0;34m\"raw_input was called, but this frontend does not support input requests.\"\u001b[0m\u001b[0;34m\u001b[0m\u001b[0;34m\u001b[0m\u001b[0m\n\u001b[1;32m    850\u001b[0m             )\n\u001b[0;32m--> 851\u001b[0;31m         return self._input_request(str(prompt),\n\u001b[0m\u001b[1;32m    852\u001b[0m             \u001b[0mself\u001b[0m\u001b[0;34m.\u001b[0m\u001b[0m_parent_ident\u001b[0m\u001b[0;34m,\u001b[0m\u001b[0;34m\u001b[0m\u001b[0;34m\u001b[0m\u001b[0m\n\u001b[1;32m    853\u001b[0m             \u001b[0mself\u001b[0m\u001b[0;34m.\u001b[0m\u001b[0m_parent_header\u001b[0m\u001b[0;34m,\u001b[0m\u001b[0;34m\u001b[0m\u001b[0;34m\u001b[0m\u001b[0m\n",
            "\u001b[0;32m/usr/local/lib/python3.10/dist-packages/ipykernel/kernelbase.py\u001b[0m in \u001b[0;36m_input_request\u001b[0;34m(self, prompt, ident, parent, password)\u001b[0m\n\u001b[1;32m    893\u001b[0m             \u001b[0;32mexcept\u001b[0m \u001b[0mKeyboardInterrupt\u001b[0m\u001b[0;34m:\u001b[0m\u001b[0;34m\u001b[0m\u001b[0;34m\u001b[0m\u001b[0m\n\u001b[1;32m    894\u001b[0m                 \u001b[0;31m# re-raise KeyboardInterrupt, to truncate traceback\u001b[0m\u001b[0;34m\u001b[0m\u001b[0;34m\u001b[0m\u001b[0m\n\u001b[0;32m--> 895\u001b[0;31m                 \u001b[0;32mraise\u001b[0m \u001b[0mKeyboardInterrupt\u001b[0m\u001b[0;34m(\u001b[0m\u001b[0;34m\"Interrupted by user\"\u001b[0m\u001b[0;34m)\u001b[0m \u001b[0;32mfrom\u001b[0m \u001b[0;32mNone\u001b[0m\u001b[0;34m\u001b[0m\u001b[0;34m\u001b[0m\u001b[0m\n\u001b[0m\u001b[1;32m    896\u001b[0m             \u001b[0;32mexcept\u001b[0m \u001b[0mException\u001b[0m \u001b[0;32mas\u001b[0m \u001b[0me\u001b[0m\u001b[0;34m:\u001b[0m\u001b[0;34m\u001b[0m\u001b[0;34m\u001b[0m\u001b[0m\n\u001b[1;32m    897\u001b[0m                 \u001b[0mself\u001b[0m\u001b[0;34m.\u001b[0m\u001b[0mlog\u001b[0m\u001b[0;34m.\u001b[0m\u001b[0mwarning\u001b[0m\u001b[0;34m(\u001b[0m\u001b[0;34m\"Invalid Message:\"\u001b[0m\u001b[0;34m,\u001b[0m \u001b[0mexc_info\u001b[0m\u001b[0;34m=\u001b[0m\u001b[0;32mTrue\u001b[0m\u001b[0;34m)\u001b[0m\u001b[0;34m\u001b[0m\u001b[0;34m\u001b[0m\u001b[0m\n",
            "\u001b[0;31mKeyboardInterrupt\u001b[0m: Interrupted by user"
          ]
        }
      ],
      "source": [
        "# Marcélia Ferreira9:34 PM\n",
        "resposta = input('Escolha a opção correta: a)2 + 2 = 4 b)3 > 5 c)1 < 0 d)1 - 1 = 2 e)1 + 1 > 4: ')\n",
        "if resposta.upper() in ['A']:\n",
        "  print ('Resposta Correta')\n",
        "else:\n",
        "  print ('Resposta Incorreta')\n",
        "\n",
        "# Mikhaelle Bueno9:34 PM\n",
        "resposta_certa = \"a\"\n",
        "resposta_selecionada = input('Marque a alternativa: a b c ou d ')\n",
        "if resposta_selecionada.lower() == resposta_certa:\n",
        "  print(f'Resposta certa: {resposta_selecionada}')\n",
        "else:\n",
        "  print('Resposta errada')\n",
        "\n",
        "# Bianca Malta9:34 PM\n",
        "questao = str(input('Qual é a alternativa correta?(A/B/C/D)')).strip().upper()\n",
        "resposta = 'A'\n",
        "if questao == resposta:\n",
        "  print(f'Você acertou! A resposta {resposta} é a correta.')\n",
        "else:\n",
        "   print(f'A resposta {questao} está incorreta.')\n",
        "\n",
        "# debora be9:35 PM\n",
        "print(\"Qual é o sabor de sorvete mais popular no mundo?\")\n",
        "print(\"a) Chocolate\")\n",
        "print(\"b) Baunilha\")\n",
        "print(\"c) Morango\")\n",
        "print(\"d) Pistache\")\n",
        "print(\"e) Limão\")\n",
        "\n",
        "resposta_usuario = input(\"Escolha a opção correta (a, b, c, d, e): \").lower()\n",
        "\n",
        "resposta_correta = \"b\"\n",
        "\n",
        "if resposta_usuario == resposta_correta:\n",
        "    print(f\"Você escolheu a letra '{resposta_usuario}'. Resposta correta!\")\n",
        "else:\n",
        "    print(f\"Você escolheu a letra '{resposta_usuario}'. Resposta incorreta. A resposta correta é a letra '{resposta_correta}'\")\n",
        "\n",
        "#  Bruna Vieira Tiburcio9:35 PM\n",
        "# Print question to user\n",
        "print('Assinale a opção correta:')\n",
        "print('(A)\\n(B)\\n(C)\\n(D)\\n(E)')\n",
        "\n",
        "# Correct answer\n",
        "correct = 'a'\n",
        "\n",
        "# Input answer\n",
        "user_answer = str(input('Qual a letra correta?'))\n",
        "\n",
        "# If-condition\n",
        "if user_answer.lower() != correct:\n",
        "    print('\\nResposta errada.')\n",
        "else:\n",
        "    print('\\nResposta correta.')\n",
        "\n",
        "# Daiane Bolzan9:35 PM\n",
        "multipla_escolha = input('Digite a alternativa correta: a, b, c, d ou e')\n",
        "print (multipla_escolha)\n",
        "if(multipla_escolha.lower() == 'a'):\n",
        "    print('A opção está errada.')\n",
        "elif (multipla_escolha.lower() == 'b'):\n",
        "    print('A opção está correta.')\n",
        "elif (multipla_escolha.lower() == 'c'):\n",
        "    print('A opção está errada.')\n",
        "elif (multipla_escolha.lower() == 'd'):\n",
        "    print('A opção está errada.')\n",
        "elif (multipla_escolha.lower() == 'e'):\n",
        "    print('A opção está errada.')\n",
        "else:\n",
        "    print('Opção inválida')"
      ]
    },
    {
      "cell_type": "markdown",
      "id": "00edeaec",
      "metadata": {
        "id": "00edeaec"
      },
      "source": [
        "7)\n",
        "Vamos fazer um programa para verificar quem é o assassino de um crime. Para descobrir o assassino,\n",
        "a polícia faz um pequeno questionário com 5 perguntas\n",
        "onde a resposta só pode ser sim ou não:\n",
        "\n",
        "a. Mora perto da vítima?\n",
        "\n",
        "b. Já trabalhou com a vítima?\n",
        "\n",
        "c. Telefonou para a vítima?\n",
        "\n",
        "d. Esteve no local do crime?\n",
        "\n",
        "e. Devia para a vítima?\n",
        "\n",
        "Cada resposta sim dá um ponto para o suspeito. A polícia considera que os suspeitos com 5 pontos são os assassinos, com 4 a 3 pontos\n",
        "são cúmplices e 2 pontos são apenas suspeitos, necessitando outras investigações. Valores iguais ou abaixo de 1 são liberados.'''"
      ]
    },
    {
      "cell_type": "code",
      "execution_count": null,
      "id": "fa67925d",
      "metadata": {
        "ExecuteTime": {
          "end_time": "2023-06-28T01:29:32.268938Z",
          "start_time": "2023-06-28T01:29:26.252661Z"
        },
        "id": "fa67925d"
      },
      "outputs": [],
      "source": [
        "pontos_suspeito = 0\n",
        "mora_perto = True\n",
        "\n",
        "if mora_perto:\n",
        "  pontos_suspeito += 1\n",
        "\n",
        "\n",
        "\n",
        "if pontos_suspeito == 5:\n",
        "  print('Assassino')"
      ]
    },
    {
      "cell_type": "markdown",
      "id": "d68cb36b",
      "metadata": {
        "ExecuteTime": {
          "end_time": "2022-10-13T02:15:54.837527Z",
          "start_time": "2022-10-13T02:15:54.826530Z"
        },
        "id": "d68cb36b"
      },
      "source": [
        "8) Um produto vai sofrer aumento de acordo com a Tabela 1 abaixo. Faça um programa que peça para o usuário digitar o valor do produto de acordo\n",
        "com o preço antigo e escreva uma das mensagens da Tabela 2, de acordo com o preço reajustado:\n",
        "\n",
        "Tabela 1\n",
        "\n",
        "| Preço Antigo         | % de aumento |\n",
        "|----------------------|--------------|\n",
        "| Até 50 reais         | 5%           |\n",
        "| Entre 50 e 100 reais | 10%          |\n",
        "| De 100 a 150 reais   | 13%          |\n",
        "| Acima de 150 reais   | 15%          |\n",
        "\n",
        "Tabela 2\n",
        "\n",
        "| Preço Novo            | Mensagem   |\n",
        "|-----------------------|------------|\n",
        "| Até 80 reais          | Barato     |\n",
        "| Entre 80 e 115 reais  | Razoável   |\n",
        "| Entre 115 e 150 reais | Normal     |\n",
        "| Entre 150 e 170 reais | Caro       |\n",
        "| Acima de 170 reais    | Muito Caro |"
      ]
    },
    {
      "cell_type": "code",
      "execution_count": null,
      "id": "cdba835c",
      "metadata": {
        "ExecuteTime": {
          "end_time": "2023-06-28T01:31:49.747147Z",
          "start_time": "2023-06-28T01:31:47.126121Z"
        },
        "id": "cdba835c"
      },
      "outputs": [],
      "source": [
        "# Bruna Vieira Tiburcio9:45 PM\n",
        "# Input variable\n",
        "product = int(input('Digite o valor do produto:'))\n",
        "\n",
        "adjusted = 0\n",
        "# Readjust price\n",
        "if product <= 50:\n",
        "    adjusted = product * 1.05\n",
        "elif product > 50 and product <= 100:\n",
        "    adjusted = product * 1.1\n",
        "elif product > 100 and product <= 150:\n",
        "    adjusted = product * 1.13\n",
        "else:\n",
        "    adjusted = product * 1.15\n",
        "\n",
        "# Tag price\n",
        "if adjusted <= 80:\n",
        "    print('Barato.')\n",
        "elif adjusted > 80 and adjusted <= 115:\n",
        "    print('Razoável.')\n",
        "elif adjusted > 115 and adjusted <= 150:\n",
        "    print('Normal.')\n",
        "elif adjusted > 150 and adjusted <= 170:\n",
        "    print('Caro.')\n",
        "else:\n",
        "    print('Muito caro.')\n",
        "\n",
        "# LIVIA FERREIRA DOS SANTOS9:49 PM\n",
        "preco_antigo = float(input(\"Digite o valor do produto: \"))\n",
        "\n",
        "percentual_aumento = 0\n",
        "if preco_antigo <= 50:\n",
        "    percentual_aumento = 0.05\n",
        "elif 50 < preco_antigo <= 100:\n",
        "    percentual_aumento = 0.1\n",
        "elif 100 < preco_antigo <= 150:\n",
        "    percentual_aumento = 0.13\n",
        "else:\n",
        "    percentual_aumento = 0.15\n",
        "preco_novo = preco_antigo * (1 + percentual_aumento)\n",
        "if preco_novo <= 80:\n",
        "    mensagem = \"Barato\"\n",
        "elif 80 < preco_novo <= 115:\n",
        "    mensagem = \"Razoável\"\n",
        "elif 115 < preco_novo <= 150:\n",
        "    mensagem = \"Normal\"\n",
        "elif 150 < preco_novo <= 170:\n",
        "    mensagem = \"Caro\"\n",
        "else:\n",
        "    mensagem = \"Muito Caro\"\n",
        "print(f\"O preço reajustado é: R$ {preco_novo:.2f}\")\n",
        "print(f\"Mensagem: {mensagem}\")\n",
        "\n",
        "# debora be9:49 PM\n",
        "preco_antigo = float(input(\"Digite o preço antigo do produto: \"))\n",
        "\n",
        "aumento = 0\n",
        "if preco_antigo <= 50:\n",
        "    aumento = 0.05\n",
        "elif 50 < preco_antigo <= 100:\n",
        "    aumento = 0.10\n",
        "elif 100 < preco_antigo <= 150:\n",
        "    aumento = 0.13\n",
        "else:\n",
        "    aumento = 0.15\n",
        "\n",
        "preco_novo = preco_antigo + (preco_antigo * aumento)\n",
        "\n",
        "mensagem = \"\"\n",
        "if preco_novo <= 80:\n",
        "    mensagem = \"Barato\"\n",
        "elif 80 < preco_novo <= 115:\n",
        "    mensagem = \"Razoável\"\n",
        "elif 115 < preco_novo <= 150:\n",
        "    mensagem = \"Normal\"\n",
        "elif 150 < preco_novo <= 170:\n",
        "    mensagem\n",
        "\n",
        "\n",
        "# Fernanda Oliveira9:52 PM\n",
        "preco_antigo = float(input(\"Insira o valor do produto que está acostumado a pagar: \"))\n",
        "\n",
        "if preco_antigo <= 50:\n",
        "    perc_aumento = 5\n",
        "elif 50 < preco_antigo <= 100:\n",
        "    perc_aument = 10\n",
        "elif 100 < preco_antigo <= 150:\n",
        "    perc_aument = 13\n",
        "else:\n",
        "    perc_aument = 15\n",
        "\n",
        "preco_novo = preco_antigo * (1 + perc_aument / 100)\n",
        "if preco_novo <= 80:\n",
        "    mensagem = \"Barato\"\n",
        "elif 80 < preco_novo <= 115:\n",
        "    mensagem = \"Razoável\"\n",
        "elif 115 < preco_novo <= 150:\n",
        "    mensagem = \"Normal\"\n",
        "elif 150 < preco_novo <= 170:\n",
        "    mensagem = \"Caro\"\n",
        "else:\n",
        "    mensagem = \"Muito Caro\"\n",
        "\n",
        "print(f\"O preço reajustado é: R$ {preco_novo:.2f}\")\n",
        "print(f\"Mensagem: {mensagem}\")\n",
        "\n",
        "# Naiara Andrade9:52 PM\n",
        "valor = float(input(\"Digite o valor do produto: \"))\n",
        "novo_valor = 0\n",
        "\n",
        "if valor > 0 and valor <= 50:\n",
        "  valor *= 1.05\n",
        "elif valor > 50 and valor <= 100:\n",
        "  valor *= 1.1\n",
        "elif valor > 100 and valor <= 150:\n",
        "  valor *= 1.13\n",
        "else:\n",
        "  valor *= 1.15\n",
        "\n",
        "\n",
        "if valor > 0 and valor <= 80:\n",
        "  print(\"Barato\")\n",
        "elif valor > 80 and valor <= 115:\n",
        "  print(\"Razoável\")\n",
        "elif valor > 115 and valor <= 150:\n",
        "  print(\"Normal\")\n",
        "elif valor > 150 and valor <= 170:\n",
        "  print(\"Caro\")\n",
        "elif valor < 170:\n",
        "  print(\"Muito caro\")"
      ]
    },
    {
      "cell_type": "markdown",
      "id": "e1ceb826",
      "metadata": {
        "id": "e1ceb826"
      },
      "source": [
        "9) Desafio 1 - Faça um programa que leia 3 números e informe o maior deles."
      ]
    },
    {
      "cell_type": "code",
      "execution_count": null,
      "id": "62f6041c",
      "metadata": {
        "ExecuteTime": {
          "end_time": "2023-06-28T01:05:50.121938Z",
          "start_time": "2023-06-28T01:05:48.033080Z"
        },
        "id": "62f6041c"
      },
      "outputs": [],
      "source": []
    },
    {
      "cell_type": "markdown",
      "id": "c372e30c",
      "metadata": {
        "id": "c372e30c"
      },
      "source": [
        "10. Faça um Programa que pergunte em que turno você estuda. Peça para digitar M-matutino ou V-Vespertino ou N- Noturno. Imprima a mensagem \"Bom Dia!\", \"Boa Tarde!\" ou \"Boa Noite!\" ou \"Valor Inválido!\", conforme o caso."
      ]
    },
    {
      "cell_type": "code",
      "execution_count": null,
      "id": "c69f9538",
      "metadata": {
        "id": "c69f9538"
      },
      "outputs": [],
      "source": []
    },
    {
      "cell_type": "markdown",
      "id": "abe7ef83",
      "metadata": {
        "id": "abe7ef83"
      },
      "source": [
        "11. Crie um programa que receba um número e imprima \"fizz\" se o número for multiplo de 3, \"buzz\" se for multiplo de 5 e \"fizzbuzz\" se for multiplo de 3 e 5"
      ]
    },
    {
      "cell_type": "code",
      "execution_count": null,
      "id": "b41be0e1",
      "metadata": {
        "id": "b41be0e1"
      },
      "outputs": [],
      "source": []
    },
    {
      "cell_type": "markdown",
      "id": "a8535bbc",
      "metadata": {
        "id": "a8535bbc"
      },
      "source": [
        "12. Faça um Programa que leia um número e exiba o dia correspondente da semana. (1-Domingo, 2- Segunda, etc.), se digitar outro valor deve aparecer valor inválido."
      ]
    },
    {
      "cell_type": "code",
      "execution_count": null,
      "id": "c16333dc",
      "metadata": {
        "id": "c16333dc"
      },
      "outputs": [],
      "source": []
    },
    {
      "cell_type": "markdown",
      "id": "fc560bbc",
      "metadata": {
        "id": "fc560bbc"
      },
      "source": [
        "13. Faça um programa que pergunte o preço de três produtos e informe qual produto você deve comprar, sabendo que a decisão é sempre pelo mais barato."
      ]
    },
    {
      "cell_type": "code",
      "execution_count": null,
      "id": "7c2d05ae",
      "metadata": {
        "id": "7c2d05ae"
      },
      "outputs": [],
      "source": []
    },
    {
      "cell_type": "markdown",
      "id": "9989468c",
      "metadata": {
        "id": "9989468c"
      },
      "source": []
    }
  ],
  "metadata": {
    "kernelspec": {
      "display_name": "Python 3 (ipykernel)",
      "language": "python",
      "name": "python3"
    },
    "language_info": {
      "codemirror_mode": {
        "name": "ipython",
        "version": 3
      },
      "file_extension": ".py",
      "mimetype": "text/x-python",
      "name": "python",
      "nbconvert_exporter": "python",
      "pygments_lexer": "ipython3",
      "version": "3.10.2"
    },
    "latex_envs": {
      "LaTeX_envs_menu_present": true,
      "autoclose": false,
      "autocomplete": true,
      "bibliofile": "biblio.bib",
      "cite_by": "apalike",
      "current_citInitial": 1,
      "eqLabelWithNumbers": true,
      "eqNumInitial": 1,
      "hotkeys": {
        "equation": "Ctrl-E",
        "itemize": "Ctrl-I"
      },
      "labels_anchors": false,
      "latex_user_defs": false,
      "report_style_numbering": false,
      "user_envs_cfg": false
    },
    "toc": {
      "base_numbering": 1,
      "nav_menu": {},
      "number_sections": true,
      "sideBar": true,
      "skip_h1_title": false,
      "title_cell": "Table of Contents",
      "title_sidebar": "Contents",
      "toc_cell": false,
      "toc_position": {},
      "toc_section_display": true,
      "toc_window_display": false
    },
    "varInspector": {
      "cols": {
        "lenName": 16,
        "lenType": 16,
        "lenVar": 40
      },
      "kernels_config": {
        "python": {
          "delete_cmd_postfix": "",
          "delete_cmd_prefix": "del ",
          "library": "var_list.py",
          "varRefreshCmd": "print(var_dic_list())"
        },
        "r": {
          "delete_cmd_postfix": ") ",
          "delete_cmd_prefix": "rm(",
          "library": "var_list.r",
          "varRefreshCmd": "cat(var_dic_list()) "
        }
      },
      "types_to_exclude": [
        "module",
        "function",
        "builtin_function_or_method",
        "instance",
        "_Feature"
      ],
      "window_display": false
    },
    "vscode": {
      "interpreter": {
        "hash": "5c66de18c091297d67c9a295278ca9503b5163a383fa85591c3cdb6daec33020"
      }
    },
    "colab": {
      "provenance": []
    }
  },
  "nbformat": 4,
  "nbformat_minor": 5
}