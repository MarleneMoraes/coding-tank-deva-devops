{
 "cells": [
  {
   "cell_type": "markdown",
   "metadata": {},
   "source": [
    "# Lógica de Programação I - Exercícios IF ELSE"
   ]
  },
  {
   "cell_type": "markdown",
   "metadata": {},
   "source": [
    "1. Peça ao usuário para informar 4 lados consecutivos de um polígono. Veja se é um quadrado ou retâgulo, ou nenhum.\n",
    "Caso seja quadrado ou retângulo, imprima a área calculada."
   ]
  },
  {
   "cell_type": "code",
   "execution_count": null,
   "metadata": {},
   "outputs": [],
   "source": [
    "lado1 = float(input('Primeiro lado: '))\n",
    "lado2 = float(input('Segundo lado: '))\n",
    "lado3 = float(input('Terceiro lado: '))\n",
    "lado4 = float(input('Quarto lado: '))\n",
    "\n",
    "if lado1 == lado2 == lado3 == lado4:\n",
    "    area = lado1 * lado2\n",
    "    print('Este polígono é um quadrado\\n')\n",
    "    print(f'A área do quadrado é: ', area)\n",
    "elif lado1 == lado3 and lado2 == lado4:\n",
    "    area = lado1 * lado2\n",
    "    print('Este polígono é um retângulo\\n')\n",
    "    print(f'A área do retângulo é: ', area)\n",
    "else:\n",
    "    print('Não é nem um quadrado nem um retângulo.')"
   ]
  },
  {
   "cell_type": "markdown",
   "metadata": {},
   "source": [
    "2. Pergunte ao usuário o valor de um produto, e se ele quer aumentar ou diminuir o preço.\n",
    "Pergunte ao usuário o quanto que ele gostaria de diminuir ou acrescentar, em porcentagem, e calcule o novo preço do produto para o usuário."
   ]
  },
  {
   "cell_type": "code",
   "execution_count": null,
   "metadata": {
    "ExecuteTime": {
     "end_time": "2023-06-30T11:59:29.564669Z",
     "start_time": "2023-06-30T11:59:26.316079Z"
    }
   },
   "outputs": [],
   "source": [
    "valor_produto = float(input('Valor do produto: '))\n",
    "\n",
    "operacao = input('Você quer aumentar ou diminuir o preço? (responda com \"aumentar\" ou \"diminuir\"): ')\n",
    "\n",
    "porcentagem = float(input('Porcentagem que você gostaria de alterar: '))\n",
    "\n",
    "# Calcula o novo preço do produto\n",
    "if operacao.lower() == 'aumentar':\n",
    "    novo_preco = valor_produto + (valor_produto * porcentagem / 100)\n",
    "elif operacao.lower() == 'diminuir':\n",
    "    novo_preco = valor_produto - (valor_produto * porcentagem / 100)\n",
    "else:\n",
    "    print('Operação inválida')\n",
    "\n",
    "print('Novo preço do produto: ', novo_preco)"
   ]
  },
  {
   "cell_type": "markdown",
   "metadata": {},
   "source": [
    "3. Faça um programa que pergunte 4 notas de provas de um aluno, caso a média seja maior ou igual a 6 ele está aprovado, caso seja maior que 5, ele está de recuperação, pergunte a nota da prova de recuperação, caso a média da nota de recuperação com a média das provas seja maior que 6, ele está aprovado, se não reprovado.\n",
    "Caso a média das 4 provas seja menor ou igual a 5 ele está reprovado direto."
   ]
  },
  {
   "cell_type": "code",
   "execution_count": null,
   "metadata": {
    "ExecuteTime": {
     "end_time": "2023-06-30T12:07:17.661704Z",
     "start_time": "2023-06-30T12:07:11.534213Z"
    }
   },
   "outputs": [],
   "source": [
    "nota1 = float(input('Primeira nota: '))\n",
    "nota2 = float(input('Segunda nota: '))\n",
    "nota3 = float(input('Terceira nota: '))\n",
    "nota4 = float(input('Quarta nota: '))\n",
    "\n",
    "media = (nota1 + nota2 + nota3 + nota4) / 4\n",
    "\n",
    "if media >= 6:\n",
    "    print('Situação: APROVADO')\n",
    "elif media > 5:\n",
    "    print('Situação: RECUPERAÇÃO')\n",
    "    nota_recuperacao = float(input('Nota da prova de recuperação: '))\n",
    "    media_final = (media + nota_recuperacao) / 2\n",
    "    if media_final >= 6:\n",
    "        print('Situação: APROVADO APÓS RECUPERAÇÃO')\n",
    "    else:\n",
    "        print('Situação: REPROVADO')\n",
    "else:\n",
    "    print('Situação: REPROVADO')\n"
   ]
  },
  {
   "cell_type": "markdown",
   "metadata": {},
   "source": [
    "4. Pergunte ao usuário que horas são, somente número inteiro, e retorne \"Bom dia!\", caso seja entre 5 horas e 11 horas da manhã, \"Boa tarde!\", caso seja entre 12 horas e 18 horas da tarde, e \"Boa noite!\", caso seja entre 19 horas e 4 horas da manhã."
   ]
  },
  {
   "cell_type": "code",
   "execution_count": null,
   "metadata": {
    "ExecuteTime": {
     "end_time": "2023-06-30T12:09:54.126013Z",
     "start_time": "2023-06-30T12:09:52.435107Z"
    }
   },
   "outputs": [],
   "source": [
    "hora_atual = int(input('Qual hora que marca agora? (somente números inteiros): '))\n",
    "\n",
    "if 5 <= hora_atual <= 11:\n",
    "    print('Bom dia!')\n",
    "elif 12 <= hora_atual <= 18:\n",
    "    print('Boa tarde!')\n",
    "else:\n",
    "    print('Boa noite!')"
   ]
  },
  {
   "cell_type": "markdown",
   "metadata": {},
   "source": [
    "5. Peça o usuário para digitar um número, informe se o número é divisivel por 5, caso seja, informe se o número é par ou impar."
   ]
  },
  {
   "cell_type": "code",
   "execution_count": null,
   "metadata": {
    "ExecuteTime": {
     "end_time": "2023-06-30T12:12:34.437082Z",
     "start_time": "2023-06-30T12:12:33.574849Z"
    }
   },
   "outputs": [],
   "source": [
    "numero = int(input('Número: '))\n",
    "\n",
    "if numero % 5 == 0:\n",
    "    if numero % 2 == 0:\n",
    "        print('Este número é par.')\n",
    "    else:\n",
    "        print('Este número é ímpar.')\n",
    "else:\n",
    "    print('O número não é divisível por 5.')\n"
   ]
  }
 ],
 "metadata": {
  "kernelspec": {
   "display_name": "Python 3 (ipykernel)",
   "language": "python",
   "name": "python3"
  },
  "language_info": {
   "codemirror_mode": {
    "name": "ipython",
    "version": 3
   },
   "file_extension": ".py",
   "mimetype": "text/x-python",
   "name": "python",
   "nbconvert_exporter": "python",
   "pygments_lexer": "ipython3",
   "version": "3.10.2"
  },
  "latex_envs": {
   "LaTeX_envs_menu_present": true,
   "autoclose": false,
   "autocomplete": true,
   "bibliofile": "biblio.bib",
   "cite_by": "apalike",
   "current_citInitial": 1,
   "eqLabelWithNumbers": true,
   "eqNumInitial": 1,
   "hotkeys": {
    "equation": "Ctrl-E",
    "itemize": "Ctrl-I"
   },
   "labels_anchors": false,
   "latex_user_defs": false,
   "report_style_numbering": false,
   "user_envs_cfg": false
  },
  "toc": {
   "base_numbering": 1,
   "nav_menu": {},
   "number_sections": true,
   "sideBar": true,
   "skip_h1_title": false,
   "title_cell": "Table of Contents",
   "title_sidebar": "Contents",
   "toc_cell": false,
   "toc_position": {},
   "toc_section_display": true,
   "toc_window_display": false
  },
  "varInspector": {
   "cols": {
    "lenName": 16,
    "lenType": 16,
    "lenVar": 40
   },
   "kernels_config": {
    "python": {
     "delete_cmd_postfix": "",
     "delete_cmd_prefix": "del ",
     "library": "var_list.py",
     "varRefreshCmd": "print(var_dic_list())"
    },
    "r": {
     "delete_cmd_postfix": ") ",
     "delete_cmd_prefix": "rm(",
     "library": "var_list.r",
     "varRefreshCmd": "cat(var_dic_list()) "
    }
   },
   "types_to_exclude": [
    "module",
    "function",
    "builtin_function_or_method",
    "instance",
    "_Feature"
   ],
   "window_display": false
  },
  "vscode": {
   "interpreter": {
    "hash": "7f52069df51f55474cef70a04f6de2c8e83f851022777c4983d9d0bb63ea6184"
   }
  }
 },
 "nbformat": 4,
 "nbformat_minor": 2
}
