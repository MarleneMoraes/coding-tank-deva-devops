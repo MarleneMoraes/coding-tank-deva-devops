{
  "cells": [
    {
      "cell_type": "markdown",
      "metadata": {
        "id": "Q0GTKh-e1aoJ"
      },
      "source": [
        "## Estruturas de Repetição - While"
      ]
    },
    {
      "cell_type": "markdown",
      "metadata": {
        "id": "lTzvmSi_1aoM"
      },
      "source": [
        "### Tópicos da aula\n",
        "\n",
        "- Estruturas de repetição\n",
        "- Looping while"
      ]
    },
    {
      "cell_type": "markdown",
      "metadata": {
        "id": "k4Wo7BYX1aoM"
      },
      "source": [
        "Na aula passada fizemos o programa que a pessoa digitava 2 numeros e a gente dizia o maior e se quisermos 3? E se quisermos 10? E se quisermos 100? Conseguimos fazer?"
      ]
    },
    {
      "cell_type": "markdown",
      "metadata": {
        "id": "dy8RQQzY1aoM"
      },
      "source": [
        "### Recapitulando\n",
        "\n",
        "Quando queremos alterar o fluxo de execução do programa podemos utilizar o comando if junto com uma expressão lógica."
      ]
    },
    {
      "cell_type": "code",
      "execution_count": 2,
      "metadata": {
        "colab": {
          "base_uri": "https://localhost:8080/"
        },
        "id": "CkP34qHe1aoN",
        "outputId": "69bea804-2343-48b2-bf9f-9c827ff04a65"
      },
      "outputs": [
        {
          "name": "stdout",
          "output_type": "stream",
          "text": [
            "Sempre vou aparecer\n"
          ]
        }
      ],
      "source": [
        "nota_prova_1 = 3\n",
        "nota_prova_2 = 5\n",
        "\n",
        "\n",
        "if nota_prova_1 > nota_prova_2:\n",
        "  print('Nunca vou rodar aqui')\n",
        "else:\n",
        "  print('Sempre vou aparecer')"
      ]
    },
    {
      "cell_type": "markdown",
      "metadata": {
        "id": "QKq1U5qJ1aoN"
      },
      "source": [
        "### Estruturas de Repetição\n",
        "\n",
        "Um if não garante que eu consigo validar o valor de um campo pois se o usuário não acertar na 2a vez, ele seguirá inválido"
      ]
    },
    {
      "cell_type": "markdown",
      "metadata": {
        "id": "sHdPOrBI1aoO"
      },
      "source": [
        "__Obs.__: SEMPRE que eu trabalho com estrutura de repetição (WHILE - ENQUANTO) é NECESSÁRIO que a condição seja alterada dentro do while, SENAO entro em looping infinito"
      ]
    },
    {
      "cell_type": "markdown",
      "metadata": {
        "id": "_-WGGHDh90pk"
      },
      "source": [
        "Faça um programa que leia a validade das informações:\n",
        "\n",
        "a. Idade: entre 0 e 150;\n",
        "\n",
        "b. Salário: maior que 0;\n",
        "\n",
        "c. Sexo: M, F ou Outro;\n",
        "\n",
        "O programa deve imprimir uma mensagem de erro para cada informação inválida."
      ]
    },
    {
      "cell_type": "code",
      "execution_count": null,
      "metadata": {
        "colab": {
          "base_uri": "https://localhost:8080/"
        },
        "id": "q2Lw6YuD90JX",
        "outputId": "f9efa4aa-7686-4c67-b2aa-f358063cd8f3"
      },
      "outputs": [],
      "source": [
        "faixa_idade = int(input('Digite uma idade entre 0 e 150 anos: '))\n",
        "if faixa_idade >= 0 and faixa_idade <= 150:\n",
        "  print (f' Informação válida. A idade digitada foi: {faixa_idade} anos.')\n",
        "else:\n",
        "  print (f'Informação inválida: A idade de {faixa_idade} anos não está dentro da faixa de anos solicitados.')"
      ]
    },
    {
      "cell_type": "code",
      "execution_count": null,
      "metadata": {
        "ExecuteTime": {
          "end_time": "2023-06-28T22:45:14.317035Z",
          "start_time": "2023-06-28T22:45:12.520055Z"
        },
        "colab": {
          "base_uri": "https://localhost:8080/"
        },
        "id": "4OnhSEzy1aoO",
        "outputId": "c2323b96-ad6d-45c1-bff1-8482bad568d3"
      },
      "outputs": [],
      "source": [
        "# enquanto for verdadeira minha condicao (bool), faca minhas acoes. Se for falso, parar\n",
        "# while condicao:\n",
        "#   acoes\n",
        "\n",
        "# Cuidados com Loop infinito\n",
        "faixa_idade = int(input('Digite uma idade entre 0 e 150 anos: '))\n",
        "while True:\n",
        "  print('Estou aqui')\n",
        "  break\n",
        "  print('E agora?')\n",
        "\n",
        "print('Sai do loop')"
      ]
    },
    {
      "cell_type": "code",
      "execution_count": null,
      "metadata": {
        "colab": {
          "base_uri": "https://localhost:8080/",
          "height": 1000
        },
        "id": "ncFQznM8_U9L",
        "outputId": "c12731e2-7f77-40d4-90e6-920f6fca16f9"
      },
      "outputs": [],
      "source": [
        "faixa_idade = int(input('Digite uma idade entre 0 e 150 anos: '))\n",
        "while True:\n",
        "  print('Estou aqui em cima')\n",
        "  if faixa_idade >= 0 and faixa_idade <= 150:\n",
        "    break\n",
        "    print('Entrei em loop infinito')\n",
        "  else:\n",
        "    print('Idade inválida, por favor digite novamente')\n",
        "    faixa_idade = int(input('Digite uma idade entre 0 e 150 anos: '))\n",
        "\n",
        "print('Sai do loop')"
      ]
    },
    {
      "cell_type": "code",
      "execution_count": null,
      "metadata": {
        "colab": {
          "base_uri": "https://localhost:8080/"
        },
        "id": "oxna0Uk3_vW8",
        "outputId": "03b74f2f-b0d3-4b5f-d85f-99a0c579026a"
      },
      "outputs": [],
      "source": [
        "faixa_idade = int(input('Digite uma idade entre 0 e 150 anos: '))\n",
        "# condicao_faixa_idade = faixa_idade < 0 or faixa_idade > 150 -> Deixar a verificacao dentro do while\n",
        "\n",
        "# Se estiver fora da faixa de erro, não repetir\n",
        "while faixa_idade < 0 or faixa_idade > 150:\n",
        "  print('Idade inválida, por favor digite novamente')\n",
        "  faixa_idade = int(input('Digite uma idade entre 0 e 150 anos: '))\n",
        "\n",
        "print('Sai do loop')"
      ]
    },
    {
      "cell_type": "code",
      "execution_count": null,
      "metadata": {
        "colab": {
          "base_uri": "https://localhost:8080/"
        },
        "id": "TtnyRGrtAahs",
        "outputId": "026332c8-a273-4d93-938a-41066198c81a"
      },
      "outputs": [],
      "source": [
        "faixa_idade = -1\n",
        "\n",
        "condicao_faixa_idade = faixa_idade < 0 or faixa_idade > 150\n",
        "print('Espero ser True:', condicao_faixa_idade)\n",
        "\n",
        "faixa_idade = 10\n",
        "print('Espero ser False:', condicao_faixa_idade)"
      ]
    },
    {
      "cell_type": "code",
      "execution_count": null,
      "metadata": {
        "colab": {
          "base_uri": "https://localhost:8080/"
        },
        "id": "CX0nRYazCHRy",
        "outputId": "010816c5-38e1-4b75-e065-4508d4e5f7fe"
      },
      "outputs": [],
      "source": [
        "faixa_idade = int(input('Digite uma idade entre 0 e 150 anos: '))\n",
        "condicao_faixa_idade = faixa_idade < 0 or faixa_idade > 150\n",
        "\n",
        "# Se estiver fora da faixa de erro, não repetir\n",
        "while condicao_faixa_idade:\n",
        "  print('Idade inválida, por favor digite novamente')\n",
        "  faixa_idade = int(input('Digite uma idade entre 0 e 150 anos: '))\n",
        "\n",
        "  condicao_faixa_idade = faixa_idade < 0 or faixa_idade > 150\n",
        "\n",
        "  continue\n",
        "  print('Continue a nadar')\n",
        "\n",
        "print('Sai do loop')"
      ]
    },
    {
      "cell_type": "code",
      "execution_count": 25,
      "metadata": {
        "id": "PAd1FpCZCsKz"
      },
      "outputs": [],
      "source": [
        "condicao = True\n",
        "\n",
        "if condicao:\n",
        "  pass\n",
        "else:\n",
        "  print('Print')"
      ]
    },
    {
      "cell_type": "markdown",
      "metadata": {
        "id": "7KE9_onN1aoO"
      },
      "source": [
        "__Exemplo:__ Some todos os números de 0 a um número digitado pelo usuário"
      ]
    },
    {
      "cell_type": "code",
      "execution_count": null,
      "metadata": {
        "id": "wLPSLNEjFYc1"
      },
      "outputs": [],
      "source": [
        "numero = input('Digite um número INTEIRO e POSITIVO: ')\n",
        "\n",
        "if numero.isdecimal():\n",
        "  print('Valor correto')\n",
        "else:\n",
        "  print('Valor incorreto')"
      ]
    },
    {
      "cell_type": "code",
      "execution_count": null,
      "metadata": {
        "colab": {
          "base_uri": "https://localhost:8080/"
        },
        "id": "ZonKVBfI1aoO",
        "outputId": "ee54899f-a053-49fe-a775-e8be62f85115"
      },
      "outputs": [],
      "source": [
        "numero = input('Digite um número INTEIRO e POSITIVO: ')\n",
        "\n",
        "# Validar se é um número\n",
        "while not numero.isdecimal():\n",
        "  print('Valor digitado incorreto')\n",
        "  numero = input('Digite um número INTEIRO e POSITIVO: ')"
      ]
    },
    {
      "cell_type": "code",
      "execution_count": null,
      "metadata": {
        "id": "inXt2XqqGhku"
      },
      "outputs": [],
      "source": [
        "numero = int(input('Digite um número INTEIRO e POSITIVO: '))"
      ]
    },
    {
      "cell_type": "code",
      "execution_count": null,
      "metadata": {
        "colab": {
          "base_uri": "https://localhost:8080/"
        },
        "id": "mOVyCnfvEovK",
        "outputId": "aef23343-67eb-4d9f-e2cf-89be98f3270a"
      },
      "outputs": [],
      "source": [
        "nao_inteiro_positivo = True\n",
        "numero = 0\n",
        "\n",
        "while nao_inteiro_positivo:\n",
        "  numero = input('Digite um número INTEIRO e POSITIVO: ')\n",
        "\n",
        "  if numero.isdecimal():\n",
        "    nao_inteiro_positivo = False\n",
        "  else:\n",
        "    print('Valor digitado incorreto')\n",
        "\n",
        "numero = int(numero)\n",
        "\n",
        "# somatoria dos numeros de 1 ate o numero\n",
        "somatorio = 0\n",
        "auxiliar = 0\n",
        "\n",
        "while True:\n",
        "  somatorio += auxiliar\n",
        "\n",
        "  auxiliar += 1\n",
        "  if auxiliar > numero:\n",
        "    break\n",
        "\n",
        "print('Somatorio: ', somatorio)"
      ]
    },
    {
      "cell_type": "code",
      "execution_count": null,
      "metadata": {
        "colab": {
          "base_uri": "https://localhost:8080/"
        },
        "id": "n1Kn2NsCHKoy",
        "outputId": "a5f5a092-0189-494a-9c42-ebb2b1028495"
      },
      "outputs": [],
      "source": [
        "# numero 10\n",
        "# 1, 2, 3, 4, 5, 6, 7, 8, 9, 10\n",
        "1 + 2 + 3 + 4 + 5 + 6 + 7 + 8 + 9 + 10"
      ]
    },
    {
      "cell_type": "code",
      "execution_count": null,
      "metadata": {
        "colab": {
          "base_uri": "https://localhost:8080/"
        },
        "id": "DV9r9yQXIdCy",
        "outputId": "08dbe164-0f9b-436e-f85b-08df08fc41c2"
      },
      "outputs": [],
      "source": [
        "numero = 10\n",
        "somatorio = 0\n",
        "auxiliar = numero\n",
        "contador = 0\n",
        "\n",
        "while auxiliar > 0:\n",
        "  somatorio += auxiliar\n",
        "  auxiliar -= 1\n",
        "\n",
        "  contador += 1\n",
        "\n",
        "  # print('Somatorio: ', somatorio)\n",
        "  # print('Auxiliar: ', auxiliar)\n",
        "\n",
        "\n",
        "print('Somatório final:', somatorio)\n",
        "print('Numero de repetições: ', contador)"
      ]
    },
    {
      "cell_type": "markdown",
      "metadata": {
        "id": "P_gKqvVOQC9C"
      },
      "source": [
        "**Fatorial**"
      ]
    },
    {
      "cell_type": "code",
      "execution_count": null,
      "metadata": {
        "colab": {
          "base_uri": "https://localhost:8080/"
        },
        "id": "zhDodaYdQBrW",
        "outputId": "7158a0d0-a84b-41f6-f55a-d6bab28f9ae6"
      },
      "outputs": [],
      "source": [
        "nao_inteiro_positivo = True\n",
        "numero = 0\n",
        "\n",
        "while nao_inteiro_positivo:\n",
        "  numero = input('Digite um número INTEIRO e POSITIVO: ')\n",
        "\n",
        "  if numero.isdecimal():\n",
        "    nao_inteiro_positivo = False\n",
        "  else:\n",
        "    print('Valor digitado incorreto')\n",
        "\n",
        "numero = int(numero)\n",
        "auxiliar = numero\n",
        "fatorial = 1\n",
        "\n",
        "# Fazer o loop aqui ate chegar no auxiliar 0\n",
        "while auxiliar > 0:\n",
        "  fatorial = fatorial * auxiliar\n",
        "  auxiliar -= 1\n",
        "\n",
        "print(f'{numero}! = {fatorial}')"
      ]
    },
    {
      "cell_type": "code",
      "execution_count": null,
      "metadata": {
        "id": "qSStzuWdQLcz"
      },
      "outputs": [],
      "source": [
        "# 0 * 5 * 4 * 3 * 2 * 1 -> Não fazer\n",
        "# 1 * 5 * 4 * 3 * 2 * 1\n",
        "\n",
        "\n",
        "# 5! = 5 * 4!\n",
        "# 4! = 4 * 3!\n",
        "# ...\n",
        "# 5! = 5 * 4 * 3 * 2 * 1"
      ]
    },
    {
      "cell_type": "markdown",
      "metadata": {
        "id": "jlhM3QmI1aoP"
      },
      "source": [
        "### Bora praticar!"
      ]
    },
    {
      "cell_type": "markdown",
      "metadata": {
        "id": "x3HQC0RY1aoP"
      },
      "source": [
        "1) Escreva um programa que solicite um número inteiro e imprima na tela todos os números de 1 até o número digitado, separado por espaços.  \n",
        "_Exemplo_  \n",
        "número digitado: 5  \n",
        "resultado esperado: 1 2 3 4 5"
      ]
    },
    {
      "cell_type": "code",
      "execution_count": null,
      "metadata": {
        "colab": {
          "base_uri": "https://localhost:8080/"
        },
        "id": "Yeom52rFTZ8a",
        "outputId": "f5cb0e49-dc13-4cd9-d0a0-1ea807a0b0cb"
      },
      "outputs": [],
      "source": [
        "numero = int(input('Número: '))\n",
        "i = 1\n",
        "while i <= numero:\n",
        "    print(i, end=' ')\n",
        "    i += 1"
      ]
    },
    {
      "cell_type": "markdown",
      "metadata": {
        "id": "-XffXAn41aoP"
      },
      "source": [
        "2) Faça um programa que mostre o fatorial de um número digitado.  \n",
        "_Exemplo_  \n",
        "número digitado: 5  \n",
        "resultado esperado: 120"
      ]
    },
    {
      "cell_type": "code",
      "execution_count": null,
      "metadata": {
        "ExecuteTime": {
          "end_time": "2023-06-29T14:07:02.010602Z",
          "start_time": "2023-06-29T14:07:01.444374Z"
        },
        "id": "gJDzyHNj1aoP"
      },
      "outputs": [],
      "source": [
        "numero = int(input('Número: '))\n",
        "\n",
        "fatorial = 1\n",
        "i = 1\n",
        "while i <= numero:\n",
        "    fatorial *= i\n",
        "    i += 1\n",
        "print(fatorial)"
      ]
    },
    {
      "cell_type": "markdown",
      "metadata": {
        "id": "RXL4eGTw1aoP"
      },
      "source": [
        "3) Faça um programa que imprima a tabuada do 9 na tela (entre 1 e 10). Insira a conta, por exemplo, 9 * 1 = 9, sendo cada um dos valores em uma linha diferente."
      ]
    },
    {
      "cell_type": "code",
      "execution_count": null,
      "metadata": {
        "ExecuteTime": {
          "end_time": "2023-06-29T14:07:36.887441Z",
          "start_time": "2023-06-29T14:07:32.988688Z"
        },
        "id": "2mlYBixo1aoP"
      },
      "outputs": [],
      "source": [
        "i = 1\n",
        "while i <= 10:\n",
        "    print('9 *', i, '=', 9 * i)\n",
        "    i += 1"
      ]
    },
    {
      "cell_type": "markdown",
      "metadata": {
        "id": "IYxpwxwM1aoP"
      },
      "source": [
        "4) Faça um programa em que o usuário digite números quaisquer que encerrará no momento em que o valor 0 seja digitado. Ao final diga qual foi o maior número digitado."
      ]
    },
    {
      "cell_type": "code",
      "execution_count": null,
      "metadata": {
        "colab": {
          "base_uri": "https://localhost:8080/"
        },
        "id": "X4I-auEfXxR9",
        "outputId": "2cf2d7a8-1add-4baf-ade5-1f6d6116c73c"
      },
      "outputs": [],
      "source": [
        "maior_numero = -1\n",
        "while True:\n",
        "    numero = int(input('Digite um número (0 para sair): '))\n",
        "    if numero == 0:\n",
        "        break\n",
        "    if numero > maior_numero:\n",
        "        maior_numero = numero\n",
        "print('O maior número digitado foi:', maior_numero)"
      ]
    },
    {
      "cell_type": "markdown",
      "metadata": {
        "id": "s7fDZAZb1aoQ"
      },
      "source": [
        "5. Faça um script que peça para o usuário digitar a idade, o salário e o sexo de uma pessoa até que as entradas digitadas sejam válidas.  \n",
        "  \n",
        "a. Idade: entre 0 e 150  \n",
        "b. Salário: maior que 0  \n",
        "c. Gênero: M, F ou Outro  \n",
        "  \n",
        "Por último imprima os dados recebidos do usuário."
      ]
    },
    {
      "cell_type": "code",
      "execution_count": null,
      "metadata": {
        "colab": {
          "base_uri": "https://localhost:8080/"
        },
        "id": "YZXZpcFgZH0q",
        "outputId": "cbe980dd-5250-4d4a-d47a-ee63970fa5ad"
      },
      "outputs": [],
      "source": [
        "while True:\n",
        "    idade = int(input('Idade (entre 0 e 150): '))\n",
        "    if 0 <= idade <= 150:\n",
        "        break\n",
        "    print('Idade inválida, tente novamente.')\n",
        "\n",
        "while True:\n",
        "    salario = float(input('Salário (maior que 0): '))\n",
        "    if salario > 0:\n",
        "        break\n",
        "    print('Salário inválido, tente novamente.')\n",
        "\n",
        "while True:\n",
        "    genero = input('Gênero (M, F ou Outro): ')\n",
        "    if genero in ['M', 'F', 'Outro']:\n",
        "        break\n",
        "    print('Gênero inválido, tente novamente.')\n",
        "\n",
        "print('Idade:', idade)\n",
        "print('Salário:', salario)\n",
        "print('Gênero:', genero)"
      ]
    },
    {
      "cell_type": "markdown",
      "metadata": {
        "id": "XAFdqTvM1aoQ"
      },
      "source": [
        "6) Faça uma calculadora. O usuário deve inserir qual a operação matemática ele deseja realizar e logo em seguida os dois números. O programa deve finalizar apenas quando o usuário digitar a opção \"sair\" no momento de escolha da operação matemática."
      ]
    },
    {
      "cell_type": "code",
      "execution_count": null,
      "metadata": {
        "ExecuteTime": {
          "end_time": "2023-06-29T01:02:38.629837Z",
          "start_time": "2023-06-29T01:02:33.805648Z"
        },
        "id": "J_HVxPSl1aoQ"
      },
      "outputs": [],
      "source": [
        "print('CALCULADORA')\n",
        "\n",
        "while True:\n",
        "    print('Digite a operação matemática que deseja realizar (+, -, *, /) ou \"sair\" para finalizar:')\n",
        "    operacao = input()\n",
        "\n",
        "    if operacao.lower() == 'sair':\n",
        "        break\n",
        "\n",
        "    print('Digite o primeiro número:')\n",
        "    num1 = float(input())\n",
        "    print('Digite o segundo número:')\n",
        "    num2 = float(input())\n",
        "\n",
        "    if operacao == '+':\n",
        "        resultado = num1 + num2\n",
        "    elif operacao == '-':\n",
        "        resultado = num1 - num2\n",
        "    elif operacao == '*':\n",
        "        resultado = num1 * num2\n",
        "    elif operacao == '/':\n",
        "        if num2 != 0:\n",
        "            resultado = num1 / num2\n",
        "        else:\n",
        "            print('Erro: Divisão por zero não é permitida.')\n",
        "            continue\n",
        "    else:\n",
        "        print('Operação inválida.')\n",
        "        continue\n",
        "\n",
        "    print('O resultado da operação é: ', resultado)\n"
      ]
    },
    {
      "cell_type": "markdown",
      "metadata": {
        "id": "4REA7tm-1aoQ"
      },
      "source": [
        "7. Efetue a soma dos números pares de 1 a 100 (USANDO LOOP WHILE)"
      ]
    },
    {
      "cell_type": "code",
      "execution_count": null,
      "metadata": {
        "id": "w_ta6_il1aoQ"
      },
      "outputs": [],
      "source": [
        "numero = 1\n",
        "soma = 0\n",
        "\n",
        "while numero <= 100:\n",
        "    if numero % 2 == 0:\n",
        "        soma += numero\n",
        "    numero += 1\n",
        "\n",
        "print('Soma dos números: ', soma)"
      ]
    },
    {
      "cell_type": "markdown",
      "metadata": {
        "id": "I9lXvzHn1aoQ"
      },
      "source": [
        "8. Crie um programa que receba palavras e agregue elas em um texto até que seja escrita a palavra PARE."
      ]
    },
    {
      "cell_type": "code",
      "execution_count": null,
      "metadata": {
        "id": "zp26acsr1aoQ"
      },
      "outputs": [],
      "source": [
        "texto = ''\n",
        "\n",
        "while True:\n",
        "    print('Palavra ou \"PARE\" para finalizar:')\n",
        "    palavra = input()\n",
        "\n",
        "    if palavra.lower() == 'pare':\n",
        "        break\n",
        "\n",
        "    texto += palavra + ' '\n",
        "\n",
        "print('O texto agregado é: ', texto)\n"
      ]
    }
  ],
  "metadata": {
    "colab": {
      "provenance": []
    },
    "kernelspec": {
      "display_name": "Python 3 (ipykernel)",
      "language": "python",
      "name": "python3"
    },
    "language_info": {
      "codemirror_mode": {
        "name": "ipython",
        "version": 3
      },
      "file_extension": ".py",
      "mimetype": "text/x-python",
      "name": "python",
      "nbconvert_exporter": "python",
      "pygments_lexer": "ipython3",
      "version": "3.10.12"
    },
    "latex_envs": {
      "LaTeX_envs_menu_present": true,
      "autoclose": false,
      "autocomplete": true,
      "bibliofile": "biblio.bib",
      "cite_by": "apalike",
      "current_citInitial": 1,
      "eqLabelWithNumbers": true,
      "eqNumInitial": 1,
      "hotkeys": {
        "equation": "Ctrl-E",
        "itemize": "Ctrl-I"
      },
      "labels_anchors": false,
      "latex_user_defs": false,
      "report_style_numbering": false,
      "user_envs_cfg": false
    },
    "toc": {
      "base_numbering": 1,
      "nav_menu": {},
      "number_sections": true,
      "sideBar": true,
      "skip_h1_title": false,
      "title_cell": "Table of Contents",
      "title_sidebar": "Contents",
      "toc_cell": false,
      "toc_position": {},
      "toc_section_display": true,
      "toc_window_display": false
    },
    "varInspector": {
      "cols": {
        "lenName": 16,
        "lenType": 16,
        "lenVar": 40
      },
      "kernels_config": {
        "python": {
          "delete_cmd_postfix": "",
          "delete_cmd_prefix": "del ",
          "library": "var_list.py",
          "varRefreshCmd": "print(var_dic_list())"
        },
        "r": {
          "delete_cmd_postfix": ") ",
          "delete_cmd_prefix": "rm(",
          "library": "var_list.r",
          "varRefreshCmd": "cat(var_dic_list()) "
        }
      },
      "types_to_exclude": [
        "module",
        "function",
        "builtin_function_or_method",
        "instance",
        "_Feature"
      ],
      "window_display": false
    },
    "vscode": {
      "interpreter": {
        "hash": "5c66de18c091297d67c9a295278ca9503b5163a383fa85591c3cdb6daec33020"
      }
    }
  },
  "nbformat": 4,
  "nbformat_minor": 0
}
