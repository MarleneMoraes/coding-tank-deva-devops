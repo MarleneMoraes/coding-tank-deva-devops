{
 "cells": [
  {
   "cell_type": "markdown",
   "metadata": {},
   "source": [
    "# Lógica de Programação I - WHILE"
   ]
  },
  {
   "cell_type": "markdown",
   "metadata": {},
   "source": [
    "1. Pergunte um usuário quantas provas ele fez, depois pergunte a nota de todas as provas.\n",
    "Calcule a média e caso seja maior ou igual a 6 informe que ele está aprovado, se não reprovado."
   ]
  },
  {
   "cell_type": "code",
   "execution_count": null,
   "metadata": {},
   "outputs": [],
   "source": [
    "print('Quantas provas você fez?')\n",
    "num_provas = int(input())\n",
    "\n",
    "soma_notas = 0\n",
    "\n",
    "i = 1\n",
    "while i <= num_provas:\n",
    "    print('Nota da prova ', i, ':')\n",
    "    nota = float(input())\n",
    "    soma_notas += nota\n",
    "    i += 1\n",
    "\n",
    "media = soma_notas / num_provas\n",
    "\n",
    "if media >= 6:\n",
    "    print('Você está aprovado com média', media)\n",
    "else:\n",
    "    print('Você está reprovado com média', media)\n"
   ]
  },
  {
   "cell_type": "markdown",
   "metadata": {},
   "source": [
    "2. Faça um programa que o usuário digite quantos números quiser, ate que digite sair.\n",
    "Retorne a soma e a média dos números digitados."
   ]
  },
  {
   "cell_type": "code",
   "execution_count": null,
   "metadata": {},
   "outputs": [],
   "source": [
    "soma = 0\n",
    "contador = 0\n",
    "\n",
    "while True:\n",
    "    entrada = input('Número ou \"sair\" para encerrar: ')\n",
    "    if entrada.lower() == 'sair':\n",
    "        break\n",
    "    else:\n",
    "        try:\n",
    "            numero = float(entrada)\n",
    "            soma += numero\n",
    "            contador += 1\n",
    "        except ValueError:\n",
    "            print('Entrada inválida. Tente novamente.')\n",
    "\n",
    "if contador > 0:\n",
    "    media = soma / contador\n",
    "    print('Soma dos números digitados: ', soma)\n",
    "    print('Média dos números digitados: ', media)\n",
    "else:\n",
    "    print('Nenhum número foi digitado.')\n"
   ]
  },
  {
   "cell_type": "markdown",
   "metadata": {},
   "source": [
    "3. Usando laço, pergunte um usuário a nota de 3 provas. Remova a menor nota e calcule a média das notas que ele atingiu. "
   ]
  },
  {
   "cell_type": "code",
   "execution_count": null,
   "metadata": {},
   "outputs": [],
   "source": [
    "nota1 = float(input('Nota da primeira prova: '))\n",
    "nota2 = float(input('Nota da segunda prova: '))\n",
    "nota3 = float(input('Nota da terceira prova: '))\n",
    "\n",
    "if nota1 <= nota2 and nota1 <= nota3:\n",
    "    media = (nota2 + nota3) / 2\n",
    "elif nota2 <= nota1 and nota2 <= nota3:\n",
    "    media = (nota1 + nota3) / 2\n",
    "else:\n",
    "    media = (nota1 + nota2) / 2\n",
    "\n",
    "print('A média das duas maiores notas é: ', media)"
   ]
  },
  {
   "cell_type": "markdown",
   "metadata": {},
   "source": [
    "4. Pergunte o usuário 2 números inteiros, calcule quantos números pares existem entre os 2 número informados.\n",
    "Exemplo: se ele digitar 1 e 9, tem 4 números pares entre esses números 2,4,6,8 ."
   ]
  },
  {
   "cell_type": "code",
   "execution_count": null,
   "metadata": {},
   "outputs": [],
   "source": [
    "num1 = int(input('Primeiro número: '))\n",
    "num2 = int(input('Segundo número: '))\n",
    "\n",
    "if num1 > num2:\n",
    "    num1, num2 = num2, num1\n",
    "\n",
    "contador = 0\n",
    "num = num1\n",
    "\n",
    "while num <= num2:\n",
    "    if num % 2 == 0:\n",
    "        contador += 1\n",
    "    num += 1\n",
    "\n",
    "print('Existem', contador, 'números pares entre', num1, 'e', num2)\n"
   ]
  },
  {
   "cell_type": "markdown",
   "metadata": {},
   "source": [
    "5. Pergunte o usuário 2 números inteiros, calcule a soma de todos os números ímpares inteiros entre esses números.\n",
    "Exemplo: se ele digitar 1 e 9, tem 5 números ímpares entre esses números 1,3,5,7,9, e a soma é 25 ."
   ]
  },
  {
   "cell_type": "code",
   "execution_count": null,
   "metadata": {},
   "outputs": [],
   "source": [
    "num1 = int(input('Digite o primeiro número: '))\n",
    "num2 = int(input('Digite o segundo número: '))\n",
    "\n",
    "if num1 > num2:\n",
    "    num1, num2 = num2, num1\n",
    "\n",
    "soma = 0\n",
    "num = num1\n",
    "\n",
    "while num <= num2:\n",
    "    if num % 2 != 0:\n",
    "        soma += num\n",
    "    num += 1\n",
    "\n",
    "print('A soma dos números ímpares entre', num1, 'e', num2, 'é', soma)\n"
   ]
  }
 ],
 "metadata": {
  "kernelspec": {
   "display_name": "Python 3 (ipykernel)",
   "language": "python",
   "name": "python3"
  },
  "language_info": {
   "codemirror_mode": {
    "name": "ipython",
    "version": 3
   },
   "file_extension": ".py",
   "mimetype": "text/x-python",
   "name": "python",
   "nbconvert_exporter": "python",
   "pygments_lexer": "ipython3",
   "version": "3.10.2"
  },
  "latex_envs": {
   "LaTeX_envs_menu_present": true,
   "autoclose": false,
   "autocomplete": true,
   "bibliofile": "biblio.bib",
   "cite_by": "apalike",
   "current_citInitial": 1,
   "eqLabelWithNumbers": true,
   "eqNumInitial": 1,
   "hotkeys": {
    "equation": "Ctrl-E",
    "itemize": "Ctrl-I"
   },
   "labels_anchors": false,
   "latex_user_defs": false,
   "report_style_numbering": false,
   "user_envs_cfg": false
  },
  "toc": {
   "base_numbering": 1,
   "nav_menu": {},
   "number_sections": true,
   "sideBar": true,
   "skip_h1_title": false,
   "title_cell": "Table of Contents",
   "title_sidebar": "Contents",
   "toc_cell": false,
   "toc_position": {},
   "toc_section_display": true,
   "toc_window_display": false
  },
  "varInspector": {
   "cols": {
    "lenName": 16,
    "lenType": 16,
    "lenVar": 40
   },
   "kernels_config": {
    "python": {
     "delete_cmd_postfix": "",
     "delete_cmd_prefix": "del ",
     "library": "var_list.py",
     "varRefreshCmd": "print(var_dic_list())"
    },
    "r": {
     "delete_cmd_postfix": ") ",
     "delete_cmd_prefix": "rm(",
     "library": "var_list.r",
     "varRefreshCmd": "cat(var_dic_list()) "
    }
   },
   "types_to_exclude": [
    "module",
    "function",
    "builtin_function_or_method",
    "instance",
    "_Feature"
   ],
   "window_display": false
  },
  "vscode": {
   "interpreter": {
    "hash": "7f52069df51f55474cef70a04f6de2c8e83f851022777c4983d9d0bb63ea6184"
   }
  }
 },
 "nbformat": 4,
 "nbformat_minor": 2
}
