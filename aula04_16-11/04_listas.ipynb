{
  "cells": [
    {
      "cell_type": "markdown",
      "metadata": {
        "id": "NMsfog5tLkLv"
      },
      "source": [
        "## Listas"
      ]
    },
    {
      "cell_type": "markdown",
      "metadata": {
        "id": "wP6nJGXENYrx"
      },
      "source": [
        "1. Peça ao usuário para informar 4 lados consecutivos de um polígono. Veja se é um quadrado ou retâgulo, ou nenhum.\n",
        "Caso seja quadrado ou retângulo, imprima a área calculada."
      ]
    },
    {
      "cell_type": "code",
      "execution_count": null,
      "metadata": {
        "colab": {
          "base_uri": "https://localhost:8080/"
        },
        "id": "5xWPSytwMoJH",
        "outputId": "de9229e0-3f04-497f-a92c-0fba2f90a07b"
      },
      "outputs": [],
      "source": [
        "primeiro_lado = int(input('Primeiro lado do polígono: '))\n",
        "segundo_lado = int(input('Segundo lado do polígono: '))\n",
        "terceiro_lado = int(input('Terceiro lado do polígono: '))\n",
        "quarto_lado = int(input('Quarto lado do polígono: '))\n",
        "\n",
        "if primeiro_lado == segundo_lado and primeiro_lado == terceiro_lado and primeiro_lado == quarto_lado:\n",
        "    print('Seu polígono é um quadrado.')\n",
        "    area = primeiro_lado ** 2\n",
        "    print(f'A área do quadrado é: {area}')\n",
        "elif primeiro_lado == terceiro_lado and segundo_lado == quarto_lado:\n",
        "    print('Seu polígono é um retângulo.')\n",
        "    area = primeiro_lado * segundo_lado\n",
        "    print(f'A área do retângulo é: {area}')\n",
        "else:\n",
        "    print('O polígono não é nem um quadrado nem um retângulo.')\n",
        "\n",
        "l1 = float(input('informe a medida do  lado 1: '))\n",
        "l2 = float(input('informe a medida da altura 1: '))\n",
        "l3 = float(input('informe a medida do lado 2: '))\n",
        "l4 = float(input('informe a medida da altura 2: '))\n",
        "soma = 1\n",
        "\n",
        "if l1 == l2 and l1 == l3 and l1 == l4:\n",
        "  soma = l1 * l2\n",
        "  print(soma)\n",
        "elif l1 == l3 and l2 == l4:\n",
        "  soma = l1 * l2\n",
        "  print(soma)\n",
        "else:\n",
        "  print('não sera calculado')"
      ]
    },
    {
      "cell_type": "markdown",
      "metadata": {
        "id": "aQ2GThSpLkLx"
      },
      "source": [
        "### Tópicos da Aula\n",
        "- Listas\n",
        "- Índices\n",
        "- Slicing\n",
        "- Métodos de listas\n",
        "- Iterações de listas"
      ]
    },
    {
      "cell_type": "markdown",
      "metadata": {
        "id": "5i0F4lvVPiCD"
      },
      "source": [
        "Prova:\n",
        "- 8 questões\n",
        "- 5 alternativa (justificada)\n",
        "- 3 questões de programação\n",
        "- Zera a questão caso usar algo não visto"
      ]
    },
    {
      "cell_type": "markdown",
      "metadata": {
        "id": "KQsNKa2zLkLx"
      },
      "source": [
        "### Listas\n",
        "\n",
        "E se quisermos fazer o programa que a pessoa digita 10 números e dizemos o maior, conseguimos?\n",
        "\n",
        "E se quisermos o 2° maior? E se quisermos o 5º?\n",
        "\n",
        "Podemos resolver com **listas**\n",
        "- Listas são coleções de objetos em Python e é expressada em `[]`"
      ]
    },
    {
      "cell_type": "code",
      "execution_count": null,
      "metadata": {
        "ExecuteTime": {
          "end_time": "2023-06-29T22:43:30.002117Z",
          "start_time": "2023-06-29T22:43:29.924710Z"
        },
        "colab": {
          "base_uri": "https://localhost:8080/"
        },
        "id": "gcamSRSoLkLx",
        "outputId": "25b8ed82-73bf-40c1-ffb8-830cdf75b142"
      },
      "outputs": [],
      "source": [
        "contador = 0\n",
        "maior_numero = 0\n",
        "\n",
        "while contador < 5:\n",
        "  numero = int(input('Digite um número: '))\n",
        "  if numero > maior_numero:\n",
        "    maior_numero = numero\n",
        "\n",
        "  contador += 1\n",
        "\n",
        "print(maior_numero)"
      ]
    },
    {
      "cell_type": "code",
      "execution_count": null,
      "metadata": {
        "colab": {
          "base_uri": "https://localhost:8080/"
        },
        "id": "71CY_PAYTlIC",
        "outputId": "83e192cd-11c4-475b-ef1c-8c62fe23a535"
      },
      "outputs": [],
      "source": [
        "print(list())\n",
        "print(type(list()))"
      ]
    },
    {
      "cell_type": "code",
      "execution_count": null,
      "metadata": {
        "colab": {
          "base_uri": "https://localhost:8080/"
        },
        "id": "O5jr515rTpZg",
        "outputId": "6a583894-6e80-4da4-cfe2-c6e0f7d1a40c"
      },
      "outputs": [],
      "source": [
        "print([])\n",
        "print(type([]))"
      ]
    },
    {
      "cell_type": "code",
      "execution_count": null,
      "metadata": {
        "colab": {
          "base_uri": "https://localhost:8080/"
        },
        "id": "KJOnj0SmT0Yj",
        "outputId": "58520db8-b1bc-4e99-ae46-328d54464fbb"
      },
      "outputs": [],
      "source": [
        "lista_vazia = list()\n",
        "lista_vazia_2 = []\n",
        "\n",
        "print(type(lista_vazia))"
      ]
    },
    {
      "cell_type": "code",
      "execution_count": null,
      "metadata": {
        "colab": {
          "base_uri": "https://localhost:8080/"
        },
        "id": "0WoelcqVT6Wt",
        "outputId": "3e4332d5-6911-46d0-922f-846d0afedd69"
      },
      "outputs": [],
      "source": [
        "# Podemos criar uma lista com qualquer tipo de dados\n",
        "numero = 10\n",
        "\n",
        "lista_inteiros = [1, 2, 3, numero]\n",
        "lista_strings = ['lucas', 'faria', 'hermeto', 'lucas']\n",
        "lista_floats = [1.2, 2.2, 3.4, 5.4]\n",
        "lista_booleanos = [True, False]\n",
        "lista_mista = [1, 2.0, 'string', True]\n",
        "\n",
        "print(lista_inteiros)\n",
        "print(lista_strings)\n",
        "print(lista_floats)\n",
        "print(lista_booleanos)"
      ]
    },
    {
      "cell_type": "code",
      "execution_count": null,
      "metadata": {
        "colab": {
          "base_uri": "https://localhost:8080/"
        },
        "id": "0Zu1SVCRUeWo",
        "outputId": "be8807c0-9123-4962-eb77-0548b38d65e3"
      },
      "outputs": [],
      "source": [
        "# diferença ou semelhança entre array e list\n",
        "lista_lista = [[1, 2, 4], ['lucas', 'faria', 'hermeto'], lista_mista]\n",
        "print(lista_lista)\n",
        "print(type(lista_lista))\n"
      ]
    },
    {
      "cell_type": "code",
      "execution_count": null,
      "metadata": {
        "colab": {
          "base_uri": "https://localhost:8080/"
        },
        "id": "peB0VNX4Wa3_",
        "outputId": "9a852dbf-a3d0-4b41-8bfe-b2ddb68e231f"
      },
      "outputs": [],
      "source": [
        "# Índice, Salário, Nome, É Funcionario?\n",
        "[[1, 2.0, 'string', True],\n",
        " [2, 1000, 'lucas', True]]"
      ]
    },
    {
      "cell_type": "markdown",
      "metadata": {
        "id": "SOAimFSlLkLy"
      },
      "source": [
        "### Índices"
      ]
    },
    {
      "cell_type": "code",
      "execution_count": null,
      "metadata": {
        "id": "3ir0YnMaLkLy"
      },
      "outputs": [],
      "source": [
        "numero = 10\n",
        "lista_inteiros = [1, 2, 3, numero]"
      ]
    },
    {
      "cell_type": "code",
      "execution_count": null,
      "metadata": {
        "colab": {
          "base_uri": "https://localhost:8080/"
        },
        "id": "a3bBK36sYZTi",
        "outputId": "cba438af-3f41-40dc-a7f8-e909a5ec3c66"
      },
      "outputs": [],
      "source": [
        "# indice inicia com 0\n",
        "print(lista_inteiros[0])\n",
        "print(lista_inteiros[1])\n",
        "print(lista_inteiros[2])\n",
        "print(lista_inteiros[3])"
      ]
    },
    {
      "cell_type": "code",
      "execution_count": null,
      "metadata": {
        "colab": {
          "base_uri": "https://localhost:8080/",
          "height": 176
        },
        "id": "RPEuvNi2Yls3",
        "outputId": "c9c9808d-282e-47db-b958-323f75c6f531"
      },
      "outputs": [],
      "source": [
        "lista_inteiros[4]"
      ]
    },
    {
      "cell_type": "code",
      "execution_count": null,
      "metadata": {
        "colab": {
          "base_uri": "https://localhost:8080/"
        },
        "id": "x2xvrEf5YsiF",
        "outputId": "369b0cae-13cb-44ef-c95d-4dc5e85e673d"
      },
      "outputs": [],
      "source": [
        "# Numero total de elementos != indice final\n",
        "# Numero total de elementos - 1 = indice final\n",
        "len(lista_inteiros)"
      ]
    },
    {
      "cell_type": "code",
      "execution_count": null,
      "metadata": {
        "colab": {
          "base_uri": "https://localhost:8080/"
        },
        "id": "v3JnkOxkZ95Q",
        "outputId": "7b5351a9-6ee5-4901-ee31-8b238642149c"
      },
      "outputs": [],
      "source": [
        "# numero = 10\n",
        "# lista_inteiros = [1, 2, 3, numero]\n",
        "print(len(lista_inteiros))\n",
        "print(len(lista_inteiros) - 1)\n",
        "\n",
        "print(lista_inteiros[len(lista_inteiros) - 1])"
      ]
    },
    {
      "cell_type": "code",
      "execution_count": null,
      "metadata": {
        "colab": {
          "base_uri": "https://localhost:8080/"
        },
        "id": "25lzIJYYY92u",
        "outputId": "a81c056b-8623-489b-fc35-6a9fbf0f977c"
      },
      "outputs": [],
      "source": [
        "indice_final = len(lista_inteiros) - 1\n",
        "\n",
        "print('Indice final: ', indice_final)\n",
        "print(lista_inteiros[len(lista_inteiros) - 1])\n",
        "print('Elemento do indice final: ', lista_inteiros[indice_final])"
      ]
    },
    {
      "cell_type": "code",
      "execution_count": null,
      "metadata": {
        "colab": {
          "base_uri": "https://localhost:8080/"
        },
        "id": "8IsRblr9ZhAu",
        "outputId": "6de7ced3-350d-4565-9152-c3f20cccc870"
      },
      "outputs": [],
      "source": [
        "type(lista_inteiros[indice_final])"
      ]
    },
    {
      "cell_type": "code",
      "execution_count": null,
      "metadata": {
        "colab": {
          "base_uri": "https://localhost:8080/"
        },
        "id": "w8RZRtv-aYyJ",
        "outputId": "67c24adc-67e5-4600-834c-a4e023c63e2e"
      },
      "outputs": [],
      "source": [
        "lista_mista = [1, 2.0, 'string', True, []]\n",
        "\n",
        "print(f'{lista_mista[0]} -> {type(lista_mista[0])}')\n",
        "print(f'{lista_mista[1]} -> {type(lista_mista[1])}')\n",
        "print(f'{lista_mista[2]} -> {type(lista_mista[2])}')\n",
        "print(f'{lista_mista[3]} -> {type(lista_mista[3])}')\n",
        "print(f'{lista_mista[4]} -> {type(lista_mista[4])}')"
      ]
    },
    {
      "cell_type": "code",
      "execution_count": null,
      "metadata": {
        "colab": {
          "base_uri": "https://localhost:8080/"
        },
        "id": "ZKjffBdOa4m8",
        "outputId": "0aae3e0f-de59-4764-caea-ddecd5b044c8"
      },
      "outputs": [],
      "source": [
        "# numero = 10\n",
        "# lista_inteiros = [1, 2, 3, numero]\n",
        "\n",
        "print(lista_inteiros[-1])\n",
        "print(lista_inteiros[-2])\n",
        "print(lista_inteiros[-3])\n",
        "print(lista_inteiros[-4])\n",
        "# print(lista_inteiros[-5]) -> erro"
      ]
    },
    {
      "cell_type": "code",
      "execution_count": null,
      "metadata": {
        "colab": {
          "base_uri": "https://localhost:8080/"
        },
        "id": "e30jyM3CbT0b",
        "outputId": "791684ae-9c84-4d01-c0ef-c67e000b8d6c"
      },
      "outputs": [],
      "source": [
        "funcionario_1 = [1, 2.0, 'string', True]\n",
        "\n",
        "todos_funcionarios = [funcionario_1,\n",
        "                      [2, 1000, 'lucas', True]]\n",
        "\n",
        "funcionario_2 = todos_funcionarios[1]\n",
        "\n",
        "print(todos_funcionarios)\n",
        "print(f'{todos_funcionarios[0]} -> {type(todos_funcionarios[0])}')\n",
        "print(funcionario_1)\n",
        "print(f'Salario funcionario 1: {todos_funcionarios[0][1]} -> {type(todos_funcionarios[0][1])}')\n",
        "\n",
        "print(todos_funcionarios[-1])\n",
        "print(funcionario_2)\n",
        "print('Salario funcionario 2: ', funcionario_2[1])"
      ]
    },
    {
      "cell_type": "code",
      "execution_count": null,
      "metadata": {
        "colab": {
          "base_uri": "https://localhost:8080/"
        },
        "id": "IezNyU-Kdcd0",
        "outputId": "05c78bef-fa72-45ac-f3e4-b2fabf2a3909"
      },
      "outputs": [],
      "source": [
        "lista_lista_lista = [[[1, 2], [2]], [[3], [4]]]\n",
        "print(lista_lista_lista)\n",
        "print(f'{lista_lista_lista[0]} -> {type(lista_lista_lista[0])}')\n",
        "print(f'{lista_lista_lista[0][0]} -> {type(lista_lista_lista[0][0])}')\n",
        "print(f'{lista_lista_lista[0][0][0]} -> {type(lista_lista_lista[0][0][0])}')"
      ]
    },
    {
      "cell_type": "code",
      "execution_count": null,
      "metadata": {
        "colab": {
          "base_uri": "https://localhost:8080/"
        },
        "id": "iVkvxa4Jd-oy",
        "outputId": "34e44e6a-91e1-4407-89d8-e72177a969a5"
      },
      "outputs": [],
      "source": [
        "funcionario_1, funcionario_2 = todos_funcionarios\n",
        "\n",
        "print(funcionario_1)\n",
        "print(funcionario_2)"
      ]
    },
    {
      "cell_type": "markdown",
      "metadata": {
        "id": "aqevFLjWLkLy"
      },
      "source": [
        "### Slicing"
      ]
    },
    {
      "cell_type": "code",
      "execution_count": null,
      "metadata": {
        "ExecuteTime": {
          "end_time": "2023-06-29T22:57:02.145995Z",
          "start_time": "2023-06-29T22:57:02.133453Z"
        },
        "colab": {
          "base_uri": "https://localhost:8080/"
        },
        "id": "LMgZ0vk_LkLy",
        "outputId": "61a4c2eb-760f-4356-db6d-6aaf2bc0ea36"
      },
      "outputs": [],
      "source": [
        "lista_inteiros"
      ]
    },
    {
      "cell_type": "code",
      "execution_count": null,
      "metadata": {
        "colab": {
          "base_uri": "https://localhost:8080/"
        },
        "id": "JyLJ1G6pehwq",
        "outputId": "6990d661-35b0-43fc-d1b0-813c41b5fb94"
      },
      "outputs": [],
      "source": [
        "# fatiamento\n",
        "\n",
        "print(lista_inteiros[:])\n",
        "print(lista_inteiros[1:])\n",
        "print(lista_inteiros[2:]) # inclui o primeiro\n",
        "print(lista_inteiros[:3]) # Não inclui o último\n",
        "\n",
        "print(lista_inteiros[1:3]) # seleciona do 1 até o 3 índice\n",
        "\n",
        "print(lista_inteiros[:-2])\n",
        "print(lista_inteiros[-1:]) # Não faz sentido, mas funciona"
      ]
    },
    {
      "cell_type": "code",
      "execution_count": null,
      "metadata": {
        "colab": {
          "base_uri": "https://localhost:8080/"
        },
        "id": "prw1FTj8fnUc",
        "outputId": "cc9aba5b-48af-41be-8f8c-e82851541880"
      },
      "outputs": [],
      "source": [
        "lista_inteiros = [1, 2, 3, 10, 15, 20, 40]\n",
        "print(lista_inteiros)\n",
        "print(lista_inteiros[::2]) # lista[inicio:fim:passos]\n",
        "print(lista_inteiros[1::2])\n",
        "print(lista_inteiros[1:4:2])\n",
        "print(lista_inteiros[1::3])"
      ]
    },
    {
      "cell_type": "markdown",
      "metadata": {
        "id": "D_2y_XNcLkLy"
      },
      "source": [
        "### Métodos de listas"
      ]
    },
    {
      "cell_type": "code",
      "execution_count": null,
      "metadata": {
        "ExecuteTime": {
          "end_time": "2023-06-29T22:59:04.243689Z",
          "start_time": "2023-06-29T22:59:04.239641Z"
        },
        "colab": {
          "base_uri": "https://localhost:8080/"
        },
        "id": "18s825lfLkLz",
        "outputId": "56616ede-9edd-4c57-8913-a22a2c5585f7"
      },
      "outputs": [],
      "source": [
        "lista = [1, 2, 3, 4, 5, 6, 7, 8, 9, 10]\n",
        "\n",
        "print(lista)\n",
        "print(lista[4])\n",
        "lista[4] = 55\n",
        "print(lista[4])\n",
        "print(lista)"
      ]
    },
    {
      "cell_type": "code",
      "execution_count": null,
      "metadata": {
        "colab": {
          "base_uri": "https://localhost:8080/"
        },
        "id": "q2cXuDHalKuz",
        "outputId": "21df86f2-a7d0-4da7-8210-4d86a9da7df6"
      },
      "outputs": [],
      "source": [
        "# Índice, Salário, Nome, É Funcionario?\n",
        "todos_funcionarios = [[1, 2.0, 'string', True],\n",
        "                      [2, 1000, 'lucas', True]]\n",
        "\n",
        "print(todos_funcionarios)\n",
        "funcionario_1 = todos_funcionarios[0]\n",
        "funcionario_1[2] = 'fulano'\n",
        "print(todos_funcionarios)"
      ]
    },
    {
      "cell_type": "code",
      "execution_count": null,
      "metadata": {
        "colab": {
          "base_uri": "https://localhost:8080/"
        },
        "id": "DHM8kHOVlghk",
        "outputId": "e92699c1-6a53-45dc-c682-aa03dc2b4276"
      },
      "outputs": [],
      "source": [
        "numero_repeticoes = 4\n",
        "\n",
        "print(numero_repeticoes)\n",
        "auxiliar = numero_repeticoes\n",
        "auxiliar = 10\n",
        "print(numero_repeticoes)"
      ]
    },
    {
      "cell_type": "code",
      "execution_count": null,
      "metadata": {
        "colab": {
          "base_uri": "https://localhost:8080/"
        },
        "id": "84eAuBfqmInf",
        "outputId": "a0c7f6ee-3470-424d-a5aa-3a543f189d23"
      },
      "outputs": [],
      "source": [
        "lista = [1, 2, 3, 4, 5, 6, 7, 8, 9, 10]\n",
        "\n",
        "print(lista)\n",
        "lista.append(11)\n",
        "print(lista)"
      ]
    },
    {
      "cell_type": "markdown",
      "metadata": {
        "id": "nGz5ABDwLkLz"
      },
      "source": [
        "Existem várias outras funções/métodos de listas que vocês irão no próximo módulo, como:\n",
        "\n",
        "- append\n",
        "- insert\n",
        "- remove\n",
        "- pop\n",
        "- sorted\n",
        "- count\n",
        "- reverse\n",
        "- index\n",
        "- max, min, len"
      ]
    },
    {
      "cell_type": "code",
      "execution_count": null,
      "metadata": {
        "ExecuteTime": {
          "end_time": "2023-06-30T00:44:56.276611Z",
          "start_time": "2023-06-30T00:44:56.267811Z"
        },
        "colab": {
          "base_uri": "https://localhost:8080/"
        },
        "id": "iAS0AN6MLkLz",
        "outputId": "78d1c098-4479-46fd-941a-6f825847cec4"
      },
      "outputs": [],
      "source": [
        "lista = [1, 2, 3, 4, 5, 6, 7, 8, 9, 10]\n",
        "\n",
        "print(lista)\n",
        "lista.insert(3, 3.1) # (indice, objeto)\n",
        "lista.insert(20, 11)\n",
        "lista.insert(19, 12)\n",
        "lista.insert(11, 'ola')\n",
        "lista.insert(11, [2, 3, 4])\n",
        "print(lista)"
      ]
    },
    {
      "cell_type": "code",
      "execution_count": null,
      "metadata": {
        "colab": {
          "base_uri": "https://localhost:8080/"
        },
        "id": "XbMrlA4noOpa",
        "outputId": "732c1193-181b-4af9-c8e6-01ea1be33d0a"
      },
      "outputs": [],
      "source": [
        "# remover o primeiro elemento, não o índice\n",
        "lista_auxiliar = [1, 2, 3, 4, 5, 6, 6, 1, 1, 2, 'lucas']\n",
        "print(lista_auxiliar)\n",
        "\n",
        "lista_auxiliar.remove(1) # remove o elemento\n",
        "lista_auxiliar.remove(1)\n",
        "lista_auxiliar.remove(5)\n",
        "lista_auxiliar.remove('lucas')\n",
        "print(lista_auxiliar)"
      ]
    },
    {
      "cell_type": "code",
      "execution_count": null,
      "metadata": {
        "id": "0m5xSojGpGQe"
      },
      "outputs": [],
      "source": [
        "lista_numeros = []\n",
        "contador = 0\n",
        "\n",
        "while contador < 10:\n",
        "  elemento = input('Digite um número: ')\n",
        "\n",
        "  lista_numeros.append(elemento)\n",
        "  contador += 1\n",
        "\n",
        "max(lista_numeros)"
      ]
    },
    {
      "cell_type": "code",
      "execution_count": null,
      "metadata": {
        "colab": {
          "base_uri": "https://localhost:8080/"
        },
        "id": "BmBK9zLLpldV",
        "outputId": "5a710ecc-b522-4c72-e70a-8fdf00bbcb8d"
      },
      "outputs": [],
      "source": [
        "lista_auxiliar = [1, 2, 3, 4, 5, 6, 6, 1, 1, 2]\n",
        "\n",
        "print(f'{lista_auxiliar} -> {lista_auxiliar[0]}')\n",
        "lista_auxiliar.pop() # vazio, remove o último elemento\n",
        "lista_auxiliar.pop(1) # remove o indice\n",
        "lista_auxiliar.pop(0) # remove o indice\n",
        "# lista_auxiliar.pop(10) -> erro por estar fora do limite da lista\n",
        "print(f'{lista_auxiliar} -> {lista_auxiliar[0]}')"
      ]
    },
    {
      "cell_type": "code",
      "execution_count": null,
      "metadata": {
        "colab": {
          "base_uri": "https://localhost:8080/"
        },
        "id": "865quWelq0-p",
        "outputId": "ab01c5ca-ebc5-4907-be81-548e59a82de0"
      },
      "outputs": [],
      "source": [
        "lista_auxiliar = [1, 2, 3, 4, 5, 6, 6, 1, 1, 2]\n",
        "\n",
        "print(lista_auxiliar)\n",
        "lista_auxiliar_ordenada = sorted(lista_auxiliar)\n",
        "print(lista_auxiliar)\n",
        "print(lista_auxiliar_ordenada)"
      ]
    },
    {
      "cell_type": "code",
      "execution_count": null,
      "metadata": {
        "colab": {
          "base_uri": "https://localhost:8080/",
          "height": 211
        },
        "id": "ArJH3oYUq0kD",
        "outputId": "449a6442-b794-4df4-ba8e-eac5e683b88b"
      },
      "outputs": [],
      "source": [
        "lista_mista = [1, 2.0, 'string', True, []]\n",
        "\n",
        "# Não funciona\n",
        "sorted(lista_mista)\n"
      ]
    },
    {
      "cell_type": "code",
      "execution_count": null,
      "metadata": {
        "colab": {
          "base_uri": "https://localhost:8080/"
        },
        "id": "7oM0zWSgrTWS",
        "outputId": "6884df61-f6b8-4b6c-c559-6278d8171fba"
      },
      "outputs": [],
      "source": [
        "lista_caracteres = ['b', 'a', '1', 'c']\n",
        "lista_palavras = ['Lucas', 'Angelica', 'Araceli']\n",
        "\n",
        "print(sorted(lista_caracteres))\n",
        "print(sorted(lista_palavras))\n",
        "print(sorted(lista_palavras, reverse=True))\n",
        "lista_palavras.reverse()\n",
        "print(lista_palavras)"
      ]
    },
    {
      "cell_type": "code",
      "execution_count": null,
      "metadata": {
        "colab": {
          "base_uri": "https://localhost:8080/"
        },
        "id": "p1UtOslSsG7E",
        "outputId": "b4704d91-9842-4f90-ed1d-2b308ebe14ad"
      },
      "outputs": [],
      "source": [
        "lista_auxiliar = [1, 2, 3, 4, 5, 6, 6, 1, 1, 2]\n",
        "\n",
        "print('Quantidade de números 1: ', lista_auxiliar.count(1))\n",
        "print('Quantidade de números 5: ', lista_auxiliar.count(5))"
      ]
    },
    {
      "cell_type": "code",
      "execution_count": null,
      "metadata": {
        "colab": {
          "base_uri": "https://localhost:8080/"
        },
        "id": "HJB7h1vvsetX",
        "outputId": "4951b076-4130-4644-ea35-c5a5102fe352"
      },
      "outputs": [],
      "source": [
        "# Retorna o indice da primeira aparição\n",
        "lista_auxiliar = [1, 2, 3, 4, 5, 6, 6, 1, 1, 2]\n",
        "\n",
        "lista_auxiliar.index(6) # index(elemento)\n",
        "# lista_auxiliar.index(7) -> erro por não ter o elemento"
      ]
    },
    {
      "cell_type": "code",
      "execution_count": null,
      "metadata": {
        "colab": {
          "base_uri": "https://localhost:8080/"
        },
        "id": "k8q8sWM2s0Cm",
        "outputId": "8d3dc107-4e02-4525-ec3a-82ce18f25bc2"
      },
      "outputs": [],
      "source": [
        "lista_auxiliar = [1, 2, 3, 4, 5, 6, 6, 1, 1, 2]\n",
        "\n",
        "print(max(lista_auxiliar))\n",
        "print(min(lista_auxiliar))\n",
        "print(len(lista_auxiliar))\n",
        "print(sum(lista_auxiliar))"
      ]
    },
    {
      "cell_type": "code",
      "execution_count": null,
      "metadata": {
        "colab": {
          "base_uri": "https://localhost:8080/"
        },
        "id": "oH1qMMHNtZao",
        "outputId": "1ad790a4-cc1a-4aa1-c38b-4a321df11452"
      },
      "outputs": [],
      "source": [
        "help(max)"
      ]
    },
    {
      "cell_type": "markdown",
      "metadata": {
        "id": "JBflhGevLkLz"
      },
      "source": [
        "### Iterações de listas"
      ]
    },
    {
      "cell_type": "code",
      "execution_count": null,
      "metadata": {
        "colab": {
          "base_uri": "https://localhost:8080/"
        },
        "id": "yWl6ryQMLkLz",
        "outputId": "ffcb3e75-d772-43e1-8469-61dccf8bfb1a"
      },
      "outputs": [],
      "source": [
        "maior_numero = sorted(lista_auxiliar)[-1]\n",
        "menor_numero = sorted(lista_auxiliar)[0]\n",
        "\n",
        "print(maior_numero)\n",
        "print(menor_numero)"
      ]
    },
    {
      "cell_type": "code",
      "execution_count": null,
      "metadata": {
        "colab": {
          "base_uri": "https://localhost:8080/"
        },
        "id": "GfQSaNTrtzCR",
        "outputId": "def19050-8631-4edc-90ca-f691d5fba04d"
      },
      "outputs": [],
      "source": [
        "#          0, 1, 2, 3, 4\n",
        "numeros = [1, 3, 6, 7, 9]\n",
        "contador = 0\n",
        "\n",
        "# len(numeros) = 5\n",
        "while contador < len(numeros):\n",
        "  print('Lista: ', numeros[contador])\n",
        "  print('Contador: ', contador)\n",
        "\n",
        "  contador += 2"
      ]
    },
    {
      "cell_type": "code",
      "execution_count": null,
      "metadata": {
        "colab": {
          "base_uri": "https://localhost:8080/"
        },
        "id": "l7EovN-YuoRN",
        "outputId": "590dc8aa-f56a-47aa-9b3f-19e481553dc1"
      },
      "outputs": [],
      "source": [
        "# laco for\n",
        "# for valor in lista\n",
        "todos_numeros = [1, 3, 6, 7, 9]\n",
        "\n",
        "# para o numero em todos os numeros, facao\n",
        "for numero in todos_numeros:\n",
        "  print('Numero:', numero)\n",
        "\n",
        "print('--' * 10)\n",
        "for numero in todos_numeros[::2]:\n",
        "  print('Numero:', numero)"
      ]
    },
    {
      "cell_type": "code",
      "execution_count": null,
      "metadata": {
        "colab": {
          "base_uri": "https://localhost:8080/"
        },
        "id": "U2GnzJi0vQS5",
        "outputId": "f2a93757-bbee-415f-d746-1b89c366d507"
      },
      "outputs": [],
      "source": [
        "# Funcao geradora, vai passo a passo\n",
        "print(list(range(10)))\n",
        "\n",
        "for numero in range(10):\n",
        "  print(numero)\n",
        "\n",
        "range(len(lista_auxiliar))"
      ]
    },
    {
      "cell_type": "markdown",
      "metadata": {
        "id": "WITb4uGkLkLz"
      },
      "source": [
        "\n",
        "#### Concatenação de listas"
      ]
    },
    {
      "cell_type": "code",
      "execution_count": null,
      "metadata": {
        "ExecuteTime": {
          "end_time": "2023-06-29T23:14:30.070311Z",
          "start_time": "2023-06-29T23:14:30.065314Z"
        },
        "colab": {
          "base_uri": "https://localhost:8080/"
        },
        "id": "_JQ_R02xLkLz",
        "outputId": "ef9390c8-0ff2-4309-b94d-ae0eff7d5257"
      },
      "outputs": [],
      "source": [
        "lista_1 = [1, 2, 3, 4, 5]\n",
        "lista_2 = [6, 7, 4, 4]\n",
        "\n",
        "lista_lista = [lista_1, lista_2]\n",
        "print(lista_lista)\n",
        "\n",
        "# lista_1.append(lista_2)\n",
        "# print(lista_1)\n",
        "\n",
        "lista_concatenada = lista_1 + lista_2\n",
        "print(lista_1)\n",
        "print(lista_2)\n",
        "print(lista_concatenada)\n",
        "print(type(lista_concatenada))"
      ]
    },
    {
      "cell_type": "code",
      "execution_count": null,
      "metadata": {
        "colab": {
          "base_uri": "https://localhost:8080/"
        },
        "id": "xEIyL2HWw7Mm",
        "outputId": "551beef2-44d0-4ebc-d05a-4033a3d033ff"
      },
      "outputs": [],
      "source": [
        "print(list(range(5)))\n",
        "print(list(range(5, 10)))\n",
        "print(list(range(5, 10, 2)))"
      ]
    },
    {
      "cell_type": "code",
      "execution_count": null,
      "metadata": {
        "colab": {
          "base_uri": "https://localhost:8080/",
          "height": 176
        },
        "id": "8-qpa66QwqiN",
        "outputId": "34cd4b02-cce2-489b-9aac-8b16b2cd0c14"
      },
      "outputs": [],
      "source": [
        "# Não soma na lista\n",
        "lista_1 + 2"
      ]
    },
    {
      "cell_type": "code",
      "execution_count": null,
      "metadata": {
        "colab": {
          "base_uri": "https://localhost:8080/"
        },
        "id": "ETezXbd8xrM5",
        "outputId": "4f59328a-fe20-4bad-e575-fc07e11e8a9e"
      },
      "outputs": [],
      "source": [
        "# EXTRA EXTRA\n",
        "print(list(enumerate(lista_1)))\n",
        "\n",
        "for indice, valor in enumerate(lista_1):\n",
        "  print('Indice: ', indice)\n",
        "  print('Valor:', valor)"
      ]
    },
    {
      "cell_type": "code",
      "execution_count": null,
      "metadata": {
        "colab": {
          "base_uri": "https://localhost:8080/"
        },
        "id": "4tkmN0ULyE42",
        "outputId": "e52ea2df-c148-4c5d-f09a-1f9081f9ca5f"
      },
      "outputs": [],
      "source": [
        "lista_1 = [1, 2, 3, 4, 5]\n",
        "lista_2 = [6, 7, 4, 4]\n",
        "\n",
        "print(list(zip(lista_1, lista_2)))"
      ]
    },
    {
      "cell_type": "markdown",
      "metadata": {
        "id": "vyc8pcRILkLz"
      },
      "source": [
        "#### Maneiras de percorrer uma lista"
      ]
    },
    {
      "cell_type": "markdown",
      "metadata": {
        "id": "HiT5GpAOLkLz"
      },
      "source": [
        "**1. Usando while**\n",
        "- **Pros:** Eu sei não só o elemento mas sei o indice também   \n",
        "- **Contra:** Eu preciso controlar o indice\n",
        "\n",
        "```python\n",
        "numeros = [1, 3, 5, 7, 9]\n",
        "contador = 0\n",
        "while (contador < len(numeros)):\n",
        "    print(numeros[contador])\n",
        "    contador = contador + 1  Se eu esquecer essa linha\n",
        "```\n",
        "<br>\n",
        "\n",
        "**2. Jeito intermediario: for in range**\n",
        "- **Pros:** Sei o indice, não preciso controlar o loop  \n",
        "- **Contra:** Precisa saber usar a função range  \n",
        "\n",
        "```python\n",
        "numeros = [1, 3, 5, 7, 9]\n",
        "for indice in range(len(numeros)): # range(5) ->  [0, 1, 2, 3, 4]\n",
        "    print(numeros[indice])\n",
        "```\n",
        "<br>\n",
        "\n",
        "**3. Usando só for**\n",
        "- **Pros:** não preciso me preocupar com o indice  \n",
        "- **Contra:** não sei indice\n",
        "\n",
        "```python\n",
        "numeros = [1, 3, 5, 7, 9]\n",
        "\n",
        "for numero in numeros:  numero é uma especie de variavel temporaria\n",
        "    print(numero)\n",
        "```"
      ]
    },
    {
      "cell_type": "markdown",
      "metadata": {
        "id": "wfupobDpLkLz"
      },
      "source": [
        "### Bora Praticar!"
      ]
    },
    {
      "cell_type": "markdown",
      "metadata": {
        "id": "N536xYt6LkLz"
      },
      "source": [
        "1. Crie uma lista qualquer e faça um programa que imprima cada elemento da lista usando o for."
      ]
    },
    {
      "cell_type": "code",
      "execution_count": null,
      "metadata": {
        "id": "Js9iMivKLkLz"
      },
      "outputs": [],
      "source": [
        "frutas = ['maçã', 'banana', 'cereja', 'damasco', 'framboesa']\n",
        "\n",
        "for fruta in frutas:\n",
        "    print(fruta)\n"
      ]
    },
    {
      "cell_type": "markdown",
      "metadata": {
        "id": "uQuVgRWCLkLz"
      },
      "source": [
        "2. Faça um programa que imprima todos os itens de uma lista usando while e compare com o exercício 1."
      ]
    },
    {
      "cell_type": "code",
      "execution_count": null,
      "metadata": {
        "id": "8wlpX9DaLkL0"
      },
      "outputs": [],
      "source": [
        "frutas = ['maçã', 'banana', 'cereja', 'damasco', 'framboesa']\n",
        "\n",
        "i = 0\n",
        "while i < len(frutas):\n",
        "    print(frutas[i])\n",
        "    i += 1\n"
      ]
    },
    {
      "cell_type": "markdown",
      "metadata": {
        "id": "NyLWZf6sLkL0"
      },
      "source": [
        "3. Faça um programa que peça para o usuário digitar um número n e imprima uma lista com todos os números de 0 a n-1."
      ]
    },
    {
      "cell_type": "code",
      "execution_count": null,
      "metadata": {
        "id": "VoLHKF1CLkL0"
      },
      "outputs": [],
      "source": [
        "n = int(input(\"Número: \"))\n",
        "\n",
        "lista = list(range(n))\n",
        "print(lista)\n"
      ]
    },
    {
      "cell_type": "markdown",
      "metadata": {
        "id": "tdvBGqyiLkL0"
      },
      "source": [
        "4. Faça um programa que olhe todos os itens de uma lista e diga quantos deles são pares."
      ]
    },
    {
      "cell_type": "code",
      "execution_count": null,
      "metadata": {
        "id": "L12YwluLLkL0"
      },
      "outputs": [],
      "source": [
        "numeros = [1, 2, 3, 4, 5, 6, 7, 8, 9, 10]\n",
        "\n",
        "qtd_pares = 0\n",
        "for numero in numeros:\n",
        "    if numero % 2 == 0:\n",
        "        qtd_pares += 1\n",
        "\n",
        "print(\"A lista tem\", qtd_pares, \"números pares.\")\n"
      ]
    },
    {
      "cell_type": "markdown",
      "metadata": {
        "id": "NO2bIg9BLkL0"
      },
      "source": [
        "5. Faça um programa que imprima o maior número de uma lista, sem usar o método max()."
      ]
    },
    {
      "cell_type": "code",
      "execution_count": null,
      "metadata": {
        "id": "W5lvTDG2LkL0"
      },
      "outputs": [],
      "source": [
        "numeros = [1, 2, 3, 4, 5, 6, 7, 8, 9, 10]\n",
        "\n",
        "# Encontrando o maior número\n",
        "maior_numero = numeros[0]\n",
        "for numero in numeros:\n",
        "    if numero > maior_numero:\n",
        "        maior_numero = numero\n",
        "\n",
        "print(\"O maior número da lista é\", maior_numero)\n"
      ]
    },
    {
      "cell_type": "markdown",
      "metadata": {
        "id": "Ya55gSQZLkL0"
      },
      "source": [
        "6. Agora usando o método max() faça um programa que imprima os três maiores números de uma lista."
      ]
    },
    {
      "cell_type": "code",
      "execution_count": null,
      "metadata": {
        "id": "EuQLBqXpLkL1"
      },
      "outputs": [],
      "source": [
        "numeros = [1, 3, 5, 7, 9, 2, 4, 6, 8, 10]  # Sua lista de números\n",
        "\n",
        "maior1 = maior2 = maior3 = float('-inf')\n",
        "\n",
        "for num in numeros:\n",
        "    if num > maior1:\n",
        "        maior3 = maior2\n",
        "        maior2 = maior1\n",
        "        maior1 = num\n",
        "    elif num > maior2:\n",
        "        maior3 = maior2\n",
        "        maior2 = num\n",
        "    elif num > maior3:\n",
        "        maior3 = num\n",
        "\n",
        "print(\"Os três maiores números são:\", maior1, maior2, maior3)"
      ]
    },
    {
      "cell_type": "markdown",
      "metadata": {
        "id": "wdsTBp2JLkL1"
      },
      "source": [
        "7. Faça um programa que, dadas duas listas de mesmo tamanho, crie uma nova lista com cada elemento igual a soma dos elementos da lista 1 com os da lista 2, na mesma posição."
      ]
    },
    {
      "cell_type": "code",
      "execution_count": null,
      "metadata": {
        "id": "skbLvfGNLkL2"
      },
      "outputs": [],
      "source": [
        "pares = [2, 4, 6, 8, 10] \n",
        "impares = [1, 3, 5, 7, 9]\n",
        "\n",
        "if len(pares) != len(impares):\n",
        "    print(\"As listas devem ter o mesmo tamanho.\")\n",
        "else:\n",
        "    lista_soma = []\n",
        "    for i in range(len(pares)):\n",
        "        lista_soma.append(pares[i] + impares[i])\n",
        "\n",
        "    print(\"A nova lista é:\", lista_soma)\n"
      ]
    },
    {
      "cell_type": "markdown",
      "metadata": {
        "id": "5BHe42O0LkL2"
      },
      "source": [
        "8. Faça um programa que dadas duas listas de mesmo tamanho, imprima o produto escalar entre elas."
      ]
    },
    {
      "cell_type": "code",
      "execution_count": null,
      "metadata": {
        "id": "aMT4-xvrLkL2"
      },
      "outputs": [],
      "source": [
        "pares = [2, 4, 6, 8, 10] \n",
        "impares = [1, 3, 5, 7, 9]\n",
        "\n",
        "if len(pares) != len(impares):\n",
        "    print(\"As listas devem ter o mesmo tamanho.\")\n",
        "else:\n",
        "    produto_escalar = 0\n",
        "    for i in range(len(pares)):\n",
        "        produto_escalar += pares[i] * impares[i]\n",
        "\n",
        "    print(\"O produto escalar é:\", produto_escalar)\n"
      ]
    },
    {
      "cell_type": "markdown",
      "metadata": {
        "id": "qrpYArvzLkL2"
      },
      "source": [
        "9. Faça um programa que pede para o usuário digitar 5 números e, ao final, imprime uma lista com os 5 números digitados pelo usuário (sem converter os números para int ou float)."
      ]
    },
    {
      "cell_type": "code",
      "execution_count": null,
      "metadata": {
        "id": "sGIDElKxLkL2"
      },
      "outputs": [],
      "source": [
        "numeros = []\n",
        "\n",
        "for i in range(5):\n",
        "    numero = input(\"Digite o número \" + str(i + 1) + \": \")\n",
        "    numeros.append(numero)\n",
        "\n",
        "print(\"Os números que você digitou são:\", numeros)\n"
      ]
    },
    {
      "cell_type": "markdown",
      "metadata": {
        "id": "9bty44MILkL2"
      },
      "source": [
        "10. Pegue a lista gerada no exercício anterior e transforme cada um dos itens dessa lista em um float."
      ]
    },
    {
      "cell_type": "code",
      "execution_count": null,
      "metadata": {
        "id": "FC4D98sYLkL5"
      },
      "outputs": [],
      "source": [
        "numeros = ['1', '2', '3', '4', '5']\n",
        "\n",
        "numeros_float = []\n",
        "\n",
        "for numero in numeros:\n",
        "    numeros_float.append(float(numero))\n",
        "\n",
        "print(\"Os números como floats são:\", numeros_float)\n"
      ]
    },
    {
      "cell_type": "markdown",
      "metadata": {
        "id": "tmopLuabLkL5"
      },
      "source": [
        "11. Faça um Programa que peça as 4 notas bimestrais e mostre a média, usando listas."
      ]
    },
    {
      "cell_type": "code",
      "execution_count": null,
      "metadata": {},
      "outputs": [],
      "source": [
        "notas = []\n",
        "\n",
        "for i in range(1, 5):\n",
        "    nota = float(input(f\"Digite a {i}ª nota bimestral: \"))\n",
        "    notas.append(nota)\n",
        "\n",
        "media = sum(notas) / len(notas)\n",
        "print(f\"A média das notas é: {media}\")\n"
      ]
    }
  ],
  "metadata": {
    "colab": {
      "provenance": []
    },
    "kernelspec": {
      "display_name": "Python 3 (ipykernel)",
      "language": "python",
      "name": "python3"
    },
    "language_info": {
      "codemirror_mode": {
        "name": "ipython",
        "version": 3
      },
      "file_extension": ".py",
      "mimetype": "text/x-python",
      "name": "python",
      "nbconvert_exporter": "python",
      "pygments_lexer": "ipython3",
      "version": "3.10.12"
    },
    "latex_envs": {
      "LaTeX_envs_menu_present": true,
      "autoclose": false,
      "autocomplete": true,
      "bibliofile": "biblio.bib",
      "cite_by": "apalike",
      "current_citInitial": 1,
      "eqLabelWithNumbers": true,
      "eqNumInitial": 1,
      "hotkeys": {
        "equation": "Ctrl-E",
        "itemize": "Ctrl-I"
      },
      "labels_anchors": false,
      "latex_user_defs": false,
      "report_style_numbering": false,
      "user_envs_cfg": false
    },
    "toc": {
      "base_numbering": 1,
      "nav_menu": {},
      "number_sections": true,
      "sideBar": true,
      "skip_h1_title": false,
      "title_cell": "Table of Contents",
      "title_sidebar": "Contents",
      "toc_cell": false,
      "toc_position": {},
      "toc_section_display": true,
      "toc_window_display": false
    },
    "varInspector": {
      "cols": {
        "lenName": 16,
        "lenType": 16,
        "lenVar": 40
      },
      "kernels_config": {
        "python": {
          "delete_cmd_postfix": "",
          "delete_cmd_prefix": "del ",
          "library": "var_list.py",
          "varRefreshCmd": "print(var_dic_list())"
        },
        "r": {
          "delete_cmd_postfix": ") ",
          "delete_cmd_prefix": "rm(",
          "library": "var_list.r",
          "varRefreshCmd": "cat(var_dic_list()) "
        }
      },
      "types_to_exclude": [
        "module",
        "function",
        "builtin_function_or_method",
        "instance",
        "_Feature"
      ],
      "window_display": false
    },
    "vscode": {
      "interpreter": {
        "hash": "5c66de18c091297d67c9a295278ca9503b5163a383fa85591c3cdb6daec33020"
      }
    }
  },
  "nbformat": 4,
  "nbformat_minor": 0
}
