{
 "cells": [
  {
   "cell_type": "markdown",
   "id": "9fbd531b",
   "metadata": {},
   "source": [
    "### Some messages...\n",
    "- Schedules (start and break)\n",
    "- Presence\n",
    "- Camera\n",
    "- Class schedule"
   ]
  },
  {
   "cell_type": "markdown",
   "id": "700cf6df",
   "metadata": {},
   "source": [
    "### IDE\n",
    "- Visual Studio Code - Jupyter Extension\n",
    "- Colab google - https://colab.research.google.com/\n",
    "- Deep note - https://deepnote.com/\n",
    "- JupyterLite - https://jupyter.org/try\n",
    "- Kaggle Kernels - https://www.kaggle.com/\n",
    "\n",
    "- Other options:\n",
    "   - https://cocalc.com/features/jupyter-notebook\n",
    "   - https://www.codingrooms.com/compiler/jupyter-notebook\n",
    "   - https://mybinder.org/"
   ]
  },
  {
   "cell_type": "markdown",
   "id": "46cc1557",
   "metadata": {},
   "source": [
    "## Class topics\n",
    "\n",
    "  - Variables\n",
    "  - Basic types\n",
    "  - Inputs/Outputs\n",
    "  - Algebraic Operators\n",
    "  - Comparison operators"
   ]
  },
  {
   "cell_type": "markdown",
   "id": "73c6063a",
   "metadata": {},
   "source": [
    "## Variables\n",
    "Variable is the name given to the type of content that can have different values while the system is running. Everything will depend on the user's command and the type of operation that is performed.\n",
    "Imagine you meet a new person. The variable would be the place in your brain where you store, for example, this person's name, that is, a space is allocated to store this information and later the value referring to that data is passed.\n",
    "\n",
    "```\n",
    "name = \"Lucas\"\n",
    "```"
   ]
  },
  {
   "cell_type": "markdown",
   "id": "41b0fe06",
   "metadata": {},
   "source": [
    "## Basic types\n",
    "\n",
    "We may have information related to other people such as name, age and salary. Each of them has what we call variable types. The data types are as follows:"
   ]
  },
  {
   "cell_type": "code",
   "execution_count": null,
   "id": "605e9581",
   "metadata": {},
   "outputs": [],
   "source": [
    "# string - text\n",
    "\n",
    "name = 'Lucas'\n",
    "\n",
    "name"
   ]
  },
  {
   "cell_type": "code",
   "execution_count": null,
   "metadata": {},
   "outputs": [],
   "source": [
    "# int (integer number value)\n",
    "\n",
    "age = 30\n"
   ]
  },
  {
   "cell_type": "code",
   "execution_count": null,
   "metadata": {},
   "outputs": [],
   "source": [
    "# float (floating point number value)\n",
    "\n",
    "salary = 1.1001"
   ]
  },
  {
   "cell_type": "code",
   "execution_count": null,
   "metadata": {},
   "outputs": [],
   "source": [
    "# bool (boolean value - True or False)\n",
    "\n",
    "graduated = True"
   ]
  },
  {
   "cell_type": "markdown",
   "metadata": {},
   "source": [
    "**Variable types**\n",
    "- string\n",
    "- int\n",
    "- float\n",
    "- bool"
   ]
  },
  {
   "cell_type": "code",
   "execution_count": null,
   "metadata": {},
   "outputs": [],
   "source": [
    "type(name)"
   ]
  },
  {
   "cell_type": "code",
   "execution_count": null,
   "metadata": {},
   "outputs": [],
   "source": [
    "type(age)"
   ]
  },
  {
   "cell_type": "code",
   "execution_count": null,
   "metadata": {},
   "outputs": [],
   "source": [
    "type(salary)"
   ]
  },
  {
   "cell_type": "code",
   "execution_count": null,
   "metadata": {},
   "outputs": [],
   "source": [
    "type(graduated)"
   ]
  },
  {
   "cell_type": "markdown",
   "id": "a1fcbea2",
   "metadata": {},
   "source": [
    "## Inputs\n",
    "\n",
    "To request input information to be provided by the user, we can use the input function. With it you can (optional) send an instructional message to the user about what you want them to enter.\n",
    "In the example below we will use input."
   ]
  },
  {
   "cell_type": "code",
   "execution_count": null,
   "id": "41987074",
   "metadata": {
    "ExecuteTime": {
     "end_time": "2023-06-26T13:49:32.009412Z",
     "start_time": "2023-06-26T13:49:26.536287Z"
    }
   },
   "outputs": [],
   "source": [
    "# input = '' -> Problem\n",
    "# type = '' -> Problem\n",
    "\n",
    "input()"
   ]
  },
  {
   "cell_type": "code",
   "execution_count": null,
   "id": "c83c5dab",
   "metadata": {
    "ExecuteTime": {
     "end_time": "2023-06-26T13:49:37.655086Z",
     "start_time": "2023-06-26T13:49:37.640080Z"
    }
   },
   "outputs": [],
   "source": [
    "input('Insert your age: ')"
   ]
  },
  {
   "cell_type": "code",
   "execution_count": null,
   "metadata": {},
   "outputs": [],
   "source": [
    "age = input('Insert your age: ') # returns a string value"
   ]
  },
  {
   "cell_type": "code",
   "execution_count": null,
   "metadata": {},
   "outputs": [],
   "source": [
    "age\n",
    "\n",
    "type(age)"
   ]
  },
  {
   "cell_type": "markdown",
   "id": "a8304431",
   "metadata": {},
   "source": [
    "**Converting data type**\n",
    "\n",
    "In this case, it is interesting that age is a number, since we generally use it to do calculations, for example. To convert this value to an integer, we can do it as follows:"
   ]
  },
  {
   "cell_type": "code",
   "execution_count": null,
   "id": "f34c305d",
   "metadata": {
    "ExecuteTime": {
     "end_time": "2023-06-26T13:49:37.670876Z",
     "start_time": "2023-06-26T13:49:37.657010Z"
    }
   },
   "outputs": [],
   "source": [
    "# comments\n",
    "\n",
    "age = int(age) # returns a value int type\n",
    "\n",
    "type(age)"
   ]
  },
  {
   "cell_type": "code",
   "execution_count": null,
   "metadata": {},
   "outputs": [],
   "source": [
    "type(salary) # float\n",
    "\n",
    "salary_string = str(salary)\n",
    "type(salary_string)"
   ]
  },
  {
   "cell_type": "code",
   "execution_count": null,
   "metadata": {},
   "outputs": [],
   "source": [
    "# Be careful not to overwrite the variable\n",
    "converted_salary = '1'"
   ]
  },
  {
   "cell_type": "code",
   "execution_count": null,
   "metadata": {},
   "outputs": [],
   "source": [
    "age = int(input('Insert your age: '))"
   ]
  },
  {
   "cell_type": "code",
   "execution_count": null,
   "metadata": {},
   "outputs": [],
   "source": [
    "str(graduated)"
   ]
  },
  {
   "cell_type": "code",
   "execution_count": null,
   "metadata": {},
   "outputs": [],
   "source": [
    "# True: 1\n",
    "# False: 0\n",
    "int(graduated)\n",
    "\n",
    "# True: 1.0\n",
    "# False: 0.0\n",
    "float(graduated)"
   ]
  },
  {
   "cell_type": "code",
   "execution_count": null,
   "metadata": {},
   "outputs": [],
   "source": [
    "bool(name)"
   ]
  },
  {
   "cell_type": "code",
   "execution_count": null,
   "metadata": {},
   "outputs": [],
   "source": [
    "empty_string = bool('')\n",
    "empty_string"
   ]
  },
  {
   "cell_type": "code",
   "execution_count": null,
   "metadata": {},
   "outputs": [],
   "source": [
    "age = int(input('Insert your age: ')) # trinta "
   ]
  },
  {
   "cell_type": "code",
   "execution_count": null,
   "metadata": {},
   "outputs": [],
   "source": [
    "int('01234d')"
   ]
  },
  {
   "cell_type": "markdown",
   "metadata": {},
   "source": [
    "## Outputs\n",
    "\n",
    "In several situations we want to print the result of some operation we performed on the screen or simply send a message, for these situations we use print."
   ]
  },
  {
   "cell_type": "code",
   "execution_count": null,
   "metadata": {},
   "outputs": [],
   "source": [
    "print('Hello, World!')\n",
    "print('My name is Lucas')"
   ]
  },
  {
   "cell_type": "code",
   "execution_count": null,
   "metadata": {},
   "outputs": [],
   "source": [
    "print('My name is Lucas')\n",
    "\n",
    "age = input('Insert your age:') # returns a string\n",
    "\n",
    "# Convert age (str) to int\n",
    "age = int(age) # returns a int\n",
    "\n",
    "print('Fim de programa')"
   ]
  },
  {
   "cell_type": "markdown",
   "metadata": {},
   "source": [
    "**More than one argument**\n",
    "\n",
    "To print more than one piece of information, print allows you to enter as many arguments as necessary, as long as they are separated by a comma. See the example:"
   ]
  },
  {
   "cell_type": "code",
   "execution_count": null,
   "metadata": {},
   "outputs": [],
   "source": [
    "print('Hello', 'I am Lucas', False)"
   ]
  },
  {
   "cell_type": "code",
   "execution_count": null,
   "metadata": {},
   "outputs": [],
   "source": [
    "# sep is a print function parameter\n",
    "print('Hello', 'I am Lucas', sep=',')"
   ]
  },
  {
   "cell_type": "code",
   "execution_count": null,
   "metadata": {},
   "outputs": [],
   "source": [
    "help(print)"
   ]
  },
  {
   "cell_type": "code",
   "execution_count": null,
   "metadata": {},
   "outputs": [],
   "source": [
    "print('Hello, my name is ', name, sep='')\n",
    "print('Hello, my name is', name)"
   ]
  },
  {
   "cell_type": "code",
   "execution_count": null,
   "metadata": {},
   "outputs": [],
   "source": [
    "print('Hello, my name is ', name, '. And I am', age, 'years old.')"
   ]
  },
  {
   "cell_type": "markdown",
   "metadata": {},
   "source": [
    "**Print with f string**\n",
    "\n",
    "Another way to use print with variables is through what we call an f string."
   ]
  },
  {
   "cell_type": "code",
   "execution_count": null,
   "metadata": {},
   "outputs": [],
   "source": [
    "# You must enter a key for the format\n",
    "print('Hello, my name is {}'.format(name))"
   ]
  },
  {
   "cell_type": "code",
   "execution_count": null,
   "metadata": {},
   "outputs": [],
   "source": [
    "presentation = 'Hello, my name is {}'.format(name)\n",
    "\n",
    "print(presentation)"
   ]
  },
  {
   "cell_type": "code",
   "execution_count": null,
   "metadata": {},
   "outputs": [],
   "source": [
    "presentation_with_age = 'Hello, my name is {}. And I am {} years old'.format(name, age)\n",
    "print(presentation_with_age)"
   ]
  },
  {
   "cell_type": "code",
   "execution_count": null,
   "metadata": {},
   "outputs": [],
   "source": [
    "name = 'Lucas'\n",
    "other_name = 'Naiara'\n",
    "age = 20\n",
    "\n",
    "print('Join string and number {}{}'.format(name, age))\n",
    "print('Join string and number {}{}'.format(age, name))\n",
    "\n",
    "print('Join string and number {other_name}{}'.format(age, other_name=name))\n",
    "print('Join string and number {other_name}{other_age}'.format(other_name=name, other_age=age))\n",
    "print('Join string and number {other_name}{other_age}'.format(other_age=age, other_name=name))"
   ]
  },
  {
   "cell_type": "markdown",
   "metadata": {},
   "source": [
    "**String methods**\n",
    "\n",
    "[Reference](https://www.w3schools.com/python/python_ref_string.asp)"
   ]
  },
  {
   "cell_type": "code",
   "execution_count": null,
   "metadata": {},
   "outputs": [],
   "source": [
    "# 'Concatenating'\n",
    "print('Hello, my name is ' + name + '.And I am ' + str(age) + ' years old.')"
   ]
  },
  {
   "cell_type": "code",
   "execution_count": null,
   "metadata": {},
   "outputs": [],
   "source": [
    "name.join(str(age))"
   ]
  },
  {
   "cell_type": "code",
   "execution_count": null,
   "metadata": {},
   "outputs": [],
   "source": [
    "# Lower case\n",
    "name.lower()"
   ]
  },
  {
   "cell_type": "code",
   "execution_count": null,
   "metadata": {},
   "outputs": [],
   "source": [
    "# Upper case\n",
    "name.upper()"
   ]
  },
  {
   "cell_type": "code",
   "execution_count": null,
   "metadata": {},
   "outputs": [],
   "source": [
    "response = input('Enter yes or no')\n",
    "response.lower()"
   ]
  },
  {
   "cell_type": "markdown",
   "metadata": {},
   "source": [
    "**Let's practice!**\n",
    "\n",
    "Write a program that takes your name, age and hobby and writes a single sentence that is, for example, \"My name is Henrique, I'm 22 years old and my hobby is traveling\""
   ]
  },
  {
   "cell_type": "code",
   "execution_count": null,
   "metadata": {},
   "outputs": [],
   "source": [
    "name = 'Marlene'\n",
    "age = 29\n",
    "hobby = 'cosplay'\n",
    "\n",
    "print('Hello, my name is ' + name + ', I am ' + str(age) + ' years old and my hobby is ' + hobby)\n"
   ]
  },
  {
   "cell_type": "markdown",
   "id": "feea987d",
   "metadata": {},
   "source": [
    "## Algebraic Operators\n",
    "\n",
    "We routinely come across the need to perform calculations, for this we can use algebraic operators as we know them in traditional mathematics."
   ]
  },
  {
   "cell_type": "markdown",
   "id": "763aabb9",
   "metadata": {},
   "source": [
    "Resumindo:"
   ]
  },
  {
   "cell_type": "markdown",
   "id": "3742cf67",
   "metadata": {},
   "source": [
    "**Arithmetic Operators**\n",
    "\n",
    "|     Operator    |     Name                 |     Function                                                                         |\n",
    "|-----------------|--------------------------|--------------------------------------------------------------------------------------|\n",
    "|     +           |     Addition             |     Performs the sum of both operands.                                               |\n",
    "|     -           |     Subtraction          |     Performs the subtraction of both operands.                                       |\n",
    "|     *           |     Multiplication       |     Performs the multiplication of both operands.                                    |\n",
    "|     /           |     Division             |     Performs the Division of both operands.                                          |\n",
    "|     //          |     Integer division     |     Performs the division between operands and the decimal part of both operands.    |\n",
    "|     %           |     Module               |     Returns the remainder of the division of both operands.                          |\n",
    "|     **          |     Exponentiation       |     Returns the result of the increase in power by the other.                        |"
   ]
  },
  {
   "cell_type": "code",
   "execution_count": null,
   "id": "578aa220",
   "metadata": {
    "ExecuteTime": {
     "end_time": "2023-06-26T13:50:22.792853Z",
     "start_time": "2023-06-26T13:50:22.776932Z"
    }
   },
   "outputs": [],
   "source": [
    "2 + 2"
   ]
  },
  {
   "cell_type": "code",
   "execution_count": null,
   "metadata": {},
   "outputs": [],
   "source": [
    "2 - 2"
   ]
  },
  {
   "cell_type": "code",
   "execution_count": null,
   "metadata": {},
   "outputs": [],
   "source": [
    "2 * 2"
   ]
  },
  {
   "cell_type": "code",
   "execution_count": null,
   "metadata": {},
   "outputs": [],
   "source": [
    "2 / 2"
   ]
  },
  {
   "cell_type": "code",
   "execution_count": null,
   "metadata": {},
   "outputs": [],
   "source": [
    "type(2/2)"
   ]
  },
  {
   "cell_type": "code",
   "execution_count": null,
   "metadata": {},
   "outputs": [],
   "source": [
    "3 ** 2"
   ]
  },
  {
   "cell_type": "code",
   "execution_count": null,
   "metadata": {},
   "outputs": [],
   "source": [
    "3 / 2"
   ]
  },
  {
   "cell_type": "code",
   "execution_count": null,
   "metadata": {},
   "outputs": [],
   "source": [
    "type(3/2)"
   ]
  },
  {
   "cell_type": "code",
   "execution_count": null,
   "metadata": {},
   "outputs": [],
   "source": [
    "3 // 2"
   ]
  },
  {
   "cell_type": "code",
   "execution_count": null,
   "metadata": {},
   "outputs": [],
   "source": [
    "type(3//2)"
   ]
  },
  {
   "cell_type": "code",
   "execution_count": null,
   "metadata": {},
   "outputs": [],
   "source": [
    "3 % 2"
   ]
  },
  {
   "cell_type": "code",
   "execution_count": null,
   "metadata": {},
   "outputs": [],
   "source": [
    "10 / 3"
   ]
  },
  {
   "cell_type": "code",
   "execution_count": null,
   "metadata": {},
   "outputs": [],
   "source": [
    "# 10 / 3 = 10 - 9 = 1 -> 3\n",
    "10 % 3"
   ]
  },
  {
   "cell_type": "markdown",
   "id": "a0f058e7",
   "metadata": {},
   "source": [
    "**Using variables**"
   ]
  },
  {
   "cell_type": "code",
   "execution_count": null,
   "id": "d9afbe5f",
   "metadata": {
    "ExecuteTime": {
     "end_time": "2023-06-26T13:50:22.808582Z",
     "start_time": "2023-06-26T13:50:22.793053Z"
    }
   },
   "outputs": [],
   "source": [
    "age + 2"
   ]
  },
  {
   "cell_type": "code",
   "execution_count": null,
   "metadata": {},
   "outputs": [],
   "source": [
    "parent_age = 50\n",
    "child_age = 20\n",
    "\n",
    "print(parent_age - child_age)"
   ]
  },
  {
   "cell_type": "markdown",
   "id": "9b3a9de5",
   "metadata": {},
   "source": [
    "**Assignment Operators**\n",
    "\n",
    "|     Operator    |     Equivalent to    |\n",
    "|:---------------:|----------------------|\n",
    "|         =       |     x =   1          |\n",
    "|        +=       |     x =   x + 1      |\n",
    "|        -=       |     x =   x - 1      |\n",
    "|        *=       |     x =   x * 1      |\n",
    "|        /=       |     x =   x / 1      |\n",
    "|        %=       |     x =   x % 1      |"
   ]
  },
  {
   "cell_type": "code",
   "execution_count": null,
   "id": "01faa99b",
   "metadata": {},
   "outputs": [],
   "source": [
    "sum_age_family = 0\n",
    "\n",
    "# sum_family_age = sum_family_age + father_age\n",
    "sum_age_family += parent_age\n",
    "print('Sum of family age (father): ', sum_age_family)\n",
    "\n",
    "# family_age_sum = family_age_sum + child_age\n",
    "sum_age_family += child_age\n",
    "print('Sum of family age (father and child): ', sum_age_family)"
   ]
  },
  {
   "cell_type": "code",
   "execution_count": null,
   "metadata": {},
   "outputs": [],
   "source": [
    "# aged_son++ -> doesn't exist in python\n",
    "child_age += 1"
   ]
  },
  {
   "cell_type": "markdown",
   "id": "22af0c46",
   "metadata": {},
   "source": [
    "**Let's practice!**\n",
    "\n",
    "With everything we've seen so far, create a program that asks the user to enter their year of birth. Disregarding the month of the year of birth, issue a message saying how old he is."
   ]
  },
  {
   "cell_type": "code",
   "execution_count": null,
   "id": "d8165666",
   "metadata": {
    "ExecuteTime": {
     "end_time": "2023-06-26T13:50:26.211610Z",
     "start_time": "2023-06-26T13:50:22.810594Z"
    }
   },
   "outputs": [],
   "source": [
    "birth_year = int(input('Insert your birth year: '))\n",
    "\n",
    "age = 2021 - birth_year\n",
    "\n",
    "print('Your age is: ', age)"
   ]
  },
  {
   "cell_type": "markdown",
   "id": "cceecb74",
   "metadata": {},
   "source": [
    "## Comparison Operators\n",
    "Comparison operators are those that aim to analyze the values of an expression and return a Boolean value, that is, true (1) or false (0)."
   ]
  },
  {
   "cell_type": "code",
   "execution_count": null,
   "id": "5a525336",
   "metadata": {
    "ExecuteTime": {
     "end_time": "2023-06-26T13:50:22.768340Z",
     "start_time": "2023-06-26T13:50:22.753018Z"
    }
   },
   "outputs": [],
   "source": [
    "largest_comparison = 3 > 2\n",
    "print(largest_comparison)\n",
    "print('3 > 2 = ', 3 > 2)\n",
    "print('3 < 2 = ', 3 < 2)\n",
    "print('3 == 2 = ', 3 == 2) # Be careful, only 1 = is assignment\n",
    "print('2 == 2 = ', 2 == 2)\n",
    "print('3 != 2 = ', 3 != 2) # Careful, it's not <>"
   ]
  },
  {
   "cell_type": "code",
   "execution_count": null,
   "metadata": {},
   "outputs": [],
   "source": [
    "type(3 > 2)"
   ]
  },
  {
   "cell_type": "code",
   "execution_count": null,
   "metadata": {},
   "outputs": [],
   "source": [
    "print('String 3', type('3'))\n",
    "print('Integer 3', type(3))\n",
    "print('3' == 3)"
   ]
  },
  {
   "cell_type": "code",
   "execution_count": null,
   "metadata": {},
   "outputs": [],
   "source": [
    "type('3') == type('Lucas')\n",
    "\n",
    "type('3') == type(3)"
   ]
  },
  {
   "cell_type": "code",
   "execution_count": null,
   "metadata": {},
   "outputs": [],
   "source": [
    "user_age = int(input('Enter your age: '))\n",
    "\n",
    "type(user_age) == type(int())"
   ]
  },
  {
   "cell_type": "code",
   "execution_count": null,
   "metadata": {},
   "outputs": [],
   "source": [
    "user_age = input('Enter your age: ')\n",
    "\n",
    "user_age.isdigit()"
   ]
  },
  {
   "cell_type": "markdown",
   "id": "7035e16d",
   "metadata": {},
   "source": [
    "**Let's practice!**\n",
    "\n",
    "Imagine that you are implementing a system to check whether students in a student class passed the subject or not. To do this, ask the user to enter the grades of the 4 tests taken by a student and calculate the average. After that, issue a Boolean response (True or False) if the student passed the subject thinking that the minimum average for approval is at least 5."
   ]
  },
  {
   "cell_type": "code",
   "execution_count": null,
   "id": "52d8a4e8",
   "metadata": {
    "scrolled": true
   },
   "outputs": [],
   "source": [
    "grade = 0\n",
    "grade += int(input('Enter your 1st grade: '))\n",
    "grade += int(input('Enter your 2nd grade: '))\n",
    "grade += int(input('Enter your 3rd grade: '))\n",
    "grade += int(input('Enter your 4th grade: '))\n",
    "\n",
    "avg_grade = grade/4\n",
    "\n",
    "print('Passed: ', avg_grade >= 5)"
   ]
  },
  {
   "cell_type": "markdown",
   "id": "87f38384",
   "metadata": {},
   "source": [
    "Create an algorithm that calculates IMC (body mass index). IMC is calculated with the formula WEIGHT/(HEIGHT ^ 2). To do this, enter the information in the variables and at the end present the result as in the example: \"The IMC is 18\""
   ]
  },
  {
   "cell_type": "code",
   "execution_count": null,
   "id": "f82ed11d",
   "metadata": {},
   "outputs": [],
   "source": [
    "weight = float(input('Enter your weight: '))\n",
    "height = float(input('Enter your height: '))\n",
    "\n",
    "imc = weight / (height ** 2)\n",
    "\n",
    "print('Your IMC is: ', imc)"
   ]
  },
  {
   "cell_type": "markdown",
   "id": "6c0555dc",
   "metadata": {},
   "source": [
    "Write an algorithm that calculates (x + y) * (x + y). The values of x and y must be entered by the user."
   ]
  },
  {
   "cell_type": "code",
   "execution_count": null,
   "id": "ce94fc00",
   "metadata": {},
   "outputs": [],
   "source": [
    "x = int(input('Enter a number: '))\n",
    "y = int(input('Enter another number: '))\n",
    "\n",
    "print('Result: ', (x + y) * (x + y))"
   ]
  }
 ],
 "metadata": {
  "kernelspec": {
   "display_name": "Python 3 (ipykernel)",
   "language": "python",
   "name": "python3"
  },
  "language_info": {
   "codemirror_mode": {
    "name": "ipython",
    "version": 3
   },
   "file_extension": ".py",
   "mimetype": "text/x-python",
   "name": "python",
   "nbconvert_exporter": "python",
   "pygments_lexer": "ipython3",
   "version": "3.10.2"
  },
  "latex_envs": {
   "LaTeX_envs_menu_present": true,
   "autoclose": false,
   "autocomplete": true,
   "bibliofile": "biblio.bib",
   "cite_by": "apalike",
   "current_citInitial": 1,
   "eqLabelWithNumbers": true,
   "eqNumInitial": 1,
   "hotkeys": {
    "equation": "Ctrl-E",
    "itemize": "Ctrl-I"
   },
   "labels_anchors": false,
   "latex_user_defs": false,
   "report_style_numbering": false,
   "user_envs_cfg": false
  },
  "toc": {
   "base_numbering": 1,
   "nav_menu": {},
   "number_sections": true,
   "sideBar": true,
   "skip_h1_title": false,
   "title_cell": "Table of Contents",
   "title_sidebar": "Contents",
   "toc_cell": false,
   "toc_position": {},
   "toc_section_display": true,
   "toc_window_display": false
  },
  "varInspector": {
   "cols": {
    "lenName": 16,
    "lenType": 16,
    "lenVar": 40
   },
   "kernels_config": {
    "python": {
     "delete_cmd_postfix": "",
     "delete_cmd_prefix": "del ",
     "library": "var_list.py",
     "varRefreshCmd": "print(var_dic_list())"
    },
    "r": {
     "delete_cmd_postfix": ") ",
     "delete_cmd_prefix": "rm(",
     "library": "var_list.r",
     "varRefreshCmd": "cat(var_dic_list()) "
    }
   },
   "types_to_exclude": [
    "module",
    "function",
    "builtin_function_or_method",
    "instance",
    "_Feature"
   ],
   "window_display": false
  },
  "vscode": {
   "interpreter": {
    "hash": "5c66de18c091297d67c9a295278ca9503b5163a383fa85591c3cdb6daec33020"
   }
  }
 },
 "nbformat": 4,
 "nbformat_minor": 5
}
