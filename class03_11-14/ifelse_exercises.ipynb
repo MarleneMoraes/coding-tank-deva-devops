{
 "cells": [
  {
   "cell_type": "markdown",
   "metadata": {},
   "source": [
    "# Programming Logic I - IF ELSE Exercises"
   ]
  },
  {
   "cell_type": "markdown",
   "metadata": {},
   "source": [
    "1. Ask the user to enter 4 consecutive sides of a polygon. See if it is a square or rectangle, or neither.\n",
    "If it is a square or rectangle, print the calculated area."
   ]
  },
  {
   "cell_type": "code",
   "execution_count": null,
   "metadata": {},
   "outputs": [],
   "source": [
    "side1 = float(input('First side: '))\n",
    "side2 = float(input('Second side: '))\n",
    "side3 = float(input('Third side: '))\n",
    "side4 = float(input('Fourth side: '))\n",
    "\n",
    "if side1 == side2 == side3 == side4:\n",
    "     area = side1 * side2\n",
    "     print('This polygon is a square\\n')\n",
    "     print(f'The area of the square is: ', area)\n",
    "elif side1 == side3 and side2 == side4:\n",
    "     area = side1 * side2\n",
    "     print('This polygon is a rectangle\\n')\n",
    "     print(f'The area of the rectangle is: ', area)\n",
    "else:\n",
    "     print('It is neither a square nor a rectangle.')"
   ]
  },
  {
   "cell_type": "markdown",
   "metadata": {},
   "source": [
    "2. Ask the user the value of a product, and whether they want to increase or decrease the price.\n",
    "Ask the user how much they would like to reduce or add, in percentage, and calculate the new price of the product for the user."
   ]
  },
  {
   "cell_type": "code",
   "execution_count": null,
   "metadata": {
    "ExecuteTime": {
     "end_time": "2023-06-30T11:59:29.564669Z",
     "start_time": "2023-06-30T11:59:26.316079Z"
    }
   },
   "outputs": [],
   "source": [
    "product_value = float(input('Product value: '))\n",
    "\n",
    "operation = input('Do you want to increase or decrease the price? (respond with \"increase\" or \"decrease\"): ')\n",
    "\n",
    "percentage = float(input('Percentage you would like to change: '))\n",
    "\n",
    "if operation.lower() == 'increase':\n",
    "     new_price = product_value + (product_value * percentage / 100)\n",
    "elif operation.lower() == 'decrease':\n",
    "     new_price = product_value - (product_value * percentage / 100)\n",
    "else:\n",
    "     print('Invalid operation')\n",
    "\n",
    "print('New product price: ', new_price)"
   ]
  },
  {
   "cell_type": "markdown",
   "metadata": {},
   "source": [
    "3. Create a program that asks a student for 4 test scores, if the average is greater than or equal to 6, he is approved, if it is greater than 5, he is in recovery, ask for the recovery test score, if the average recovery grade with the average of the tests is greater than 6, he is approved, if not failed.\n",
    "If the average of the 4 tests is less than or equal to 5, he will fail directly."
   ]
  },
  {
   "cell_type": "code",
   "execution_count": null,
   "metadata": {
    "ExecuteTime": {
     "end_time": "2023-06-30T12:07:17.661704Z",
     "start_time": "2023-06-30T12:07:11.534213Z"
    }
   },
   "outputs": [],
   "source": [
    "grade1 = float(input('First grade: '))\n",
    "grade2 = float(input('Second grade: '))\n",
    "grade3 = float(input('Third grade: '))\n",
    "grade4 = float(input('Fourth grade: '))\n",
    "\n",
    "avg = (grade1 + grade2 + grade3 + grade4) / 4\n",
    "\n",
    "if avg >= 6:\n",
    "     print('Status: APPROVED')\n",
    "elif avg > 5:\n",
    "     print('Status: RECUPERATION')\n",
    "     recovery_grade = float(input('Recuperation exam grade: '))\n",
    "     final_avg = (avg + recovery_grade) / 2\n",
    "     if final_avg >= 6:\n",
    "         print('Status: APPROVED AFTER RECOVERY')\n",
    "     else:\n",
    "         print('Status: DISAPPROVED')\n",
    "else:\n",
    "     print('Status: DISAPPROVED')\n"
   ]
  },
  {
   "cell_type": "markdown",
   "metadata": {},
   "source": [
    "4. Ask the user what time it is, integer only, and return \"Good morning!\", if it is between 5 am and 11 am, \"Good afternoon!\", if it is between 12 pm and 6 pm, and \"Good evening!\", if it is between 7 pm and 4 am."
   ]
  },
  {
   "cell_type": "code",
   "execution_count": null,
   "metadata": {
    "ExecuteTime": {
     "end_time": "2023-06-30T12:09:54.126013Z",
     "start_time": "2023-06-30T12:09:52.435107Z"
    }
   },
   "outputs": [],
   "source": [
    "# time 24h\n",
    "current_time = int(input('What time is it now? (integers only): '))\n",
    "\n",
    "if 5 <= current_time <= 11:\n",
    "     print('Good morning!')\n",
    "elif 12 <= current_time <= 18:\n",
    "     print('Good afternoon!')\n",
    "else:\n",
    "     print('Good evening!')"
   ]
  },
  {
   "cell_type": "markdown",
   "metadata": {},
   "source": [
    "5. Ask the user to enter a number, inform whether the number is divisible by 5, if so, inform whether the number is even or odd."
   ]
  },
  {
   "cell_type": "code",
   "execution_count": null,
   "metadata": {
    "ExecuteTime": {
     "end_time": "2023-06-30T12:12:34.437082Z",
     "start_time": "2023-06-30T12:12:33.574849Z"
    }
   },
   "outputs": [],
   "source": [
    "number = int(input('Number: '))\n",
    "\n",
    "if number % 5 == 0:\n",
    "     if number % 2 == 0:\n",
    "         print('This number is even.')\n",
    "     else:\n",
    "         print('This number is odd.')\n",
    "else:\n",
    "     print('The number is not divisible by 5.')\n"
   ]
  }
 ],
 "metadata": {
  "kernelspec": {
   "display_name": "Python 3 (ipykernel)",
   "language": "python",
   "name": "python3"
  },
  "language_info": {
   "codemirror_mode": {
    "name": "ipython",
    "version": 3
   },
   "file_extension": ".py",
   "mimetype": "text/x-python",
   "name": "python",
   "nbconvert_exporter": "python",
   "pygments_lexer": "ipython3",
   "version": "3.10.2"
  },
  "latex_envs": {
   "LaTeX_envs_menu_present": true,
   "autoclose": false,
   "autocomplete": true,
   "bibliofile": "biblio.bib",
   "cite_by": "apalike",
   "current_citInitial": 1,
   "eqLabelWithNumbers": true,
   "eqNumInitial": 1,
   "hotkeys": {
    "equation": "Ctrl-E",
    "itemize": "Ctrl-I"
   },
   "labels_anchors": false,
   "latex_user_defs": false,
   "report_style_numbering": false,
   "user_envs_cfg": false
  },
  "toc": {
   "base_numbering": 1,
   "nav_menu": {},
   "number_sections": true,
   "sideBar": true,
   "skip_h1_title": false,
   "title_cell": "Table of Contents",
   "title_sidebar": "Contents",
   "toc_cell": false,
   "toc_position": {},
   "toc_section_display": true,
   "toc_window_display": false
  },
  "varInspector": {
   "cols": {
    "lenName": 16,
    "lenType": 16,
    "lenVar": 40
   },
   "kernels_config": {
    "python": {
     "delete_cmd_postfix": "",
     "delete_cmd_prefix": "del ",
     "library": "var_list.py",
     "varRefreshCmd": "print(var_dic_list())"
    },
    "r": {
     "delete_cmd_postfix": ") ",
     "delete_cmd_prefix": "rm(",
     "library": "var_list.r",
     "varRefreshCmd": "cat(var_dic_list()) "
    }
   },
   "types_to_exclude": [
    "module",
    "function",
    "builtin_function_or_method",
    "instance",
    "_Feature"
   ],
   "window_display": false
  },
  "vscode": {
   "interpreter": {
    "hash": "7f52069df51f55474cef70a04f6de2c8e83f851022777c4983d9d0bb63ea6184"
   }
  }
 },
 "nbformat": 4,
 "nbformat_minor": 2
}
