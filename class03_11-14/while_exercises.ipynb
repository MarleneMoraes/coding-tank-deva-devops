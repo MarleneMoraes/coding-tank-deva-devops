{
 "cells": [
  {
   "cell_type": "markdown",
   "metadata": {},
   "source": [
    "# Programming Logic I - WHILE"
   ]
  },
  {
   "cell_type": "markdown",
   "metadata": {},
   "source": [
    "1. Ask a user how many tests they took, then ask the grade for all the tests.\n",
    "Calculate the average and if it is greater than or equal to 6, inform that it is approved, if not failed."
   ]
  },
  {
   "cell_type": "code",
   "execution_count": null,
   "metadata": {},
   "outputs": [],
   "source": [
    "print('How many exams did you take?')\n",
    "qtd_exams = int(input())\n",
    "\n",
    "sum_grades = 0\n",
    "\n",
    "i = 1\n",
    "while i <= qtd_exams:\n",
    "     print('Exam grade ', i, ':')\n",
    "     grade = float(input())\n",
    "     sum_grades += grade\n",
    "     i += 1\n",
    "\n",
    "avg = sum_grades / qtd_exams\n",
    "\n",
    "if avg >= 6:\n",
    "     print('You are approved with average', avg)\n",
    "else:\n",
    "     print('You are failing with average', avg)\n"
   ]
  },
  {
   "cell_type": "markdown",
   "metadata": {},
   "source": [
    "2. Make a program that allows the user to enter as many numbers as they want, until they type exit.\n",
    "Return the sum and average of the numbers entered."
   ]
  },
  {
   "cell_type": "code",
   "execution_count": null,
   "metadata": {},
   "outputs": [],
   "source": [
    "sum = 0\n",
    "count = 0\n",
    "\n",
    "while True:\n",
    "    input = input('Number or \"exit\" to end: ')\n",
    "    if input.lower() == 'exit':\n",
    "         break\n",
    "    else:\n",
    "        try:\n",
    "            number = float(input)\n",
    "            sum += number\n",
    "            count += 1\n",
    "        except ValueError:\n",
    "            print('Invalid input. Please try again.')\n",
    "\n",
    "if count > 0:\n",
    "    avg = sum / count\n",
    "    print('Sum of the numbers entered: ', sum)\n",
    "    print('Average of the numbers entered: ', avg)\n",
    "else:\n",
    "     print('No number was entered.')"
   ]
  },
  {
   "cell_type": "markdown",
   "metadata": {},
   "source": [
    "3. Using loop, ask a user the grade of 3 exams. Remove the lowest score and calculate the average of the scores he achieved."
   ]
  },
  {
   "cell_type": "code",
   "execution_count": null,
   "metadata": {},
   "outputs": [],
   "source": [
    "grade1 = float(input('First test grade: '))\n",
    "grade2 = float(input('Second test grade: '))\n",
    "grade3 = float(input('Third test grade: '))\n",
    "\n",
    "if grade1 <= grade2 and grade1 <= grade3:\n",
    "     average = (grade2 + grade3) / 2\n",
    "elif grade2 <= grade1 and grade2 <= grade3:\n",
    "     avg = (grade1 + grade3) / 2\n",
    "else:\n",
    "     avg = (grade1 + grade2) / 2\n",
    "\n",
    "print('The average of the two highest scores is: ', avg)"
   ]
  },
  {
   "cell_type": "markdown",
   "metadata": {},
   "source": [
    "4. Ask the user for 2 integers, calculate how many even numbers there are between the 2 numbers given.\n",
    "Example: if he types 1 and 9, there are 4 even numbers between these numbers 2,4,6,8."
   ]
  },
  {
   "cell_type": "code",
   "execution_count": null,
   "metadata": {},
   "outputs": [],
   "source": [
    "num1 = int(input('First number: '))\n",
    "num2 = int(input('Second number: '))\n",
    "\n",
    "if num1 > num2:\n",
    "     num1, num2 = num2, num1\n",
    "\n",
    "count = 0\n",
    "num = num1\n",
    "\n",
    "while num <= num2:\n",
    "     if num % 2 == 0:\n",
    "         count += 1\n",
    "     num += 1\n",
    "\n",
    "print('There are', count, 'even numbers between', num1, 'and', num2)\n"
   ]
  },
  {
   "cell_type": "markdown",
   "metadata": {},
   "source": [
    "5. Ask the user 2 integers, calculate the sum of all odd integers between these numbers.\n",
    "Example: if he types 1 and 9, there are 5 odd numbers between these numbers 1,3,5,7,9, and the sum is 25."
   ]
  },
  {
   "cell_type": "code",
   "execution_count": null,
   "metadata": {},
   "outputs": [],
   "source": [
    "num1 = int(input('Enter the first number: '))\n",
    "num2 = int(input('Enter the second number: '))\n",
    "\n",
    "if num1 > num2:\n",
    "     num1, num2 = num2, num1\n",
    "\n",
    "sum = 0\n",
    "num = num1\n",
    "\n",
    "while num <= num2:\n",
    "     if num % 2 != 0:\n",
    "         sum += num\n",
    "     num += 1\n",
    "\n",
    "print('The sum of odd numbers between', num1, 'and', num2, 'is', sum)\n"
   ]
  }
 ],
 "metadata": {
  "kernelspec": {
   "display_name": "Python 3 (ipykernel)",
   "language": "python",
   "name": "python3"
  },
  "language_info": {
   "codemirror_mode": {
    "name": "ipython",
    "version": 3
   },
   "file_extension": ".py",
   "mimetype": "text/x-python",
   "name": "python",
   "nbconvert_exporter": "python",
   "pygments_lexer": "ipython3",
   "version": "3.10.2"
  },
  "latex_envs": {
   "LaTeX_envs_menu_present": true,
   "autoclose": false,
   "autocomplete": true,
   "bibliofile": "biblio.bib",
   "cite_by": "apalike",
   "current_citInitial": 1,
   "eqLabelWithNumbers": true,
   "eqNumInitial": 1,
   "hotkeys": {
    "equation": "Ctrl-E",
    "itemize": "Ctrl-I"
   },
   "labels_anchors": false,
   "latex_user_defs": false,
   "report_style_numbering": false,
   "user_envs_cfg": false
  },
  "toc": {
   "base_numbering": 1,
   "nav_menu": {},
   "number_sections": true,
   "sideBar": true,
   "skip_h1_title": false,
   "title_cell": "Table of Contents",
   "title_sidebar": "Contents",
   "toc_cell": false,
   "toc_position": {},
   "toc_section_display": true,
   "toc_window_display": false
  },
  "varInspector": {
   "cols": {
    "lenName": 16,
    "lenType": 16,
    "lenVar": 40
   },
   "kernels_config": {
    "python": {
     "delete_cmd_postfix": "",
     "delete_cmd_prefix": "del ",
     "library": "var_list.py",
     "varRefreshCmd": "print(var_dic_list())"
    },
    "r": {
     "delete_cmd_postfix": ") ",
     "delete_cmd_prefix": "rm(",
     "library": "var_list.r",
     "varRefreshCmd": "cat(var_dic_list()) "
    }
   },
   "types_to_exclude": [
    "module",
    "function",
    "builtin_function_or_method",
    "instance",
    "_Feature"
   ],
   "window_display": false
  },
  "vscode": {
   "interpreter": {
    "hash": "7f52069df51f55474cef70a04f6de2c8e83f851022777c4983d9d0bb63ea6184"
   }
  }
 },
 "nbformat": 4,
 "nbformat_minor": 2
}
