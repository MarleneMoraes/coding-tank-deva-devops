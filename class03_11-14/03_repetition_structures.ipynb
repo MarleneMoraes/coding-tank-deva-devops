{
  "cells": [
    {
      "cell_type": "markdown",
      "metadata": {
        "id": "Q0GTKh-e1aoJ"
      },
      "source": [
        "## Repetition Structures - While"
      ]
    },
    {
      "cell_type": "markdown",
      "metadata": {
        "id": "lTzvmSi_1aoM"
      },
      "source": [
        "### Class topics\n",
        "\n",
        "- Repetition structures\n",
        "- While looping"
      ]
    },
    {
      "cell_type": "markdown",
      "metadata": {
        "id": "k4Wo7BYX1aoM"
      },
      "source": [
        "In the last class we did the program where the person typed 2 numbers and we said the largest and if we want 3? What if we want 10? What if we want 100? Can we do it?"
      ]
    },
    {
      "cell_type": "markdown",
      "metadata": {
        "id": "dy8RQQzY1aoM"
      },
      "source": [
        "### Recap\n",
        "\n",
        "When we want to change the program's execution flow, we can use the if command together with a logical expression."
      ]
    },
    {
      "cell_type": "code",
      "execution_count": null,
      "metadata": {
        "colab": {
          "base_uri": "https://localhost:8080/"
        },
        "id": "CkP34qHe1aoN",
        "outputId": "69bea804-2343-48b2-bf9f-9c827ff04a65"
      },
      "outputs": [],
      "source": [
        "exam_grade_1 = 3\n",
        "exam_grade_2 = 5\n",
        "\n",
        "\n",
        "if exam_grade_1 > exam_grade_2:\n",
        "   print('I will never run here')\n",
        "else:\n",
        "   print('I will always appear')"
      ]
    },
    {
      "cell_type": "markdown",
      "metadata": {
        "id": "QKq1U5qJ1aoN"
      },
      "source": [
        "### Repetition Structures\n",
        "\n",
        "An if does not guarantee that I can validate the value of a field because if the user doesn't get it right the second time, it will remain invalid"
      ]
    },
    {
      "cell_type": "markdown",
      "metadata": {
        "id": "sHdPOrBI1aoO"
      },
      "source": [
        "__Note.__: ALWAYS I work with a repetition structure WHILE it is NECESSARY for the condition to be changed within the while, OTHERWISE I enter an infinite looping"
      ]
    },
    {
      "cell_type": "markdown",
      "metadata": {
        "id": "_-WGGHDh90pk"
      },
      "source": [
        "Make a program that reads the validity of the information:\n",
        "\n",
        "a. Age: between 0 and 150;\n",
        "\n",
        "b. Salary: greater than 0;\n",
        "\n",
        "c. Sex: M, F or Other;\n",
        "\n",
        "The program must print an error message for each invalid information."
      ]
    },
    {
      "cell_type": "code",
      "execution_count": null,
      "metadata": {
        "colab": {
          "base_uri": "https://localhost:8080/"
        },
        "id": "q2Lw6YuD90JX",
        "outputId": "f9efa4aa-7686-4c67-b2aa-f358063cd8f3"
      },
      "outputs": [],
      "source": [
        "age_range = int(input('Enter an age between 0 and 150 years: '))\n",
        "if age_range >= 0 and age_range <= 150:\n",
        "   print (f' Valid information. The age entered was: {age_range} years.')\n",
        "else:\n",
        "   print (f'Invalid information: The age of {age_range} years is not within the requested age range.')"
      ]
    },
    {
      "cell_type": "code",
      "execution_count": null,
      "metadata": {
        "ExecuteTime": {
          "end_time": "2023-06-28T22:45:14.317035Z",
          "start_time": "2023-06-28T22:45:12.520055Z"
        },
        "colab": {
          "base_uri": "https://localhost:8080/"
        },
        "id": "4OnhSEzy1aoO",
        "outputId": "c2323b96-ad6d-45c1-bff1-8482bad568d3"
      },
      "outputs": [],
      "source": [
        "# while my condition (bool) is true, do my actions. If it's false, stop\n",
        "# while condition:\n",
        "#   actions\n",
        "\n",
        "# Infinite Loop Care\n",
        "age_range = int(input('Enter an age between 0 and 150 years: '))\n",
        "while True:\n",
        "   print('I m here')\n",
        "   break\n",
        "   print('What now?')\n",
        "\n",
        "print('Exit the loop')"
      ]
    },
    {
      "cell_type": "code",
      "execution_count": null,
      "metadata": {
        "colab": {
          "base_uri": "https://localhost:8080/",
          "height": 1000
        },
        "id": "ncFQznM8_U9L",
        "outputId": "c12731e2-7f77-40d4-90e6-920f6fca16f9"
      },
      "outputs": [],
      "source": [
        "age_range = int(input('Enter an age between 0 and 150 years: '))\n",
        "while True:\n",
        "   print('I'm up here')\n",
        "   if age_range >= 0 and age_range <= 150:\n",
        "     break\n",
        "     print('I entered an infinite loop')\n",
        "   else:\n",
        "     print('Invalid age, please enter again')\n",
        "     age_range = int(input('Enter an age between 0 and 150 years: '))\n",
        "\n",
        "print('Exit the loop')"
      ]
    },
    {
      "cell_type": "code",
      "execution_count": null,
      "metadata": {
        "colab": {
          "base_uri": "https://localhost:8080/"
        },
        "id": "oxna0Uk3_vW8",
        "outputId": "03b74f2f-b0d3-4b5f-d85f-99a0c579026a"
      },
      "outputs": [],
      "source": [
        "age_range = int(input('Enter an age between 0 and 150 years: '))\n",
        "# condition_range_age = range_age < 0 or range_age > 150 -> Leave the check inside the while\n",
        "\n",
        "# If outside the error range, do not repeat\n",
        "while age_range < 0 or age_range > 150:\n",
        "   print('Invalid age, please enter again')\n",
        "   age_range = int(input('Enter an age between 0 and 150 years: '))\n",
        "\n",
        "print('Exit the loop')"
      ]
    },
    {
      "cell_type": "code",
      "execution_count": null,
      "metadata": {
        "colab": {
          "base_uri": "https://localhost:8080/"
        },
        "id": "TtnyRGrtAahs",
        "outputId": "026332c8-a273-4d93-938a-41066198c81a"
      },
      "outputs": [],
      "source": [
        "age_range = -1\n",
        "\n",
        "condition_age_range = age_range < 0 or age_range > 150\n",
        "print('I hope to be True:', condition_range_age)\n",
        "\n",
        "age_range = 10\n",
        "print('I hope to be False:', condition_range_age)"
      ]
    },
    {
      "cell_type": "code",
      "execution_count": null,
      "metadata": {
        "colab": {
          "base_uri": "https://localhost:8080/"
        },
        "id": "CX0nRYazCHRy",
        "outputId": "010816c5-38e1-4b75-e065-4508d4e5f7fe"
      },
      "outputs": [],
      "source": [
        "age_range = int(input('Enter an age between 0 and 150 years: '))\n",
        "condition_age_range = age_range < 0 or age_range > 150\n",
        "\n",
        "# If outside the error range, do not repeat\n",
        "while condition_age_range:\n",
        "   print('Invalid age, please enter again')\n",
        "   age_range = int(input('Enter an age between 0 and 150 years: '))\n",
        "\n",
        "   condition_age_range = age_range < 0 or age_range > 150\n",
        "\n",
        "   continue\n",
        "   print('Continue swimming')\n",
        "\n",
        "print('Exit the loop')"
      ]
    },
    {
      "cell_type": "code",
      "execution_count": 25,
      "metadata": {
        "id": "PAd1FpCZCsKz"
      },
      "outputs": [],
      "source": [
        "condition = True\n",
        "\n",
        "if condition:\n",
        "   pass\n",
        "else:\n",
        "   print('Print')"
      ]
    },
    {
      "cell_type": "markdown",
      "metadata": {
        "id": "7KE9_onN1aoO"
      },
      "source": [
        "__Example:__ Add all numbers from 0 to a number entered by the user"
      ]
    },
    {
      "cell_type": "code",
      "execution_count": null,
      "metadata": {
        "id": "wLPSLNEjFYc1"
      },
      "outputs": [],
      "source": [
        "number = input('Enter a WHOLE and POSITIVE number: ')\n",
        "\n",
        "if number.isdecimal():\n",
        "   print('Correct value')\n",
        "else:\n",
        "   print('Incorrect value')"
      ]
    },
    {
      "cell_type": "code",
      "execution_count": null,
      "metadata": {
        "colab": {
          "base_uri": "https://localhost:8080/"
        },
        "id": "ZonKVBfI1aoO",
        "outputId": "ee54899f-a053-49fe-a775-e8be62f85115"
      },
      "outputs": [],
      "source": [
        "number = input('Enter a WHOLE and POSITIVE number: ')\n",
        "\n",
        "# Validate if it is a number\n",
        "while not number.isdecimal():\n",
        "   print('Incorrect value entered')\n",
        "   number = input('Enter a WHOLE and POSITIVE number: ')"
      ]
    },
    {
      "cell_type": "code",
      "execution_count": null,
      "metadata": {
        "id": "inXt2XqqGhku"
      },
      "outputs": [],
      "source": [
        "number = int(input('Enter a WHOLE and POSITIVE number: '))"
      ]
    },
    {
      "cell_type": "code",
      "execution_count": null,
      "metadata": {
        "colab": {
          "base_uri": "https://localhost:8080/"
        },
        "id": "mOVyCnfvEovK",
        "outputId": "aef23343-67eb-4d9f-e2cf-89be98f3270a"
      },
      "outputs": [],
      "source": [
        "not_integer_positive = True\n",
        "number = 0\n",
        "\n",
        "while not_integer_positive:\n",
        "   number = input('Enter a WHOLE and POSITIVE number: ')\n",
        "\n",
        "   if number.isdecimal():\n",
        "     not_integer_positive = False\n",
        "   else:\n",
        "     print('Incorrect value entered')\n",
        "\n",
        "number = int(number)\n",
        "\n",
        "# sum of numbers from 1 to number\n",
        "sum = 0\n",
        "auxiliary = 0\n",
        "\n",
        "while True:\n",
        "   sum += auxiliary\n",
        "\n",
        "   auxiliary += 1\n",
        "   if auxiliary > number:\n",
        "     break\n",
        "\n",
        "print('Sum: ', sum)"
      ]
    },
    {
      "cell_type": "code",
      "execution_count": null,
      "metadata": {
        "colab": {
          "base_uri": "https://localhost:8080/"
        },
        "id": "n1Kn2NsCHKoy",
        "outputId": "a5f5a092-0189-494a-9c42-ebb2b1028495"
      },
      "outputs": [],
      "source": [
        "# number 10\n",
        "#1, 2, 3, 4, 5, 6, 7, 8, 9, 10\n",
        "1 + 2 + 3 + 4 + 5 + 6 + 7 + 8 + 9 + 10"
      ]
    },
    {
      "cell_type": "code",
      "execution_count": null,
      "metadata": {
        "colab": {
          "base_uri": "https://localhost:8080/"
        },
        "id": "DV9r9yQXIdCy",
        "outputId": "08dbe164-0f9b-436e-f85b-08df08fc41c2"
      },
      "outputs": [],
      "source": [
        "number = 10\n",
        "sum = 0\n",
        "auxiliary = number\n",
        "counter = 0\n",
        "\n",
        "while auxiliary > 0:\n",
        "   sum += auxiliary\n",
        "   auxiliary -= 1\n",
        "\n",
        "   counter += 1\n",
        "\n",
        "   # print('Sum: ', sum)\n",
        "   # print('Auxiliary: ', auxiliary)\n",
        "\n",
        "\n",
        "print('Final sum:', sum)\n",
        "print('Number of repetitions: ', counter)"
      ]
    },
    {
      "cell_type": "markdown",
      "metadata": {
        "id": "P_gKqvVOQC9C"
      },
      "source": [
        "**Factorial**"
      ]
    },
    {
      "cell_type": "code",
      "execution_count": null,
      "metadata": {
        "colab": {
          "base_uri": "https://localhost:8080/"
        },
        "id": "zhDodaYdQBrW",
        "outputId": "7158a0d0-a84b-41f6-f55a-d6bab28f9ae6"
      },
      "outputs": [],
      "source": [
        "not_integer_positive = True\n",
        "number = 0\n",
        "\n",
        "while not_integer_positive:\n",
        "   number = input('Enter a WHOLE and POSITIVE number: ')\n",
        "\n",
        "   if number.isdecimal():\n",
        "     not_integer_positive = False\n",
        "   else:\n",
        "     print('Incorrect value entered')\n",
        "\n",
        "number = int(number)\n",
        "auxiliary = number\n",
        "factorial = 1\n",
        "\n",
        "# Loop here until reaching auxiliary 0\n",
        "while auxiliary > 0:\n",
        "   factorial = factorial * auxiliary\n",
        "   auxiliary -= 1\n",
        "\n",
        "print(f'{number}!={factorial}')"
      ]
    },
    {
      "cell_type": "code",
      "execution_count": null,
      "metadata": {
        "id": "qSStzuWdQLcz"
      },
      "outputs": [],
      "source": [
        "# 0 * 5 * 4 * 3 * 2 * 1 -> Don't\n",
        "# 1 * 5 * 4 * 3 * 2 * 1\n",
        "\n",
        "\n",
        "# 5! = 5 * 4!\n",
        "# 4! = 4 * 3!\n",
        "# ...\n",
        "# 5! = 5 * 4 * 3 * 2 * 1"
      ]
    },
    {
      "cell_type": "markdown",
      "metadata": {
        "id": "jlhM3QmI1aoP"
      },
      "source": [
        "### Let's practice!"
      ]
    },
    {
      "cell_type": "markdown",
      "metadata": {
        "id": "x3HQC0RY1aoP"
      },
      "source": [
        "1) Write a program that requests an integer and prints on the screen all numbers from 1 to the number entered, separated by spaces.\n",
        "_Example_\n",
        "number entered: 5\n",
        "expected result: 1 2 3 4 5"
      ]
    },
    {
      "cell_type": "code",
      "execution_count": null,
      "metadata": {
        "colab": {
          "base_uri": "https://localhost:8080/"
        },
        "id": "Yeom52rFTZ8a",
        "outputId": "f5cb0e49-dc13-4cd9-d0a0-1ea807a0b0cb"
      },
      "outputs": [],
      "source": [
        "number = int(input('Number: '))\n",
        "i = 1\n",
        "while i <= number:\n",
        "    print(i, end=' ')\n",
        "    i += 1"
      ]
    },
    {
      "cell_type": "markdown",
      "metadata": {
        "id": "-XffXAn41aoP"
      },
      "source": [
        "2) Write a program that shows the factorial of a typed number.\n",
        "_Example_\n",
        "number entered: 5\n",
        "expected result: 120"
      ]
    },
    {
      "cell_type": "code",
      "execution_count": null,
      "metadata": {
        "ExecuteTime": {
          "end_time": "2023-06-29T14:07:02.010602Z",
          "start_time": "2023-06-29T14:07:01.444374Z"
        },
        "id": "gJDzyHNj1aoP"
      },
      "outputs": [],
      "source": [
        "number = int(input('Number: '))\n",
        "\n",
        "factorial = 1\n",
        "i = 1\n",
        "while i <= number:\n",
        "    factorial *= i\n",
        "    i += 1\n",
        "print(factorial)"
      ]
    },
    {
      "cell_type": "markdown",
      "metadata": {
        "id": "RXL4eGTw1aoP"
      },
      "source": [
        "3) Make a program that prints the 9 times table on the screen (between 1 and 10). Enter the account, for example, 9 * 1 = 9, with each value on a different line."
      ]
    },
    {
      "cell_type": "code",
      "execution_count": null,
      "metadata": {
        "ExecuteTime": {
          "end_time": "2023-06-29T14:07:36.887441Z",
          "start_time": "2023-06-29T14:07:32.988688Z"
        },
        "id": "2mlYBixo1aoP"
      },
      "outputs": [],
      "source": [
        "i = 1\n",
        "while i <= 10:\n",
        "    print('9 *', i, '=', 9 * i)\n",
        "    i += 1"
      ]
    },
    {
      "cell_type": "markdown",
      "metadata": {
        "id": "IYxpwxwM1aoP"
      },
      "source": [
        "4) Make a program in which the user enters any numbers that will end when the value 0 is entered. At the end, say what was the largest number entered."
      ]
    },
    {
      "cell_type": "code",
      "execution_count": null,
      "metadata": {
        "colab": {
          "base_uri": "https://localhost:8080/"
        },
        "id": "X4I-auEfXxR9",
        "outputId": "2cf2d7a8-1add-4baf-ade5-1f6d6116c73c"
      },
      "outputs": [],
      "source": [
        "largest_number = -1\n",
        "while True:\n",
        "    number = int(input('Enter a number (0 to output): '))\n",
        "    if number == 0:\n",
        "        break\n",
        "    if number > largest_number:\n",
        "        largest_number = number\n",
        "print('The largest number entered was:', largest_number)"
      ]
    },
    {
      "cell_type": "markdown",
      "metadata": {
        "id": "s7fDZAZb1aoQ"
      },
      "source": [
        "5. Write a script that asks the user to enter a person's age, salary, and gender until the entered entries are valid.\n",
        "  \n",
        "The. Age: between 0 and 150\n",
        "B. Salary: greater than 0\n",
        "w. Gender: M, F or Other\n",
        "  \n",
        "Finally, print the data received from the user."
      ]
    },
    {
      "cell_type": "code",
      "execution_count": null,
      "metadata": {
        "colab": {
          "base_uri": "https://localhost:8080/"
        },
        "id": "YZXZpcFgZH0q",
        "outputId": "cbe980dd-5250-4d4a-d47a-ee63970fa5ad"
      },
      "outputs": [],
      "source": [
        "while True:\n",
        "    age = int(input('Age (between 0 and 150): '))\n",
        "    if 0 <= age <= 150:\n",
        "        break\n",
        "    print('Invalid age, try again.')\n",
        "\n",
        "while True:\n",
        "    salary = float(input('Salary (greater than 0): '))\n",
        "    if salary > 0:\n",
        "        break\n",
        "    print('Invalid salary, try again.')\n",
        "\n",
        "while True:\n",
        "    gender = input('Gender (M, F or Other): ')\n",
        "    if gender in ['M', 'F', 'Other']:\n",
        "        break\n",
        "    print('Invalid gender, try again.')\n",
        "\n",
        "print('Age:', age)\n",
        "print('Salary:', salary)\n",
        "print('Gender:', gender)"
      ]
    },
    {
      "cell_type": "markdown",
      "metadata": {
        "id": "XAFdqTvM1aoQ"
      },
      "source": [
        "6) Make a calculator. The user must enter which mathematical operation he wants to perform and then the two numbers. The program should only end when the user types the \"exit\" option when choosing the mathematical operation."
      ]
    },
    {
      "cell_type": "code",
      "execution_count": null,
      "metadata": {
        "ExecuteTime": {
          "end_time": "2023-06-29T01:02:38.629837Z",
          "start_time": "2023-06-29T01:02:33.805648Z"
        },
        "id": "J_HVxPSl1aoQ"
      },
      "outputs": [],
      "source": [
        "print('CALCULATOR')\n",
        "\n",
        "while True:\n",
        "     print('Enter the mathematical operation you want to perform (+, -, *, /) or \"exit\" to finish:')\n",
        "     operation = input()\n",
        "\n",
        "     if operation.lower() == 'exit':\n",
        "         break\n",
        "\n",
        "     print('Enter the first number:')\n",
        "     num1 = float(input())\n",
        "     print('Enter the second number:')\n",
        "     num2 = float(input())\n",
        "\n",
        "     if operation == '+':\n",
        "         result = num1 + num2\n",
        "     elif operation == '-':\n",
        "         result = num1 - num2\n",
        "     elif operation == '*':\n",
        "         result = num1 * num2\n",
        "     elif operation == '/':\n",
        "         if num2 != 0:\n",
        "             result = num1 / num2\n",
        "         else:\n",
        "             print('Error: Division by zero is not allowed.')\n",
        "             continue\n",
        "     else:\n",
        "         print('Invalid operation.')\n",
        "         continue\n",
        "\n",
        "     print('The result of the operation is: ', result)"
      ]
    },
    {
      "cell_type": "markdown",
      "metadata": {
        "id": "4REA7tm-1aoQ"
      },
      "source": [
        "7. Add the even numbers from 1 to 100 (USING LOOP WHILE)"
      ]
    },
    {
      "cell_type": "code",
      "execution_count": null,
      "metadata": {
        "id": "w_ta6_il1aoQ"
      },
      "outputs": [],
      "source": [
        "number = 1\n",
        "sum = 0\n",
        "\n",
        "while number <= 100:\n",
        "     if number % 2 == 0:\n",
        "         sum += number\n",
        "     number += 1\n",
        "\n",
        "print('Sum of numbers: ', sum)"
      ]
    },
    {
      "cell_type": "markdown",
      "metadata": {
        "id": "I9lXvzHn1aoQ"
      },
      "source": [
        "8. Create a program that receives words and adds them into a text until the word STOP is written."
      ]
    },
    {
      "cell_type": "code",
      "execution_count": null,
      "metadata": {
        "id": "zp26acsr1aoQ"
      },
      "outputs": [],
      "source": [
        "text = ''\n",
        "\n",
        "while True:\n",
        "    print('Word or \"STOP\" to finish:')\n",
        "    word = input()\n",
        "\n",
        "    if word.lower() == 'stop':\n",
        "        break\n",
        "\n",
        "    text += word + ' '\n",
        "\n",
        "print('The aggregated text is: ', text)\n"
      ]
    }
  ],
  "metadata": {
    "colab": {
      "provenance": []
    },
    "kernelspec": {
      "display_name": "Python 3 (ipykernel)",
      "language": "python",
      "name": "python3"
    },
    "language_info": {
      "codemirror_mode": {
        "name": "ipython",
        "version": 3
      },
      "file_extension": ".py",
      "mimetype": "text/x-python",
      "name": "python",
      "nbconvert_exporter": "python",
      "pygments_lexer": "ipython3",
      "version": "3.10.12"
    },
    "latex_envs": {
      "LaTeX_envs_menu_present": true,
      "autoclose": false,
      "autocomplete": true,
      "bibliofile": "biblio.bib",
      "cite_by": "apalike",
      "current_citInitial": 1,
      "eqLabelWithNumbers": true,
      "eqNumInitial": 1,
      "hotkeys": {
        "equation": "Ctrl-E",
        "itemize": "Ctrl-I"
      },
      "labels_anchors": false,
      "latex_user_defs": false,
      "report_style_numbering": false,
      "user_envs_cfg": false
    },
    "toc": {
      "base_numbering": 1,
      "nav_menu": {},
      "number_sections": true,
      "sideBar": true,
      "skip_h1_title": false,
      "title_cell": "Table of Contents",
      "title_sidebar": "Contents",
      "toc_cell": false,
      "toc_position": {},
      "toc_section_display": true,
      "toc_window_display": false
    },
    "varInspector": {
      "cols": {
        "lenName": 16,
        "lenType": 16,
        "lenVar": 40
      },
      "kernels_config": {
        "python": {
          "delete_cmd_postfix": "",
          "delete_cmd_prefix": "del ",
          "library": "var_list.py",
          "varRefreshCmd": "print(var_dic_list())"
        },
        "r": {
          "delete_cmd_postfix": ") ",
          "delete_cmd_prefix": "rm(",
          "library": "var_list.r",
          "varRefreshCmd": "cat(var_dic_list()) "
        }
      },
      "types_to_exclude": [
        "module",
        "function",
        "builtin_function_or_method",
        "instance",
        "_Feature"
      ],
      "window_display": false
    },
    "vscode": {
      "interpreter": {
        "hash": "5c66de18c091297d67c9a295278ca9503b5163a383fa85591c3cdb6daec33020"
      }
    }
  },
  "nbformat": 4,
  "nbformat_minor": 0
}
