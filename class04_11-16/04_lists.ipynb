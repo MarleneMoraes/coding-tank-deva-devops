{
  "cells": [
    {
      "cell_type": "markdown",
      "metadata": {
        "id": "NMsfog5tLkLv"
      },
      "source": [
        "## Lists"
      ]
    },
    {
      "cell_type": "markdown",
      "metadata": {
        "id": "wP6nJGXENYrx"
      },
      "source": [
        "1. Ask the user to enter 4 consecutive sides of a polygon. See if it is a square or rectangle, or neither.\n",
        "If it is a square or rectangle, print the calculated area."
      ]
    },
    {
      "cell_type": "code",
      "execution_count": null,
      "metadata": {
        "colab": {
          "base_uri": "https://localhost:8080/"
        },
        "id": "5xWPSytwMoJH",
        "outputId": "de9229e0-3f04-497f-a92c-0fba2f90a07b"
      },
      "outputs": [],
      "source": [
        "first_side = int(input('First side of the polygon: '))\n",
        "second_side = int(input('Second side of the polygon: '))\n",
        "third_side = int(input('Third side of the polygon: '))\n",
        "fourth_side = int(input('Fourth side of the polygon: '))\n",
        "\n",
        "if first_side == second_side and first_side == third_side and first_side == fourth_side:\n",
        "     print('Your polygon is a square.')\n",
        "     area = first_side ** 2\n",
        "     print(f'The area of the square is: {area}')\n",
        "elif first_side == third_side and second_side == fourth_side:\n",
        "     print('Your polygon is a rectangle.')\n",
        "     area = first_side * second_side\n",
        "     print(f'The area of the rectangle is: {area}')\n",
        "else:\n",
        "     print('The polygon is neither a square nor a rectangle.')\n",
        "\n",
        "l1 = float(input('enter the measurement of side 1: '))\n",
        "l2 = float(input('enter the measurement of height 1: '))\n",
        "l3 = float(input('enter the measurement of side 2: '))\n",
        "l4 = float(input('enter the measurement of height 2: '))\n",
        "sum = 1\n",
        "\n",
        "if l1 == l2 and l1 == l3 and l1 == l4:\n",
        "   sum = l1 * l2\n",
        "   print(sum)\n",
        "elif l1 == l3 and l2 == l4:\n",
        "   sum = l1 * l2\n",
        "   print(sum)\n",
        "else:\n",
        "   print('It will not be calculated')"
      ]
    },
    {
      "cell_type": "markdown",
      "metadata": {
        "id": "aQ2GThSpLkLx"
      },
      "source": [
        "### Class Topics\n",
        "- Lists\n",
        "- Indexes\n",
        "- Slicing\n",
        "- List methods\n",
        "- List iterations"
      ]
    },
    {
      "cell_type": "markdown",
      "metadata": {
        "id": "5i0F4lvVPiCD"
      },
      "source": [
        "Exam:\n",
        "- 8 questions\n",
        "- 5 alternative (justified)\n",
        "- 3 programming questions\n",
        "- Clears the issue if you use something not seen"
      ]
    },
    {
      "cell_type": "markdown",
      "metadata": {
        "id": "KQsNKa2zLkLx"
      },
      "source": [
        "### Lists\n",
        "\n",
        "And if we want to make the program where the person types 10 numbers and we say the largest, can we do it?\n",
        "\n",
        "What if we want the 2nd largest? What if we want the 5th?\n",
        "\n",
        "We can solve it with **lists**\n",
        "- Lists are collections of objects in Python and are expressed in `[]`"
      ]
    },
    {
      "cell_type": "code",
      "execution_count": null,
      "metadata": {
        "ExecuteTime": {
          "end_time": "2023-06-29T22:43:30.002117Z",
          "start_time": "2023-06-29T22:43:29.924710Z"
        },
        "colab": {
          "base_uri": "https://localhost:8080/"
        },
        "id": "gcamSRSoLkLx",
        "outputId": "25b8ed82-73bf-40c1-ffb8-830cdf75b142"
      },
      "outputs": [],
      "source": [
        "counter = 0\n",
        "largest_number = 0\n",
        "\n",
        "while counter < 5:\n",
        "   number = int(input('Enter a number: '))\n",
        "   if number > largest_number:\n",
        "     largest_number = number\n",
        "\n",
        "   counter += 1\n",
        "\n",
        "print(largest_number)"
      ]
    },
    {
      "cell_type": "code",
      "execution_count": null,
      "metadata": {
        "colab": {
          "base_uri": "https://localhost:8080/"
        },
        "id": "71CY_PAYTlIC",
        "outputId": "83e192cd-11c4-475b-ef1c-8c62fe23a535"
      },
      "outputs": [],
      "source": [
        "print(list())\n",
        "print(type(list()))"
      ]
    },
    {
      "cell_type": "code",
      "execution_count": null,
      "metadata": {
        "colab": {
          "base_uri": "https://localhost:8080/"
        },
        "id": "O5jr515rTpZg",
        "outputId": "6a583894-6e80-4da4-cfe2-c6e0f7d1a40c"
      },
      "outputs": [],
      "source": [
        "print([])\n",
        "print(type([]))"
      ]
    },
    {
      "cell_type": "code",
      "execution_count": null,
      "metadata": {
        "colab": {
          "base_uri": "https://localhost:8080/"
        },
        "id": "KJOnj0SmT0Yj",
        "outputId": "58520db8-b1bc-4e99-ae46-328d54464fbb"
      },
      "outputs": [],
      "source": [
        "empty_list = list()\n",
        "empty_list_2 = []\n",
        "\n",
        "print(type(empty_list))"
      ]
    },
    {
      "cell_type": "code",
      "execution_count": null,
      "metadata": {
        "colab": {
          "base_uri": "https://localhost:8080/"
        },
        "id": "0WoelcqVT6Wt",
        "outputId": "3e4332d5-6911-46d0-922f-846d0afedd69"
      },
      "outputs": [],
      "source": [
        "# We can create a list with any type of data\n",
        "number = 10\n",
        "\n",
        "integer_list = [1, 2, 3, number]\n",
        "list_strings = ['lucas', 'faria', 'hermeto', 'lucas']\n",
        "list_floats = [1.2, 2.2, 3.4, 5.4]\n",
        "boolean_list = [True, False]\n",
        "mixed_list = [1, 2.0, 'string', True]\n",
        "\n",
        "print(integer_list)\n",
        "print(list_strings)\n",
        "print(list_floats)\n",
        "print(boolean_list)"
      ]
    },
    {
      "cell_type": "code",
      "execution_count": null,
      "metadata": {
        "colab": {
          "base_uri": "https://localhost:8080/"
        },
        "id": "0Zu1SVCRUeWo",
        "outputId": "be8807c0-9123-4962-eb77-0548b38d65e3"
      },
      "outputs": [],
      "source": [
        "# difference or similarity between array and list\n",
        "list_list = [[1, 2, 4], ['lucas', 'faria', 'hermeto'], mixed_list]\n",
        "print(list_list)\n",
        "print(type(mixed_list))\n"
      ]
    },
    {
      "cell_type": "code",
      "execution_count": null,
      "metadata": {
        "colab": {
          "base_uri": "https://localhost:8080/"
        },
        "id": "peB0VNX4Wa3_",
        "outputId": "9a852dbf-a3d0-4b41-8bfe-b2ddb68e231f"
      },
      "outputs": [],
      "source": [
        "# Index, Salary, Name, Are you an Employee?\n",
        "[[1, 2.0, 'string', True],\n",
        "  [2, 1000, 'lucas', True]]"
      ]
    },
    {
      "cell_type": "markdown",
      "metadata": {
        "id": "SOAimFSlLkLy"
      },
      "source": [
        "### Index"
      ]
    },
    {
      "cell_type": "code",
      "execution_count": null,
      "metadata": {
        "id": "3ir0YnMaLkLy"
      },
      "outputs": [],
      "source": [
        "number = 10\n",
        "integer_list = [1, 2, 3, number]"
      ]
    },
    {
      "cell_type": "code",
      "execution_count": null,
      "metadata": {
        "colab": {
          "base_uri": "https://localhost:8080/"
        },
        "id": "a3bBK36sYZTi",
        "outputId": "cba438af-3f41-40dc-a7f8-e909a5ec3c66"
      },
      "outputs": [],
      "source": [
        "# index starts with 0\n",
        "print(integer_list[0])\n",
        "print(integer_list[1])\n",
        "print(integer_list[2])\n",
        "print(integer_list[3])"
      ]
    },
    {
      "cell_type": "code",
      "execution_count": null,
      "metadata": {
        "colab": {
          "base_uri": "https://localhost:8080/",
          "height": 176
        },
        "id": "RPEuvNi2Yls3",
        "outputId": "c9c9808d-282e-47db-b958-323f75c6f531"
      },
      "outputs": [],
      "source": [
        "integer_list[4]"
      ]
    },
    {
      "cell_type": "code",
      "execution_count": null,
      "metadata": {
        "colab": {
          "base_uri": "https://localhost:8080/"
        },
        "id": "x2xvrEf5YsiF",
        "outputId": "369b0cae-13cb-44ef-c95d-4dc5e85e673d"
      },
      "outputs": [],
      "source": [
        "# Total number of elements != final index\n",
        "# Total number of elements - 1 = final index\n",
        "len(integer_list)"
      ]
    },
    {
      "cell_type": "code",
      "execution_count": null,
      "metadata": {
        "colab": {
          "base_uri": "https://localhost:8080/"
        },
        "id": "v3JnkOxkZ95Q",
        "outputId": "7b5351a9-6ee5-4901-ee31-8b238642149c"
      },
      "outputs": [],
      "source": [
        "# number = 10\n",
        "# integer_list = [1, 2, 3, number]\n",
        "print(len(integer_list))\n",
        "print(len(integer_list) - 1)\n",
        "\n",
        "print(integer_list[len(integer_list) - 1])"
      ]
    },
    {
      "cell_type": "code",
      "execution_count": null,
      "metadata": {
        "colab": {
          "base_uri": "https://localhost:8080/"
        },
        "id": "25lzIJYYY92u",
        "outputId": "a81c056b-8623-489b-fc35-6a9fbf0f977c"
      },
      "outputs": [],
      "source": [
        "final_index = len(integer_list) - 1\n",
        "\n",
        "print('Final index: ', final_index)\n",
        "print(integer_list[len(integer_list) - 1])\n",
        "print('Final index element: ', integer_list[final_index])"
      ]
    },
    {
      "cell_type": "code",
      "execution_count": null,
      "metadata": {
        "colab": {
          "base_uri": "https://localhost:8080/"
        },
        "id": "8IsRblr9ZhAu",
        "outputId": "6de7ced3-350d-4565-9152-c3f20cccc870"
      },
      "outputs": [],
      "source": [
        "type(integer_list[final_index])"
      ]
    },
    {
      "cell_type": "code",
      "execution_count": null,
      "metadata": {
        "colab": {
          "base_uri": "https://localhost:8080/"
        },
        "id": "w8RZRtv-aYyJ",
        "outputId": "67c24adc-67e5-4600-834c-a4e023c63e2e"
      },
      "outputs": [],
      "source": [
        "mixed_list = [1, 2.0, 'string', True, []]\n",
        "\n",
        "print(f'{mixed_list[0]} -> {type(mixed_list[0])}')\n",
        "print(f'{mixed_list[1]} -> {type(mixed_list[1])}')\n",
        "print(f'{mixed_list[2]} -> {type(mixed_list[2])}')\n",
        "print(f'{mixed_list[3]} -> {type(mixed_list[3])}')\n",
        "print(f'{mixed_list[4]} -> {type(mixed_list[4])}')"
      ]
    },
    {
      "cell_type": "code",
      "execution_count": null,
      "metadata": {
        "colab": {
          "base_uri": "https://localhost:8080/"
        },
        "id": "ZKjffBdOa4m8",
        "outputId": "0aae3e0f-de59-4764-caea-ddecd5b044c8"
      },
      "outputs": [],
      "source": [
        "# number = 10\n",
        "# integer_list = [1, 2, 3, number]\n",
        "\n",
        "print(integer_list[-1])\n",
        "print(integer_list[-2])\n",
        "print(integer_list[-3])\n",
        "print(integer_list[-4])\n",
        "# print(integer_list[-5]) -> error"
      ]
    },
    {
      "cell_type": "code",
      "execution_count": null,
      "metadata": {
        "colab": {
          "base_uri": "https://localhost:8080/"
        },
        "id": "e30jyM3CbT0b",
        "outputId": "791684ae-9c84-4d01-c0ef-c67e000b8d6c"
      },
      "outputs": [],
      "source": [
        "employee_1 = [1, 2.0, 'string', True]\n",
        "\n",
        "all_employees = [employee_1,\n",
        "                       [2, 1000, 'lucas', True]]\n",
        "\n",
        "employee_2 = all_employees[1]\n",
        "\n",
        "print(all_employees)\n",
        "print(f'{all_employees[0]} -> {type(all_employees[0])}')\n",
        "print(employee_1)\n",
        "print(f'Employee salary 1: {all_employees[0][1]} -> {type(all_employees[0][1])}')\n",
        "\n",
        "print(all_employees[-1])\n",
        "print(employee_2)\n",
        "print('Employee salary 2: ', employee_2[1])"
      ]
    },
    {
      "cell_type": "code",
      "execution_count": null,
      "metadata": {
        "colab": {
          "base_uri": "https://localhost:8080/"
        },
        "id": "IezNyU-Kdcd0",
        "outputId": "05c78bef-fa72-45ac-f3e4-b2fabf2a3909"
      },
      "outputs": [],
      "source": [
        "list_list_list = [[[1, 2], [2]], [[3], [4]]]\n",
        "print(list_list_list)\n",
        "print(f'{list_list_list[0]} -> {type(list_list_list[0])}')\n",
        "print(f'{list_list_list[0][0]} -> {type(list_list_list[0][0])}')\n",
        "print(f'{list_list_list[0][0][0]} -> {type(list_list_list[0][0][0])}')"
      ]
    },
    {
      "cell_type": "code",
      "execution_count": null,
      "metadata": {
        "colab": {
          "base_uri": "https://localhost:8080/"
        },
        "id": "iVkvxa4Jd-oy",
        "outputId": "34e44e6a-91e1-4407-89d8-e72177a969a5"
      },
      "outputs": [],
      "source": [
        "employee_1, employee_2 = all_employees\n",
        "\n",
        "print(employee_1)\n",
        "print(employee_2)"
      ]
    },
    {
      "cell_type": "markdown",
      "metadata": {
        "id": "aqevFLjWLkLy"
      },
      "source": [
        "### Slicing"
      ]
    },
    {
      "cell_type": "code",
      "execution_count": null,
      "metadata": {
        "ExecuteTime": {
          "end_time": "2023-06-29T22:57:02.145995Z",
          "start_time": "2023-06-29T22:57:02.133453Z"
        },
        "colab": {
          "base_uri": "https://localhost:8080/"
        },
        "id": "LMgZ0vk_LkLy",
        "outputId": "61a4c2eb-760f-4356-db6d-6aaf2bc0ea36"
      },
      "outputs": [],
      "source": [
        "integer_list"
      ]
    },
    {
      "cell_type": "code",
      "execution_count": null,
      "metadata": {
        "colab": {
          "base_uri": "https://localhost:8080/"
        },
        "id": "JyLJ1G6pehwq",
        "outputId": "6990d661-35b0-43fc-d1b0-813c41b5fb94"
      },
      "outputs": [],
      "source": [
        "# slicing\n",
        "\n",
        "print(integer_list[:])\n",
        "print(integer_list[1:])\n",
        "print(integer_list[2:]) # includes the first\n",
        "print(integer_list[:3]) # Does not include the last\n",
        "\n",
        "print(integer_list[1:3]) # selects from 1 to 3 index\n",
        "\n",
        "print(integer_list[:-2])\n",
        "print(integer_list[-1:]) # It doesn't make sense, but it works"
      ]
    },
    {
      "cell_type": "code",
      "execution_count": null,
      "metadata": {
        "colab": {
          "base_uri": "https://localhost:8080/"
        },
        "id": "prw1FTj8fnUc",
        "outputId": "cc9aba5b-48af-41be-8f8c-e82851541880"
      },
      "outputs": [],
      "source": [
        "integer_list = [1, 2, 3, 10, 15, 20, 40]\n",
        "print(integer_list)\n",
        "print(integer_list[::2]) # list[start:end:steps]\n",
        "print(integer_list[1::2])\n",
        "print(integer_list[1:4:2])\n",
        "print(integer_list[1::3])"
      ]
    },
    {
      "cell_type": "markdown",
      "metadata": {
        "id": "D_2y_XNcLkLy"
      },
      "source": [
        "### List methods"
      ]
    },
    {
      "cell_type": "code",
      "execution_count": null,
      "metadata": {
        "ExecuteTime": {
          "end_time": "2023-06-29T22:59:04.243689Z",
          "start_time": "2023-06-29T22:59:04.239641Z"
        },
        "colab": {
          "base_uri": "https://localhost:8080/"
        },
        "id": "18s825lfLkLz",
        "outputId": "56616ede-9edd-4c57-8913-a22a2c5585f7"
      },
      "outputs": [],
      "source": [
        "list = [1, 2, 3, 4, 5, 6, 7, 8, 9, 10]\n",
        "\n",
        "print(list)\n",
        "print(list[4])\n",
        "list[4] = 55\n",
        "print(list[4])\n",
        "print(list)"
      ]
    },
    {
      "cell_type": "code",
      "execution_count": null,
      "metadata": {
        "colab": {
          "base_uri": "https://localhost:8080/"
        },
        "id": "q2cXuDHalKuz",
        "outputId": "21df86f2-a7d0-4da7-8210-4d86a9da7df6"
      },
      "outputs": [],
      "source": [
        "# Index, Salary, Name, Are you an Employee?\n",
        "all_employees = [[1, 2.0, 'string', True],\n",
        "                       [2, 1000, 'lucas', True]]\n",
        "\n",
        "print(all_employees)\n",
        "employee_1 = all_employees[0]\n",
        "employee_1[2] = 'so and so'\n",
        "print(all_employees)"
      ]
    },
    {
      "cell_type": "code",
      "execution_count": null,
      "metadata": {
        "colab": {
          "base_uri": "https://localhost:8080/"
        },
        "id": "DHM8kHOVlghk",
        "outputId": "e92699c1-6a53-45dc-c682-aa03dc2b4276"
      },
      "outputs": [],
      "source": [
        "repetition_number = 4\n",
        "\n",
        "print(repetition_number)\n",
        "auxiliary = repetition_number\n",
        "auxiliary = 10\n",
        "print(repetition_number)"
      ]
    },
    {
      "cell_type": "code",
      "execution_count": null,
      "metadata": {
        "colab": {
          "base_uri": "https://localhost:8080/"
        },
        "id": "84eAuBfqmInf",
        "outputId": "a0c7f6ee-3470-424d-a5aa-3a543f189d23"
      },
      "outputs": [],
      "source": [
        "list = [1, 2, 3, 4, 5, 6, 7, 8, 9, 10]\n",
        "\n",
        "print(list)\n",
        "list.append(11)\n",
        "print(list)"
      ]
    },
    {
      "cell_type": "markdown",
      "metadata": {
        "id": "nGz5ABDwLkLz"
      },
      "source": [
        "There are several other list functions/methods that you will see in the next module, such as:\n",
        "\n",
        "- append\n",
        "- insert\n",
        "- remove\n",
        "- pop\n",
        "- sorted\n",
        "- count\n",
        "- reverse\n",
        "- index\n",
        "- max, min, len"
      ]
    },
    {
      "cell_type": "code",
      "execution_count": null,
      "metadata": {
        "ExecuteTime": {
          "end_time": "2023-06-30T00:44:56.276611Z",
          "start_time": "2023-06-30T00:44:56.267811Z"
        },
        "colab": {
          "base_uri": "https://localhost:8080/"
        },
        "id": "iAS0AN6MLkLz",
        "outputId": "78d1c098-4479-46fd-941a-6f825847cec4"
      },
      "outputs": [],
      "source": [
        "list = [1, 2, 3, 4, 5, 6, 7, 8, 9, 10]\n",
        "\n",
        "print(list)\n",
        "list.insert(3, 3.1) # (index, object)\n",
        "list.insert(20, 11)\n",
        "list.insert(19, 12)\n",
        "list.insert(11, 'hello')\n",
        "list.insert(11, [2, 3, 4])\n",
        "print(list)"
      ]
    },
    {
      "cell_type": "code",
      "execution_count": null,
      "metadata": {
        "colab": {
          "base_uri": "https://localhost:8080/"
        },
        "id": "XbMrlA4noOpa",
        "outputId": "732c1193-181b-4af9-c8e6-01ea1be33d0a"
      },
      "outputs": [],
      "source": [
        "# remove the first element, not the index\n",
        "auxiliary_list = [1, 2, 3, 4, 5, 6, 6, 1, 1, 2, 'lucas']\n",
        "print(auxiliary_list)\n",
        "\n",
        "auxiliary_list.remove(1) # removes the element\n",
        "auxiliary_list.remove(1)\n",
        "auxiliary_list.remove(5)\n",
        "auxiliary_list.remove('lucas')\n",
        "print(auxiliary_list)"
      ]
    },
    {
      "cell_type": "code",
      "execution_count": null,
      "metadata": {
        "id": "0m5xSojGpGQe"
      },
      "outputs": [],
      "source": [
        "list_numbers = []\n",
        "counter = 0\n",
        "\n",
        "while counter < 10:\n",
        "   element = input('Enter a number: ')\n",
        "\n",
        "   list_numbers.append(element)\n",
        "   counter += 1\n",
        "\n",
        "max(list_numbers)"
      ]
    },
    {
      "cell_type": "code",
      "execution_count": null,
      "metadata": {
        "colab": {
          "base_uri": "https://localhost:8080/"
        },
        "id": "BmBK9zLLpldV",
        "outputId": "5a710ecc-b522-4c72-e70a-8fdf00bbcb8d"
      },
      "outputs": [],
      "source": [
        "auxiliary_list = [1, 2, 3, 4, 5, 6, 6, 1, 1, 2]\n",
        "\n",
        "print(f'{auxiliary_list} -> {auxiliary_list[0]}')\n",
        "auxiliary_list.pop() # empty, removes the last element\n",
        "auxiliar_list.pop(1) # remove the index\n",
        "auxiliar_list.pop(0) # remove the index\n",
        "# auxiliar_list.pop(10) -> error due to being outside the list limit\n",
        "print(f'{auxiliary_list} -> {auxiliary_list[0]}')"
      ]
    },
    {
      "cell_type": "code",
      "execution_count": null,
      "metadata": {
        "colab": {
          "base_uri": "https://localhost:8080/"
        },
        "id": "865quWelq0-p",
        "outputId": "ab01c5ca-ebc5-4907-be81-548e59a82de0"
      },
      "outputs": [],
      "source": [
        "auxiliary_list = [1, 2, 3, 4, 5, 6, 6, 1, 1, 2]\n",
        "\n",
        "print(auxiliary_list)\n",
        "ordered_auxiliary_list = sorted(auxiliary_list)\n",
        "print(auxiliary_list)\n",
        "print(ordered_auxiliary_list)"
      ]
    },
    {
      "cell_type": "code",
      "execution_count": null,
      "metadata": {
        "colab": {
          "base_uri": "https://localhost:8080/",
          "height": 211
        },
        "id": "ArJH3oYUq0kD",
        "outputId": "449a6442-b794-4df4-ba8e-eac5e683b88b"
      },
      "outputs": [],
      "source": [
        "mixed_list = [1, 2.0, 'string', True, []]\n",
        "\n",
        "# Does not work\n",
        "sorted(mixed_list)\n"
      ]
    },
    {
      "cell_type": "code",
      "execution_count": null,
      "metadata": {
        "colab": {
          "base_uri": "https://localhost:8080/"
        },
        "id": "7oM0zWSgrTWS",
        "outputId": "6884df61-f6b8-4b6c-c559-6278d8171fba"
      },
      "outputs": [],
      "source": [
        "character_list = ['b', 'a', '1', 'c']\n",
        "word_list = ['Lucas', 'Angelica', 'Araceli']\n",
        "\n",
        "print(sorted(character_list))\n",
        "print(sorted(word_list))\n",
        "print(sorted(word_list, reverse=True))\n",
        "word_list.reverse()\n",
        "print(word_list)"
      ]
    },
    {
      "cell_type": "code",
      "execution_count": null,
      "metadata": {
        "colab": {
          "base_uri": "https://localhost:8080/"
        },
        "id": "p1UtOslSsG7E",
        "outputId": "b4704d91-9842-4f90-ed1d-2b308ebe14ad"
      },
      "outputs": [],
      "source": [
        "auxiliary_list = [1, 2, 3, 4, 5, 6, 6, 1, 1, 2]\n",
        "\n",
        "print('Number of numbers 1: ', auxiliary_list.count(1))\n",
        "print('Number of numbers 5: ', auxiliary_list.count(5))"
      ]
    },
    {
      "cell_type": "code",
      "execution_count": null,
      "metadata": {
        "colab": {
          "base_uri": "https://localhost:8080/"
        },
        "id": "HJB7h1vvsetX",
        "outputId": "4951b076-4130-4644-ea35-c5a5102fe352"
      },
      "outputs": [],
      "source": [
        "# Returns the index of the first appearance\n",
        "auxiliary_list = [1, 2, 3, 4, 5, 6, 6, 1, 1, 2]\n",
        "\n",
        "auxiliary_list.index(6) # index(element)\n",
        "# auxiliary_list.index(7) -> error due to not having the element"
      ]
    },
    {
      "cell_type": "code",
      "execution_count": null,
      "metadata": {
        "colab": {
          "base_uri": "https://localhost:8080/"
        },
        "id": "k8q8sWM2s0Cm",
        "outputId": "8d3dc107-4e02-4525-ec3a-82ce18f25bc2"
      },
      "outputs": [],
      "source": [
        "auxiliary_list = [1, 2, 3, 4, 5, 6, 6, 1, 1, 2]\n",
        "\n",
        "print(max(auxiliary_list))\n",
        "print(min(auxiliary_list))\n",
        "print(len(auxiliary_list))\n",
        "print(sum(auxiliary_list))"
      ]
    },
    {
      "cell_type": "code",
      "execution_count": null,
      "metadata": {
        "colab": {
          "base_uri": "https://localhost:8080/"
        },
        "id": "oH1qMMHNtZao",
        "outputId": "1ad790a4-cc1a-4aa1-c38b-4a321df11452"
      },
      "outputs": [],
      "source": [
        "help(max)"
      ]
    },
    {
      "cell_type": "markdown",
      "metadata": {
        "id": "JBflhGevLkLz"
      },
      "source": [
        "### List iterations"
      ]
    },
    {
      "cell_type": "code",
      "execution_count": null,
      "metadata": {
        "colab": {
          "base_uri": "https://localhost:8080/"
        },
        "id": "yWl6ryQMLkLz",
        "outputId": "ffcb3e75-d772-43e1-8469-61dccf8bfb1a"
      },
      "outputs": [],
      "source": [
        "largest_number = sorted(auxiliary_list)[-1]\n",
        "smallest_number = sorted(auxiliary_list)[0]\n",
        "\n",
        "print(largest_number)\n",
        "print(smallest_number)"
      ]
    },
    {
      "cell_type": "code",
      "execution_count": null,
      "metadata": {
        "colab": {
          "base_uri": "https://localhost:8080/"
        },
        "id": "GfQSaNTrtzCR",
        "outputId": "def19050-8631-4edc-90ca-f691d5fba04d"
      },
      "outputs": [],
      "source": [
        "#0, 1, 2, 3, 4\n",
        "numbers = [1, 3, 6, 7, 9]\n",
        "counter = 0\n",
        "\n",
        "# len(numbers) = 5\n",
        "while counter < len(numbers):\n",
        "   print('List: ', numbers[counter])\n",
        "   print('Counter: ', counter)\n",
        "\n",
        "   counter += 2"
      ]
    },
    {
      "cell_type": "code",
      "execution_count": null,
      "metadata": {
        "colab": {
          "base_uri": "https://localhost:8080/"
        },
        "id": "l7EovN-YuoRN",
        "outputId": "590dc8aa-f56a-47aa-9b3f-19e481553dc1"
      },
      "outputs": [],
      "source": [
        "# for loop\n",
        "# for value in list\n",
        "all_numbers = [1, 3, 6, 7, 9]\n",
        "\n",
        "# for the number in all numbers, do\n",
        "for number in all_numbers:\n",
        "   print('Number:', number)\n",
        "\n",
        "print('--' * 10)\n",
        "for number in all_numbers[::2]:\n",
        "   print('Number:', number)"
      ]
    },
    {
      "cell_type": "code",
      "execution_count": null,
      "metadata": {
        "colab": {
          "base_uri": "https://localhost:8080/"
        },
        "id": "U2GnzJi0vQS5",
        "outputId": "f2a93757-bbee-415f-d746-1b89c366d507"
      },
      "outputs": [],
      "source": [
        "# Generator function, goes step by step\n",
        "print(list(range(10)))\n",
        "\n",
        "for number in range(10):\n",
        "   print(number)\n",
        "\n",
        "range(len(auxiliary_list))"
      ]
    },
    {
      "cell_type": "markdown",
      "metadata": {
        "id": "WITb4uGkLkLz"
      },
      "source": [
        "\n",
        "#### List concatenation"
      ]
    },
    {
      "cell_type": "code",
      "execution_count": null,
      "metadata": {
        "ExecuteTime": {
          "end_time": "2023-06-29T23:14:30.070311Z",
          "start_time": "2023-06-29T23:14:30.065314Z"
        },
        "colab": {
          "base_uri": "https://localhost:8080/"
        },
        "id": "_JQ_R02xLkLz",
        "outputId": "ef9390c8-0ff2-4309-b94d-ae0eff7d5257"
      },
      "outputs": [],
      "source": [
        "list_1 = [1, 2, 3, 4, 5]\n",
        "list_2 = [6, 7, 4, 4]\n",
        "\n",
        "list_list = [list_1, list_2]\n",
        "print(list_list)\n",
        "\n",
        "#lista_1.append(lista_2)\n",
        "# print(lista_1)\n",
        "\n",
        "concatenated_list = list_1 + list_2\n",
        "print(list_1)\n",
        "print(list_2)\n",
        "print(concatenated_list)\n",
        "print(type(concatenated_list))"
      ]
    },
    {
      "cell_type": "code",
      "execution_count": null,
      "metadata": {
        "colab": {
          "base_uri": "https://localhost:8080/"
        },
        "id": "xEIyL2HWw7Mm",
        "outputId": "551beef2-44d0-4ebc-d05a-4033a3d033ff"
      },
      "outputs": [],
      "source": [
        "print(list(range(5)))\n",
        "print(list(range(5, 10)))\n",
        "print(list(range(5, 10, 2)))"
      ]
    },
    {
      "cell_type": "code",
      "execution_count": null,
      "metadata": {
        "colab": {
          "base_uri": "https://localhost:8080/",
          "height": 176
        },
        "id": "8-qpa66QwqiN",
        "outputId": "34cd4b02-cce2-489b-9aac-8b16b2cd0c14"
      },
      "outputs": [],
      "source": [
        "# Does not add to the list\n",
        "list_1 + 2"
      ]
    },
    {
      "cell_type": "code",
      "execution_count": null,
      "metadata": {
        "colab": {
          "base_uri": "https://localhost:8080/"
        },
        "id": "ETezXbd8xrM5",
        "outputId": "4f59328a-fe20-4bad-e575-fc07e11e8a9e"
      },
      "outputs": [],
      "source": [
        "# EXTRA EXTRA\n",
        "print(list(enumerate(list_1)))\n",
        "\n",
        "for index, value in enumerate(list_1):\n",
        "   print('Index: ', index)\n",
        "   print('Value:', value)"
      ]
    },
    {
      "cell_type": "code",
      "execution_count": null,
      "metadata": {
        "colab": {
          "base_uri": "https://localhost:8080/"
        },
        "id": "4tkmN0ULyE42",
        "outputId": "e52ea2df-c148-4c5d-f09a-1f9081f9ca5f"
      },
      "outputs": [],
      "source": [
        "list_1 = [1, 2, 3, 4, 5]\n",
        "list_2 = [6, 7, 4, 4]\n",
        "\n",
        "print(list(zip(list_1, list_2)))"
      ]
    },
    {
      "cell_type": "markdown",
      "metadata": {
        "id": "vyc8pcRILkLz"
      },
      "source": [
        "#### Ways to scroll through a list"
      ]
    },
    {
      "cell_type": "markdown",
      "metadata": {
        "id": "HiT5GpAOLkLz"
      },
      "source": [
        "**1. Using while**\n",
        "- **Pros:** I not only know the element but I know the index too\n",
        "- **Con:** I need to control the index\n",
        "\n",
        "```python\n",
        "numbers = [1, 3, 5, 7, 9]\n",
        "counter = 0\n",
        "while (counter < len(numbers)):\n",
        "     print(numbers[counter])\n",
        "     counter = counter + 1 If I forget this line\n",
        "```\n",
        "<br>\n",
        "\n",
        "**two. Intermediate way: for in range**\n",
        "- **Pros:** I know the index, I don't need to control the loop\n",
        "- **Con:** You need to know how to use the range function\n",
        "\n",
        "```python\n",
        "numbers = [1, 3, 5, 7, 9]\n",
        "for index in range(len(numbers)): # range(5) -> [0, 1, 2, 3, 4]\n",
        "     print(numbers[index])\n",
        "```\n",
        "<br>\n",
        "\n",
        "**3. Using only for**\n",
        "- **Pros:** I don't need to worry about the index\n",
        "- **Con:** I don't know the index\n",
        "\n",
        "```python\n",
        "numbers = [1, 3, 5, 7, 9]\n",
        "\n",
        "for number in numbers: number is a kind of temporary variable\n",
        "     print(number)\n",
        "```"
      ]
    },
    {
      "cell_type": "markdown",
      "metadata": {
        "id": "wfupobDpLkLz"
      },
      "source": [
        "### Let's Practice!"
      ]
    },
    {
      "cell_type": "markdown",
      "metadata": {
        "id": "N536xYt6LkLz"
      },
      "source": [
        "1. Create any list and write a program that prints each element in the list using for."
      ]
    },
    {
      "cell_type": "code",
      "execution_count": null,
      "metadata": {
        "id": "Js9iMivKLkLz"
      },
      "outputs": [],
      "source": [
        "fruits = ['apple', 'banana', 'cherry', 'apricot', 'raspberry']\n",
        "\n",
        "for fruit in fruits:\n",
        "     print(fruit)\n"
      ]
    },
    {
      "cell_type": "markdown",
      "metadata": {
        "id": "uQuVgRWCLkLz"
      },
      "source": [
        "2. Write a program that prints all items in a list using while and compare with exercise 1."
      ]
    },
    {
      "cell_type": "code",
      "execution_count": null,
      "metadata": {
        "id": "8wlpX9DaLkL0"
      },
      "outputs": [],
      "source": [
        "fruits = ['apple', 'banana', 'cherry', 'apricot', 'raspberry']\n",
        "\n",
        "i = 0\n",
        "while i < len(fruits):\n",
        "    print(fruits[i])\n",
        "    i += 1\n"
      ]
    },
    {
      "cell_type": "markdown",
      "metadata": {
        "id": "NyLWZf6sLkL0"
      },
      "source": [
        "3. Write a program that asks the user to enter a number n and prints a list of all numbers from 0 to n-1."
      ]
    },
    {
      "cell_type": "code",
      "execution_count": null,
      "metadata": {
        "id": "VoLHKF1CLkL0"
      },
      "outputs": [],
      "source": [
        "n = int(input(\"Number: \"))\n",
        "\n",
        "list = list(range(n))\n",
        "print(list)\n"
      ]
    },
    {
      "cell_type": "markdown",
      "metadata": {
        "id": "tdvBGqyiLkL0"
      },
      "source": [
        "4. Write a program that looks at all the items in a list and tells you how many of them are even."
      ]
    },
    {
      "cell_type": "code",
      "execution_count": null,
      "metadata": {
        "id": "L12YwluLLkL0"
      },
      "outputs": [],
      "source": [
        "numbers = [1, 2, 3, 4, 5, 6, 7, 8, 9, 10]\n",
        "\n",
        "even_qty = 0\n",
        "for number in numbers:\n",
        "     if number % 2 == 0:\n",
        "         even_qty += 1\n",
        "\n",
        "print(\"The list has\", even_qty, \"even numbers.\")"
      ]
    },
    {
      "cell_type": "markdown",
      "metadata": {
        "id": "NO2bIg9BLkL0"
      },
      "source": [
        "5. Write a program that prints the largest number in a list, without using the max() method."
      ]
    },
    {
      "cell_type": "code",
      "execution_count": null,
      "metadata": {
        "id": "W5lvTDG2LkL0"
      },
      "outputs": [],
      "source": [
        "numbers = [1, 2, 3, 4, 5, 6, 7, 8, 9, 10]\n",
        "\n",
        "largest_number = numbers[0]\n",
        "for number in numbers:\n",
        "     if number > largest_number:\n",
        "         largest_number = number\n",
        "\n",
        "print(\"The largest number in the list is\", largest_number)\n"
      ]
    },
    {
      "cell_type": "markdown",
      "metadata": {
        "id": "Ya55gSQZLkL0"
      },
      "source": [
        "6. Now using the max() method, write a program that prints the three largest numbers in a list."
      ]
    },
    {
      "cell_type": "code",
      "execution_count": null,
      "metadata": {
        "id": "EuQLBqXpLkL1"
      },
      "outputs": [],
      "source": [
        "numbers = [1, 3, 5, 7, 9, 2, 4, 6, 8, 10] # Your list of numbers\n",
        "\n",
        "biggest1 = biggest2 = biggest3 = float('-inf')\n",
        "\n",
        "for num in numbers:\n",
        "    if num > biggest1:\n",
        "        biggest3 = biggest2\n",
        "        biggest2 = biggest1\n",
        "        biggest1 = number\n",
        "    elif num > biggest2:\n",
        "        biggest3 = biggest2\n",
        "        biggest2 = number\n",
        "    elif num > biggest3:\n",
        "        biggest3 = number\n",
        "\n",
        "print(\"The three largest numbers are:\", biggest1, biggest2, biggest3)"
      ]
    },
    {
      "cell_type": "markdown",
      "metadata": {
        "id": "wdsTBp2JLkL1"
      },
      "source": [
        "7. Write a program that, given two lists of the same size, creates a new list with each element equal to the sum of the elements in list 1 and those in list 2, in the same position."
      ]
    },
    {
      "cell_type": "code",
      "execution_count": null,
      "metadata": {
        "id": "skbLvfGNLkL2"
      },
      "outputs": [],
      "source": [
        "evens = [2, 4, 6, 8, 10]\n",
        "odds = [1, 3, 5, 7, 9]\n",
        "\n",
        "if len(evens) != len(odds):\n",
        "     print(\"The lists must be the same size.\")\n",
        "else:\n",
        "     sum_list = []\n",
        "     for i in range(len(evens)):\n",
        "         sum_list.append(evens[i] + odds[i])\n",
        "\n",
        "     print(\"The new list is:\", sum_list)\n"
      ]
    },
    {
      "cell_type": "markdown",
      "metadata": {
        "id": "5BHe42O0LkL2"
      },
      "source": [
        "8. Write a program that, given two lists of the same size, prints the dot product between them."
      ]
    },
    {
      "cell_type": "code",
      "execution_count": null,
      "metadata": {
        "id": "aMT4-xvrLkL2"
      },
      "outputs": [],
      "source": [
        "evens = [2, 4, 6, 8, 10]\n",
        "odds = [1, 3, 5, 7, 9]\n",
        "\n",
        "if len(evens) != len(odds):\n",
        "     print(\"The lists must be the same size.\")\n",
        "else:\n",
        "     scalar_product = 0\n",
        "     for i in range(len(evens)):\n",
        "         scalar_product += evens[i] * odds[i]\n",
        "\n",
        "     print(\"The scalar product is:\", scalar_product)\n"
      ]
    },
    {
      "cell_type": "markdown",
      "metadata": {
        "id": "qrpYArvzLkL2"
      },
      "source": [
        "9. Write a program that asks the user to enter 5 numbers and, at the end, prints a list with the 5 numbers entered by the user (without converting the numbers to int or float)."
      ]
    },
    {
      "cell_type": "code",
      "execution_count": null,
      "metadata": {
        "id": "sGIDElKxLkL2"
      },
      "outputs": [],
      "source": [
        "numbers = []\n",
        "\n",
        "for i in range(5):\n",
        "     number = input(\"Enter the number \" + str(i + 1) + \": \")\n",
        "     numbers.append(number)\n",
        "\n",
        "print(\"The numbers you entered are:\", numbers)\n"
      ]
    },
    {
      "cell_type": "markdown",
      "metadata": {
        "id": "9bty44MILkL2"
      },
      "source": [
        "10. Take the list generated in the previous exercise and transform each of the items in that list into a float."
      ]
    },
    {
      "cell_type": "code",
      "execution_count": null,
      "metadata": {
        "id": "FC4D98sYLkL5"
      },
      "outputs": [],
      "source": [
        "numbers = ['1', '2', '3', '4', '5']\n",
        "\n",
        "float_numbers = []\n",
        "\n",
        "for number in numbers:\n",
        "     float_numbers.append(float(number))\n",
        "\n",
        "print(\"The numbers as floats are:\", float_numbers)\n"
      ]
    },
    {
      "cell_type": "markdown",
      "metadata": {
        "id": "tmopLuabLkL5"
      },
      "source": [
        "11. Make a Program that asks for the 4 bimonthly grades and shows the average, using lists."
      ]
    },
    {
      "cell_type": "code",
      "execution_count": null,
      "metadata": {},
      "outputs": [],
      "source": [
        "grades = []\n",
        "\n",
        "for i in range(1, 5):\n",
        "    grade = float(input(f\"Enter the {i}th bimonthly grade: \"))\n",
        "    grades.append(grade)\n",
        "\n",
        "avg = sum(grades) / len(grades)\n",
        "print(f\"The average of the grades is: {avg}\")"
      ]
    }
  ],
  "metadata": {
    "colab": {
      "provenance": []
    },
    "kernelspec": {
      "display_name": "Python 3 (ipykernel)",
      "language": "python",
      "name": "python3"
    },
    "language_info": {
      "codemirror_mode": {
        "name": "ipython",
        "version": 3
      },
      "file_extension": ".py",
      "mimetype": "text/x-python",
      "name": "python",
      "nbconvert_exporter": "python",
      "pygments_lexer": "ipython3",
      "version": "3.10.12"
    },
    "latex_envs": {
      "LaTeX_envs_menu_present": true,
      "autoclose": false,
      "autocomplete": true,
      "bibliofile": "biblio.bib",
      "cite_by": "apalike",
      "current_citInitial": 1,
      "eqLabelWithNumbers": true,
      "eqNumInitial": 1,
      "hotkeys": {
        "equation": "Ctrl-E",
        "itemize": "Ctrl-I"
      },
      "labels_anchors": false,
      "latex_user_defs": false,
      "report_style_numbering": false,
      "user_envs_cfg": false
    },
    "toc": {
      "base_numbering": 1,
      "nav_menu": {},
      "number_sections": true,
      "sideBar": true,
      "skip_h1_title": false,
      "title_cell": "Table of Contents",
      "title_sidebar": "Contents",
      "toc_cell": false,
      "toc_position": {},
      "toc_section_display": true,
      "toc_window_display": false
    },
    "varInspector": {
      "cols": {
        "lenName": 16,
        "lenType": 16,
        "lenVar": 40
      },
      "kernels_config": {
        "python": {
          "delete_cmd_postfix": "",
          "delete_cmd_prefix": "del ",
          "library": "var_list.py",
          "varRefreshCmd": "print(var_dic_list())"
        },
        "r": {
          "delete_cmd_postfix": ") ",
          "delete_cmd_prefix": "rm(",
          "library": "var_list.r",
          "varRefreshCmd": "cat(var_dic_list()) "
        }
      },
      "types_to_exclude": [
        "module",
        "function",
        "builtin_function_or_method",
        "instance",
        "_Feature"
      ],
      "window_display": false
    },
    "vscode": {
      "interpreter": {
        "hash": "5c66de18c091297d67c9a295278ca9503b5163a383fa85591c3cdb6daec33020"
      }
    }
  },
  "nbformat": 4,
  "nbformat_minor": 0
}
