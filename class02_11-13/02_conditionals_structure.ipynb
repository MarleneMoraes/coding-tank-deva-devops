{
  "cells": [
    {
      "cell_type": "markdown",
      "id": "d021f3ab",
      "metadata": {
        "id": "d021f3ab"
      },
      "source": [
        "# Class topics\n",
        "\n",
        "- Conditional structure and flow control\n",
        "- If command\n",
        "- Else command\n",
        "- Elif command"
      ]
    },
    {
      "cell_type": "markdown",
      "id": "cd0d2122",
      "metadata": {
        "id": "cd0d2122"
      },
      "source": [
        "Imagine that the criteria for passing a school are an average above 7.0 and attendance above 75%. In this case, the student must meet both criteria to be approved. If he got a great grade but missed too much, he will fail. If he attended all his classes but had poor grades, ditto."
      ]
    },
    {
      "cell_type": "code",
      "execution_count": null,
      "id": "457e4bb6",
      "metadata": {
        "ExecuteTime": {
          "end_time": "2023-06-27T22:19:46.818981Z",
          "start_time": "2023-06-27T22:19:42.499776Z"
        },
        "colab": {
          "base_uri": "https://localhost:8080/"
        },
        "id": "457e4bb6",
        "outputId": "488f8685-e7ed-4cbe-a74a-e2795245a513"
      },
      "outputs": [],
      "source": [
        "avg = float(input('Student s average: '))\n",
        "presence = float(input('Students presence (0 - 1): '))\n",
        "\n",
        "result = avg >= 7.0 and presence >= 0.75\n",
        "print('Result: ', result)"
      ]
    },
    {
      "cell_type": "markdown",
      "id": "570c2421",
      "metadata": {
        "id": "570c2421"
      },
      "source": [
        "| Operator | Definition | Operation |\n",
        "|:--------:|:----------:|:---------:|\n",
        "| and | Returns True if both statements are true | and |\n",
        "| or | Returns True if one of the statements is true | or |\n",
        "| not | returns False if the result is true | no |\n",
        "\n",
        "\n",
        "**AND** is a logical conjunction and **OR** is a logical disjunction. **not** is logical negation.\n",
        "\n",
        "| *A* | *B* | *A and B* | *A or B* | *not A* |\n",
        "|-------|-----------|-----------|----------|---------|\n",
        "| False | False | False | False | True |\n",
        "| False | True | False | True | True |\n",
        "| True | False | False | True | False |\n",
        "| True | True | True | True | False |\n",
        "\n"
      ]
    },
    {
      "cell_type": "code",
      "execution_count": null,
      "id": "42ed97ac",
      "metadata": {
        "ExecuteTime": {
          "end_time": "2023-06-27T22:38:57.598692Z",
          "start_time": "2023-06-27T22:38:57.590160Z"
        },
        "colab": {
          "base_uri": "https://localhost:8080/"
        },
        "id": "42ed97ac",
        "outputId": "0c6664d2-5b1b-4c11-ff9c-e4f97a1fb097"
      },
      "outputs": [],
      "source": [
        "avg = float(input('Student s average: '))\n",
        "presence = float(input('Student s presence (0 - 1): '))\n",
        "lowest_grade = float(input('Student s lowest grade: '))\n",
        "\n",
        "\n",
        "result = avg >= 7.0 and presence >= 0.75 and lowest_grade > 0\n",
        "print('Result: ', result)"
      ]
    },
    {
      "cell_type": "code",
      "execution_count": null,
      "id": "5dcwYyuq1VK2",
      "metadata": {
        "colab": {
          "base_uri": "https://localhost:8080/"
        },
        "id": "5dcwYyuq1VK2",
        "outputId": "45f6e765-c833-48ef-bf6e-bb1704d398b0"
      },
      "outputs": [],
      "source": [
        "print('True or False = ', True or False)\n",
        "print('True or True = ', True or True)\n",
        "print('False or False = ', False or False)"
      ]
    },
    {
      "cell_type": "markdown",
      "id": "5e5c4511",
      "metadata": {
        "id": "5e5c4511"
      },
      "source": [
        "Can we write the problem above in an easier way?"
      ]
    },
    {
      "cell_type": "markdown",
      "id": "0271e87f",
      "metadata": {
        "id": "0271e87f"
      },
      "source": [
        "## Conditional structure"
      ]
    },
    {
      "cell_type": "markdown",
      "id": "2eef494d",
      "metadata": {
        "id": "2eef494d"
      },
      "source": [
        "- if"
      ]
    },
    {
      "cell_type": "markdown",
      "id": "e50abf84",
      "metadata": {
        "id": "e50abf84"
      },
      "source": [
        "Tips: Python is an indented language"
      ]
    },
    {
      "cell_type": "code",
      "execution_count": null,
      "id": "FOas6EKt19ER",
      "metadata": {
        "id": "FOas6EKt19ER"
      },
      "outputs": [],
      "source": [
        "# if condition: -> If True, do something\n",
        "# do something"
      ]
    },
    {
      "cell_type": "code",
      "execution_count": null,
      "id": "999d0832",
      "metadata": {
        "ExecuteTime": {
          "end_time": "2023-06-27T22:47:57.433503Z",
          "start_time": "2023-06-27T22:47:53.608113Z"
        },
        "colab": {
          "base_uri": "https://localhost:8080/"
        },
        "id": "999d0832",
        "outputId": "08e9925a-f8e7-4755-da88-ebf608712494"
      },
      "outputs": [],
      "source": [
        "avg = float(input('Student s average: '))\n",
        "presence = float(input('Student s presence (0 - 1): '))\n",
        "\n",
        "result = avg >= 7.0 and presence >= 0.75\n",
        "if result:\n",
        "   print('Approved')"
      ]
    },
    {
      "cell_type": "code",
      "execution_count": null,
      "id": "0QryYWKl2D3N",
      "metadata": {
        "colab": {
          "base_uri": "https://localhost:8080/"
        },
        "id": "0QryYWKl2D3N",
        "outputId": "df779bbd-de68-4570-a9c9-c2026b187c56"
      },
      "outputs": [],
      "source": [
        "average = float(input('Student s average: '))\n",
        "presence = float(input('Student s presence (0 - 1): '))\n",
        "\n",
        "# Other programming languages use: && (and), || (or)\n",
        "result = average >= 7.0 and presence >= 0.75\n",
        "if result:\n",
        "   print('Approved')\n",
        "\n",
        "# Other programming languages use: !\n",
        "if not result:\n",
        "   print('Disapproved')"
      ]
    },
    {
      "cell_type": "code",
      "execution_count": null,
      "id": "QHgsW7693kUC",
      "metadata": {
        "id": "QHgsW7693kUC"
      },
      "outputs": [],
      "source": [
        "# if condition true: if true\n",
        "#   do something\n",
        "# else: otherwise\n",
        "#   do something else"
      ]
    },
    {
      "cell_type": "code",
      "execution_count": null,
      "id": "yI5IcxOn2vkg",
      "metadata": {
        "id": "yI5IcxOn2vkg"
      },
      "outputs": [],
      "source": [
        "avg = float(input('Student s average: '))\n",
        "presence = float(input('Student s presence (0 - 1): '))\n",
        "\n",
        "result = avg >= 7.0 and presence >= 0.75\n",
        "if result:\n",
        "   print('Approved')\n",
        "else:\n",
        "   print('Disapproved')"
      ]
    },
    {
      "cell_type": "code",
      "execution_count": null,
      "id": "r_cM_gke4ZVn",
      "metadata": {
        "colab": {
          "base_uri": "https://localhost:8080/"
        },
        "id": "r_cM_gke4ZVn",
        "outputId": "071b1065-fd57-44ac-b29f-54100c728059"
      },
      "outputs": [],
      "source": [
        "exam_grade_1 = float(input('Test 1 grade: '))\n",
        "exam_grade_2 = float(input('Test 2 grade: '))\n",
        "presence = float(input('Enter the student s presence (0 -1): '))\n",
        "\n",
        "avg = (exam_grade_1 + exam_grade_2) / 2\n",
        "\n",
        "result = avg >= 7.0 and presence >= 0.75\n",
        "if result:\n",
        "   print('Approved')\n",
        "else:\n",
        "   if avg >= 0.5 and presence >= 0.75:\n",
        "     print('Recuperation')\n",
        "   else:\n",
        "     print('Disapproved')"
      ]
    },
    {
      "cell_type": "markdown",
      "id": "-Af-f3We5fsu",
      "metadata": {
        "id": "-Af-f3We5fsu"
      },
      "source": [
        "**elif** - else and case true condition"
      ]
    },
    {
      "cell_type": "code",
      "execution_count": null,
      "id": "CsM5tlmk5b5n",
      "metadata": {
        "colab": {
          "base_uri": "https://localhost:8080/"
        },
        "id": "CsM5tlmk5b5n",
        "outputId": "8f60b991-acea-434b-a9fe-51b42ab2ae6f"
      },
      "outputs": [],
      "source": [
        "exam_grade_1 = float(input('Test 1 grade: '))\n",
        "exam_grade_2 = float(input('Test 2 grade: '))\n",
        "presence = float(input('Enter the student s presence (0 -1): '))\n",
        "\n",
        "avg = (exam_grade_1 + exam_grade_2) / 2\n",
        "\n",
        "result = avg >= 7.0 and presence >= 0.75\n",
        "if result:\n",
        "   print('Approved')\n",
        "elif avg >= 5.0 and presence >= 0.75:\n",
        "  print('Recuperation')\n",
        "else:\n",
        "  print('Disapproved')"
      ]
    },
    {
      "cell_type": "code",
      "execution_count": null,
      "id": "QR0YMaV25ugI",
      "metadata": {
        "colab": {
          "base_uri": "https://localhost:8080/"
        },
        "id": "QR0YMaV25ugI",
        "outputId": "fad93ad2-d7cc-4333-af44-371b016981ee"
      },
      "outputs": [],
      "source": [
        "exam_grade_1 = float(input('Test 1 grade: '))\n",
        "exam_grade_2 = float(input('Test 2 grade: '))\n",
        "presence = float(input('Enter the student s presence (0 -1): '))\n",
        "\n",
        "avg = (exam_grade_1 + exam_grade_2) / 2\n",
        "\n",
        "result = avg >= 7.0 and presence >= 0.75\n",
        "if result:\n",
        "   print('Approved')\n",
        "elif avg >= 5.0 and presence >= 0.75:\n",
        "  print('Recuperation')\n",
        "elif avg >= 4.5 and presence >= 0.75:\n",
        "  print('Almost')\n",
        "else:\n",
        "  print('Disapproved')"
      ]
    },
    {
      "cell_type": "code",
      "execution_count": null,
      "id": "Zd4n_nA8-ywt",
      "metadata": {
        "colab": {
          "base_uri": "https://localhost:8080/"
        },
        "id": "Zd4n_nA8-ywt",
        "outputId": "ce2c1d93-8575-4279-e360-a14aaf6244cf"
      },
      "outputs": [],
      "source": [
        "if (exam_grade_1 > 0 and presence > 0.75) and (exam_grade_2 >0 and presence > 0.75):\n",
        "   print('True')"
      ]
    },
    {
      "cell_type": "code",
      "execution_count": null,
      "id": "pandxeYR_ERK",
      "metadata": {
        "colab": {
          "base_uri": "https://localhost:8080/"
        },
        "id": "pandxeYR_ERK",
        "outputId": "1e145ae9-9492-4603-999a-7509d6c5ee0e"
      },
      "outputs": [],
      "source": [
        "exam_grade_1 = False\n",
        "exam_grade_2 = True\n",
        "\n",
        "if (exam_grade_1 > 0 and presence > 0.75) or (exam_grade_2 > 0 and presence > 0.75):\n",
        "  print('True')"
      ]
    },
    {
      "cell_type": "code",
      "execution_count": null,
      "id": "ufwsSNbNJ5ft",
      "metadata": {
        "colab": {
          "base_uri": "https://localhost:8080/"
        },
        "id": "ufwsSNbNJ5ft",
        "outputId": "300c8e8a-56db-475a-966c-75cfca120371"
      },
      "outputs": [],
      "source": [
        "# Integer values != 0 -> True\n",
        "if 12:\n",
        "   print('1 - What happens?')\n",
        "\n",
        "# Value 0 -> False\n",
        "if 0:\n",
        "   print('0 - What happens?')\n",
        "else:\n",
        "   print('0 - False')"
      ]
    },
    {
      "cell_type": "code",
      "execution_count": null,
      "id": "Q3DiZgaB7lYZ",
      "metadata": {
        "id": "Q3DiZgaB7lYZ"
      },
      "outputs": [],
      "source": [
        "#try:\n",
        "#   execute entire block\n",
        "# except something error:\n",
        "#   executed when an error occurs in the block"
      ]
    },
    {
      "cell_type": "code",
      "execution_count": null,
      "id": "KukDObvD7AHL",
      "metadata": {
        "id": "KukDObvD7AHL"
      },
      "outputs": [],
      "source": [
        "# switch media\n",
        "# case 7 -> do something\n",
        "# case 8 -> do something else\n",
        "#default\n",
        "\n",
        "# SQL -> CASE WHEN (CONDITION) THEN DO SOMETHING\n",
        "    # WHEN (CONDITION2)"
      ]
    },
    {
      "cell_type": "code",
      "execution_count": null,
      "id": "ezQ3Pv-j6xXH",
      "metadata": {
        "id": "ezQ3Pv-j6xXH"
      },
      "outputs": [],
      "source": [
        "# while condition:\n",
        "#   do this until the condition is false"
      ]
    },
    {
      "cell_type": "markdown",
      "id": "7c713fe7",
      "metadata": {
        "id": "7c713fe7"
      },
      "source": [
        "## Let's Pratice!"
      ]
    },
    {
      "cell_type": "markdown",
      "id": "221bc557",
      "metadata": {
        "id": "221bc557"
      },
      "source": [
        "1) Write a program that asks for the user's age and prints whether they are over or under 18 years old."
      ]
    },
    {
      "cell_type": "code",
      "execution_count": null,
      "id": "QIfe-4PF-Wp2",
      "metadata": {
        "id": "QIfe-4PF-Wp2"
      },
      "outputs": [],
      "source": [
        "age = int(input('How old are you?'))\n",
        "\n",
        "if (age >= 18):\n",
        "   print('of legal age')\n",
        "else:\n",
        "   print('underage')"
      ]
    },
    {
      "cell_type": "markdown",
      "id": "20204a13",
      "metadata": {
        "id": "20204a13"
      },
      "source": [
        "2) Write a program that asks for a number and shows whether it is positive or negative. Alternative: add null"
      ]
    },
    {
      "cell_type": "code",
      "execution_count": null,
      "id": "xdTSBR4LAnQA",
      "metadata": {
        "colab": {
          "base_uri": "https://localhost:8080/"
        },
        "id": "xdTSBR4LAnQA",
        "outputId": "71c936ce-1429-4ae1-e054-3ace3eed569d"
      },
      "outputs": [],
      "source": [
        "number = int(input('Enter a number: '))\n",
        "if number > 0:\n",
        "   print('Positive number')\n",
        "elif number < 0:\n",
        "   print('Negative number')\n",
        "elif number == 0:\n",
        "   print('Null number')"
      ]
    },
    {
      "cell_type": "code",
      "execution_count": 34,
      "id": "GxHgAUHGBf37",
      "metadata": {
        "id": "GxHgAUHGBf37"
      },
      "outputs": [],
      "source": [
        "None"
      ]
    },
    {
      "cell_type": "code",
      "execution_count": null,
      "id": "bE8rnjpIBhi_",
      "metadata": {
        "colab": {
          "base_uri": "https://localhost:8080/"
        },
        "id": "bE8rnjpIBhi_",
        "outputId": "33706310-961d-45f4-ddc9-262e45c16a0d"
      },
      "outputs": [],
      "source": [
        "type(None)"
      ]
    },
    {
      "cell_type": "markdown",
      "id": "83f073e8",
      "metadata": {
        "id": "83f073e8"
      },
      "source": [
        "3) Make a program that asks for two numbers and displays the largest of them.\n",
        "\n",
        "\n",
        "   3.1. Write a program that asks for three numbers and displays the largest one."
      ]
    },
    {
      "cell_type": "code",
      "execution_count": null,
      "id": "CJ81btH7HoNX",
      "metadata": {
        "colab": {
          "base_uri": "https://localhost:8080/"
        },
        "id": "CJ81btH7HoNX",
        "outputId": "d5b179c3-1d12-4037-b2a7-604fe05ff058"
      },
      "outputs": [],
      "source": [
        "num1 = int(input('Number 1: '))\n",
        "num2 = int(input('Number 2: '))\n",
        "num3 = int(input('Number 3: '))\n",
        "\n",
        "if num1>num2 and num1>num3:\n",
        "  print(\"The number 1 is the biggest!\")\n",
        "elif num2>num1 and num2>num3:\n",
        "  print(\"The number 2 is the biggest!\")\n",
        "elif num3>num1 and num3>num2:\n",
        "  print(\"The number 3 is the biggest!\")"
      ]
    },
    {
      "cell_type": "markdown",
      "id": "bfdf137f",
      "metadata": {
        "ExecuteTime": {
          "end_time": "2022-10-13T02:14:01.965819Z",
          "start_time": "2022-10-13T02:14:01.958839Z"
        },
        "id": "bfdf137f"
      },
      "source": [
        "4) Make a program that reads the validity of the information:\n",
        "\n",
        "The. Age: between 0 and 150;\n",
        "\n",
        "B. Salary: greater than 0;\n",
        "\n",
        "w. Sex: M, F or Other;\n",
        "\n",
        "The program must print an error message for each invalid information."
      ]
    },
    {
      "cell_type": "code",
      "execution_count": null,
      "id": "68c84702",
      "metadata": {},
      "outputs": [],
      "source": [
        "age = int(input('Age: '))\n",
        "if not (0 <= age <= 150):\n",
        "    print('Error: Age must be between 0 and 150.')\n",
        "\n",
        "# Input salary\n",
        "salary = float(input('Salary: '))\n",
        "if salary <= 0:\n",
        "    print('Error: Salary must be greater than 0.')\n",
        "\n",
        "\n",
        "sex = input('Sex (M, F, or Other): ')\n",
        "if sex not in ['M', 'F', 'Other']:\n",
        "    print('Error: Sex must be M, F, or Other.')"
      ]
    },
    {
      "cell_type": "markdown",
      "id": "4171857e",
      "metadata": {
        "id": "4171857e"
      },
      "source": [
        "5) Write a program that asks for a student's grade on 3 exams and checks whether or not they passed the year.\n",
        "Note: The student will pass the year if his average is greater than 6."
      ]
    },
    {
      "cell_type": "code",
      "execution_count": null,
      "id": "9b5d7591",
      "metadata": {},
      "outputs": [],
      "source": [
        "grade1 = float(input('First grade: '))\n",
        "grade2 = float(input('Second grade: '))\n",
        "grade3 = float(input('Third grade: '))\n",
        "\n",
        "average = (grade1 + grade2 + grade3) / 3\n",
        "\n",
        "if average > 6:\n",
        "    print('Situation: Approved')\n",
        "else:\n",
        "    print('Situation: Disapproved')\n"
      ]
    },
    {
      "cell_type": "markdown",
      "id": "f23c8b47",
      "metadata": {
        "id": "f23c8b47"
      },
      "source": [
        "6) Make a program that displays a multiple choice question with 5 options (letters a, b, c, d, e).\n",
        "Knowing the right answer, the program must receive the user's option and inform the letter that the user marked and whether the answer is right or wrong."
      ]
    },
    {
      "cell_type": "code",
      "execution_count": null,
      "id": "oM6YYEccQvBN",
      "metadata": {
        "colab": {
          "base_uri": "https://localhost:8080/"
        },
        "id": "oM6YYEccQvBN",
        "outputId": "e3612a7a-9a53-467b-f622-33bfb2ec03ea"
      },
      "outputs": [],
      "source": [
        "print('Line break')\n",
        "printf('Tabulation\\t hello')\n",
        "print('Name 1\\t| Name2\\t')\n",
        "print('Value1\\t| Value2\\t')"
      ]
    },
    {
      "cell_type": "code",
      "execution_count": null,
      "id": "T_YdytsaQlXl",
      "metadata": {
        "colab": {
          "base_uri": "https://localhost:8080/"
        },
        "id": "T_YdytsaQlXl",
        "outputId": "49024e25-33d2-40bb-a7a2-37b09bb3c485"
      },
      "outputs": [],
      "source": [
        "answer = input('Choose the correct option:\\n a)2 + 2 = 4\\n b)3 > 5\\n c)1 < 0\\n d)1 - 1 = 2\\n e)1 + 1 > 4: ')"
      ]
    },
    {
      "cell_type": "code",
      "execution_count": null,
      "id": "QOdLAIOGRK-5",
      "metadata": {
        "colab": {
          "base_uri": "https://localhost:8080/",
          "height": 53
        },
        "id": "QOdLAIOGRK-5",
        "outputId": "3a725d8b-45fd-4ebc-9433-f63f5773199f"
      },
      "outputs": [],
      "source": [
        "# str(input('Qual é a alternativa correta?(A/B/C/D)')).strip().upper() # input retorna uma string\n",
        "# Strip ignora os espaços\n",
        "input('Qual é a alternativa correta?(A/B/C/D)').strip().upper()"
      ]
    },
    {
      "cell_type": "code",
      "execution_count": null,
      "id": "8PJKLfzGRigT",
      "metadata": {
        "colab": {
          "base_uri": "https://localhost:8080/"
        },
        "id": "8PJKLfzGRigT",
        "outputId": "f7be28eb-8835-4e2c-f470-f05eef988661"
      },
      "outputs": [],
      "source": [
        "print('|', '   23 a 23  '.strip(), '|', sep='')\n",
        "print('|', '   23 a 23  '.lstrip(), '|', sep='')\n",
        "print('|', '   23 a 23  '.rstrip(), '|', sep='')"
      ]
    },
    {
      "cell_type": "code",
      "execution_count": null,
      "id": "755c8b37",
      "metadata": {
        "ExecuteTime": {
          "end_time": "2023-06-28T01:23:06.527251Z",
          "start_time": "2023-06-28T01:23:05.413019Z"
        },
        "colab": {
          "base_uri": "https://localhost:8080/",
          "height": 390
        },
        "id": "755c8b37",
        "outputId": "b5f3da03-c533-43fa-ed42-8f08ff03f8d9"
      },
      "outputs": [],
      "source": [
        "print('What is the capital of Brazil?\\na) Buenos Aires\\nb) Santiago\\nc) Brasilia\\nd) Rio de Janeiro\\nLima')\n",
        "\n",
        "correct_answer = 'c'\n",
        "\n",
        "user_answer = input('Answer: ')\n",
        "\n",
        "if user_answer == correct_answer:\n",
        "    print('CORRECT!')\n",
        "else:\n",
        "    print('Try again.')\n"
      ]
    },
    {
      "cell_type": "markdown",
      "id": "00edeaec",
      "metadata": {
        "id": "00edeaec"
      },
      "source": [
        "7)\n",
        "Let's make a program to check who is the killer of a crime. To discover the killer,\n",
        "the police make a short questionnaire with 5 questions\n",
        "where the answer can only be yes or no:\n",
        "\n",
        "a. Do you live near the victim?\n",
        "\n",
        "b. Have you worked with the victim?\n",
        "\n",
        "c. Did you call the victim?\n",
        "\n",
        "d. Were you at the scene of the crime?\n",
        "\n",
        "e. Should it go to the victim?\n",
        "\n",
        "Each yes answer gives the suspect one point. The police consider suspects with 5 points to be murderers, with 4 to 3 points\n",
        "They are accomplices and 2 points are just suspects, requiring further investigations. Values equal to or below 1 are released.'''"
      ]
    },
    {
      "cell_type": "code",
      "execution_count": null,
      "id": "fa67925d",
      "metadata": {
        "ExecuteTime": {
          "end_time": "2023-06-28T01:29:32.268938Z",
          "start_time": "2023-06-28T01:29:26.252661Z"
        },
        "id": "fa67925d"
      },
      "outputs": [],
      "source": [
        "print('Answer yes or no: ')\n",
        "score = 0\n",
        "\n",
        "answer_a = input('Do you live near the victim?')\n",
        "\n",
        "if answer_a.lower() == 'yes':\n",
        "    score += 1\n",
        "\n",
        "answer_b = input('Have you worked with the victim?')\n",
        "\n",
        "if answer_b.lower() == 'yes':\n",
        "    score += 1\n",
        "\n",
        "answer_c = input('Did you call the victim?')\n",
        "\n",
        "if answer_c.lower() == 'yes':\n",
        "    score += 1\n",
        "\n",
        "answer_d = input('Were you at the scene of the crime?')\n",
        "\n",
        "if answer_d.lower() == 'yes':\n",
        "    score += 1\n",
        "\n",
        "answer_e = input('Should it go to the victim?')\n",
        "\n",
        "if answer_e.lower == 'yes':\n",
        "    score += 1\n",
        "\n",
        "\n",
        "if score == 5:\n",
        "    print('The suspect is the murderer.')\n",
        "elif score >= 3 and score <= 4:\n",
        "    print('The suspect is an accomplice.')\n",
        "elif score == 2:\n",
        "    print('The suspect is just a suspect, requiring further investigations.')\n",
        "else:\n",
        "    print('The suspect is released.')"
      ]
    },
    {
      "cell_type": "markdown",
      "id": "d68cb36b",
      "metadata": {
        "ExecuteTime": {
          "end_time": "2022-10-13T02:15:54.837527Z",
          "start_time": "2022-10-13T02:15:54.826530Z"
        },
        "id": "d68cb36b"
      },
      "source": [
        "8) A product will increase according to Table 1 below. Write a program that asks the user to enter the value of the product according to\n",
        "with the old price and write one of the messages in Table 2, according to the adjusted price:\n",
        "\n",
        "Table 1\n",
        "\n",
        "| Old Price | % increase |\n",
        "|-----------|------------|\n",
        "| Up to 50 reais | 5% |\n",
        "| Between 50 and 100 reais | 10% |\n",
        "| From 100 to 150 reais | 13% |\n",
        "| Over 150 reais | 15% |\n",
        "\n",
        "Table 2\n",
        "\n",
        "| New Price | Message |\n",
        "|-----------|---------|\n",
        "| Up to 80 reais | Cheap |\n",
        "| Between 80 and 115 reais | Reasonable |\n",
        "| Between 115 and 150 reais | Normal |\n",
        "| Between 150 and 170 reais | Dear |\n",
        "| Above 170 reais | Very Expensive |"
      ]
    },
    {
      "cell_type": "code",
      "execution_count": null,
      "id": "48199196",
      "metadata": {},
      "outputs": [],
      "source": [
        "old_price = float(input('Please enter the old price of the product: '))\n",
        "\n",
        "if old_price <= 50:\n",
        "    new_price = old_price * 1.05\n",
        "elif old_price <= 100:\n",
        "    new_price = old_price * 1.10\n",
        "elif old_price <= 150:\n",
        "    new_price = old_price * 1.13\n",
        "else:\n",
        "    new_price = old_price * 1.15\n",
        "\n",
        "# Print a message based on the new price\n",
        "if new_price <= 80:\n",
        "    print('Cheap')\n",
        "elif new_price <= 115:\n",
        "    print('Reasonable')\n",
        "elif new_price <= 150:\n",
        "    print('Normal')\n",
        "elif new_price <= 170:\n",
        "    print('Dear')\n",
        "else:\n",
        "    print('Very Expensive')\n"
      ]
    },
    {
      "cell_type": "markdown",
      "id": "e1ceb826",
      "metadata": {
        "id": "e1ceb826"
      },
      "source": [
        "9. Challenge 1 - Make a program that reads 3 numbers and reports the largest number."
      ]
    },
    {
      "cell_type": "code",
      "execution_count": null,
      "id": "62f6041c",
      "metadata": {
        "ExecuteTime": {
          "end_time": "2023-06-28T01:05:50.121938Z",
          "start_time": "2023-06-28T01:05:48.033080Z"
        },
        "id": "62f6041c"
      },
      "outputs": [],
      "source": [
        "num1 = float(input('First number: '))\n",
        "num2 = float(input('Second number: '))\n",
        "num3 = float(input('Third number: '))\n",
        "\n",
        "if num1 >= num2 and num1 >= num3:\n",
        "    print(f'The largest number is: {num1}')\n",
        "elif num2 >= num1 and num2 >= num3:\n",
        "    print(f'The largest number is: {num2}')\n",
        "else:\n",
        "    print(f'The largest number is: {num3}')\n"
      ]
    },
    {
      "cell_type": "markdown",
      "id": "c372e30c",
      "metadata": {
        "id": "c372e30c"
      },
      "source": [
        "10. Make a Program that asks which shift you study. Ask to enter M-Morning or V-Evening or N-Night. Print the message \"Good Morning!\", \"Good Afternoon!\" or good night!\" or \"Invalid Value!\", as applicable."
      ]
    },
    {
      "cell_type": "code",
      "execution_count": null,
      "id": "c69f9538",
      "metadata": {
        "id": "c69f9538"
      },
      "outputs": [],
      "source": [
        "shift = input('Please enter your shift (M - Morning, V - Evening, N - Night): ')\n",
        "\n",
        "if shift == 'M':\n",
        "    print(\"Good Morning!\")\n",
        "elif shift == 'V':\n",
        "    print(\"Good Afternoon!\")\n",
        "elif shift == 'N':\n",
        "    print(\"Good Night!\")\n",
        "else:\n",
        "    print(\"Invalid Value!\")\n"
      ]
    },
    {
      "cell_type": "markdown",
      "id": "abe7ef83",
      "metadata": {
        "id": "abe7ef83"
      },
      "source": [
        "11. Create a program that receives a number and prints \"fizz\" if the number is a multiple of 3, \"buzz\" if it is a multiple of 5 and \"fizzbuzz\" if it is a multiple of 3 and 5"
      ]
    },
    {
      "cell_type": "code",
      "execution_count": null,
      "id": "b41be0e1",
      "metadata": {
        "id": "b41be0e1"
      },
      "outputs": [],
      "source": [
        "num = int(input('Please enter a number: '))\n",
        "\n",
        "if num % 3 == 0 and num % 5 == 0:\n",
        "    print('fizzbuzz')\n",
        "elif num % 3 == 0:\n",
        "    print('fizz')\n",
        "elif num % 5 == 0:\n",
        "    print('buzz')\n",
        "else:\n",
        "    print(num)\n"
      ]
    },
    {
      "cell_type": "markdown",
      "id": "a8535bbc",
      "metadata": {
        "id": "a8535bbc"
      },
      "source": [
        "12. Make a Program that reads a number and displays the corresponding day of the week. (1-Sunday, 2- Monday, etc.), if you enter another value, an invalid value will appear."
      ]
    },
    {
      "cell_type": "code",
      "execution_count": null,
      "id": "c16333dc",
      "metadata": {
        "id": "c16333dc"
      },
      "outputs": [],
      "source": [
        "num = int(input('Enter a number between 1 and 7: '))\n",
        "\n",
        "if num == 1:\n",
        "    print('Sunday')\n",
        "elif num == 2:\n",
        "    print('Monday')\n",
        "elif num == 3:\n",
        "    print('Tuesday')\n",
        "elif num == 4:\n",
        "    print('Wednesday')\n",
        "elif num == 5:\n",
        "    print('Thursday')\n",
        "elif num == 6:\n",
        "    print('Friday')\n",
        "elif num == 7:\n",
        "    print('Saturday')\n",
        "else:\n",
        "    print('Invalid value')\n"
      ]
    },
    {
      "cell_type": "markdown",
      "id": "fc560bbc",
      "metadata": {
        "id": "fc560bbc"
      },
      "source": [
        "13. Make a program that asks the price of three products and tells you which product you should buy, knowing that the decision is always for the cheapest."
      ]
    },
    {
      "cell_type": "code",
      "execution_count": null,
      "id": "7c2d05ae",
      "metadata": {
        "id": "7c2d05ae"
      },
      "outputs": [],
      "source": [
        "# Ask for the price of three products\n",
        "price1 = float(input('Price of the first product: '))\n",
        "price2 = float(input('Price of the second product: '))\n",
        "price3 = float(input('Price of the third product: '))\n",
        "\n",
        "# Determine which product is the cheapest\n",
        "if price1 < price2 and price1 < price3:\n",
        "    print('You should buy the first product.')\n",
        "elif price2 < price1 and price2 < price3:\n",
        "    print('You should buy the second product.')\n",
        "else:\n",
        "    print('You should buy the third product.')\n"
      ]
    },
    {
      "cell_type": "markdown",
      "id": "9989468c",
      "metadata": {
        "id": "9989468c"
      },
      "source": []
    }
  ],
  "metadata": {
    "colab": {
      "provenance": []
    },
    "kernelspec": {
      "display_name": "Python 3 (ipykernel)",
      "language": "python",
      "name": "python3"
    },
    "language_info": {
      "codemirror_mode": {
        "name": "ipython",
        "version": 3
      },
      "file_extension": ".py",
      "mimetype": "text/x-python",
      "name": "python",
      "nbconvert_exporter": "python",
      "pygments_lexer": "ipython3",
      "version": "3.10.2"
    },
    "latex_envs": {
      "LaTeX_envs_menu_present": true,
      "autoclose": false,
      "autocomplete": true,
      "bibliofile": "biblio.bib",
      "cite_by": "apalike",
      "current_citInitial": 1,
      "eqLabelWithNumbers": true,
      "eqNumInitial": 1,
      "hotkeys": {
        "equation": "Ctrl-E",
        "itemize": "Ctrl-I"
      },
      "labels_anchors": false,
      "latex_user_defs": false,
      "report_style_numbering": false,
      "user_envs_cfg": false
    },
    "toc": {
      "base_numbering": 1,
      "nav_menu": {},
      "number_sections": true,
      "sideBar": true,
      "skip_h1_title": false,
      "title_cell": "Table of Contents",
      "title_sidebar": "Contents",
      "toc_cell": false,
      "toc_position": {},
      "toc_section_display": true,
      "toc_window_display": false
    },
    "varInspector": {
      "cols": {
        "lenName": 16,
        "lenType": 16,
        "lenVar": 40
      },
      "kernels_config": {
        "python": {
          "delete_cmd_postfix": "",
          "delete_cmd_prefix": "del ",
          "library": "var_list.py",
          "varRefreshCmd": "print(var_dic_list())"
        },
        "r": {
          "delete_cmd_postfix": ") ",
          "delete_cmd_prefix": "rm(",
          "library": "var_list.r",
          "varRefreshCmd": "cat(var_dic_list()) "
        }
      },
      "types_to_exclude": [
        "module",
        "function",
        "builtin_function_or_method",
        "instance",
        "_Feature"
      ],
      "window_display": false
    },
    "vscode": {
      "interpreter": {
        "hash": "5c66de18c091297d67c9a295278ca9503b5163a383fa85591c3cdb6daec33020"
      }
    }
  },
  "nbformat": 4,
  "nbformat_minor": 5
}
